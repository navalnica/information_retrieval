{
 "cells": [
  {
   "cell_type": "code",
   "execution_count": 1,
   "id": "fc779f93",
   "metadata": {},
   "outputs": [],
   "source": [
    "import os\n",
    "\n",
    "import pandas as pd"
   ]
  },
  {
   "cell_type": "code",
   "execution_count": null,
   "id": "aba5a5e9",
   "metadata": {},
   "outputs": [],
   "source": []
  },
  {
   "cell_type": "markdown",
   "id": "47f6e14c",
   "metadata": {},
   "source": [
    "## read data"
   ]
  },
  {
   "cell_type": "code",
   "execution_count": null,
   "id": "ae6de7d1",
   "metadata": {},
   "outputs": [],
   "source": []
  },
  {
   "cell_type": "markdown",
   "id": "38499f56",
   "metadata": {},
   "source": [
    "### parsed texts from wiki raw html pages"
   ]
  },
  {
   "cell_type": "code",
   "execution_count": 3,
   "id": "7f0e0f9f",
   "metadata": {},
   "outputs": [
    {
     "name": "stdout",
     "output_type": "stream",
     "text": [
      "(223619, 3)\n"
     ]
    }
   ],
   "source": [
    "wiki_dp = '/media/rtn/Windows 10/work/univier/wiki_extract/wiki_parsed'\n",
    "fp = os.path.join(wiki_dp, 'filepaths.csv')\n",
    "filemap = pd.read_csv(fp)\n",
    "print(filemap.shape)"
   ]
  },
  {
   "cell_type": "code",
   "execution_count": null,
   "id": "73caa2fc",
   "metadata": {},
   "outputs": [],
   "source": []
  },
  {
   "cell_type": "markdown",
   "id": "bf4d310d",
   "metadata": {},
   "source": [
    "### domain data to narrow search\n",
    "* 13105 / 15190 (or 86%) articles are found in our wiki extract. \n",
    "* check what articles are missed"
   ]
  },
  {
   "cell_type": "code",
   "execution_count": 174,
   "id": "714dd373",
   "metadata": {},
   "outputs": [
    {
     "data": {
      "text/plain": [
       "(15190,)"
      ]
     },
     "execution_count": 174,
     "metadata": {},
     "output_type": "execute_result"
    }
   ],
   "source": [
    "domain_articles = pd.read_csv('data/selected_docs.tsv', sep='\\t', header=None).iloc[:, 0]\n",
    "domain_articles = domain_articles.str.lower().str.strip()\n",
    "domain_articles = domain_articles.str.replace(r\"[:,!#'\\(\\);\\.\\/\\-–]\", '_', regex=True)\n",
    "domain_articles.shape"
   ]
  },
  {
   "cell_type": "code",
   "execution_count": 175,
   "id": "a47775e4",
   "metadata": {},
   "outputs": [
    {
     "data": {
      "text/plain": [
       "13105"
      ]
     },
     "execution_count": 175,
     "metadata": {},
     "output_type": "execute_result"
    }
   ],
   "source": [
    "len(set(domain_articles).intersection(filemap['filename']))"
   ]
  },
  {
   "cell_type": "code",
   "execution_count": 176,
   "id": "a0c0f0b6",
   "metadata": {},
   "outputs": [
    {
     "data": {
      "text/plain": [
       "(2082, 1)"
      ]
     },
     "execution_count": 176,
     "metadata": {},
     "output_type": "execute_result"
    }
   ],
   "source": [
    "not_matched = pd.DataFrame({'title': list(set(domain_articles).difference(filemap['filename']))})\n",
    "not_matched.shape"
   ]
  },
  {
   "cell_type": "code",
   "execution_count": 177,
   "id": "f8dedc08",
   "metadata": {},
   "outputs": [
    {
     "data": {
      "text/plain": [
       "True     1802\n",
       "False     280\n",
       "Name: is_alphanum, dtype: int64"
      ]
     },
     "execution_count": 177,
     "metadata": {},
     "output_type": "execute_result"
    }
   ],
   "source": [
    "not_matched['is_alphanum'] = not_matched['title'].str.fullmatch(r'[a-z0-9_]+')\n",
    "not_matched['is_alphanum'].value_counts()"
   ]
  },
  {
   "cell_type": "code",
   "execution_count": 178,
   "id": "72003611",
   "metadata": {},
   "outputs": [
    {
     "data": {
      "text/plain": [
       "['university_nuhelotʼįne_thaiyotsʼį_nistameyimâkanak_blue_quills',\n",
       " 'thalía',\n",
       " 'manú_national_park',\n",
       " 'musée_d_orsay',\n",
       " 'toys_\"r\"_us',\n",
       " 'coupé',\n",
       " 'düsseldorf_government_region',\n",
       " 'karl_wilhelm_von_nägeli',\n",
       " 'eats__shoots_&_leaves',\n",
       " 'mø']"
      ]
     },
     "execution_count": 178,
     "metadata": {},
     "output_type": "execute_result"
    }
   ],
   "source": [
    "not_matched.loc[~not_matched['is_alphanum'], 'title'].sample(10).tolist()"
   ]
  },
  {
   "cell_type": "code",
   "execution_count": 179,
   "id": "45869245",
   "metadata": {},
   "outputs": [
    {
     "data": {
      "text/plain": [
       "['flora__given_name_',\n",
       " 'new_year_s_evil',\n",
       " 'cinnamon_toast_crunch',\n",
       " '1990_fifa_world_cup_qualification___uefa_group_4',\n",
       " 'list_of_emmerdale_characters__2017_',\n",
       " 'haldighati_pass',\n",
       " 'emir_uyar',\n",
       " 'velioglu_s_chub',\n",
       " 'last_characters_in_waterloo_road__7__8__9__10_',\n",
       " 'list_of_u_s__cities_named_after_their_state']"
      ]
     },
     "execution_count": 179,
     "metadata": {},
     "output_type": "execute_result"
    }
   ],
   "source": [
    "not_matched.loc[not_matched['is_alphanum'], 'title'].sample(10).tolist()"
   ]
  },
  {
   "cell_type": "code",
   "execution_count": null,
   "id": "6c308c0c",
   "metadata": {},
   "outputs": [],
   "source": []
  },
  {
   "cell_type": "code",
   "execution_count": 180,
   "id": "1bf383d3",
   "metadata": {},
   "outputs": [
    {
     "data": {
      "text/html": [
       "<div>\n",
       "<style scoped>\n",
       "    .dataframe tbody tr th:only-of-type {\n",
       "        vertical-align: middle;\n",
       "    }\n",
       "\n",
       "    .dataframe tbody tr th {\n",
       "        vertical-align: top;\n",
       "    }\n",
       "\n",
       "    .dataframe thead th {\n",
       "        text-align: right;\n",
       "    }\n",
       "</style>\n",
       "<table border=\"1\" class=\"dataframe\">\n",
       "  <thead>\n",
       "    <tr style=\"text-align: right;\">\n",
       "      <th></th>\n",
       "      <th>filename</th>\n",
       "      <th>path</th>\n",
       "      <th>html_path</th>\n",
       "    </tr>\n",
       "  </thead>\n",
       "  <tbody>\n",
       "    <tr>\n",
       "      <th>44429</th>\n",
       "      <td>cinnamon</td>\n",
       "      <td>/media/rtn/Windows 10/work/univier/wiki_extrac...</td>\n",
       "      <td>/media/rtn/Windows 10/work/univier/wiki_extrac...</td>\n",
       "    </tr>\n",
       "  </tbody>\n",
       "</table>\n",
       "</div>"
      ],
      "text/plain": [
       "       filename                                               path  \\\n",
       "44429  cinnamon  /media/rtn/Windows 10/work/univier/wiki_extrac...   \n",
       "\n",
       "                                               html_path  \n",
       "44429  /media/rtn/Windows 10/work/univier/wiki_extrac...  "
      ]
     },
     "execution_count": 180,
     "metadata": {},
     "output_type": "execute_result"
    }
   ],
   "source": [
    "filemap[filemap['filename'].str.startswith('cinnamon')]"
   ]
  },
  {
   "cell_type": "code",
   "execution_count": 133,
   "id": "6782f284",
   "metadata": {},
   "outputs": [
    {
     "data": {
      "text/html": [
       "<div>\n",
       "<style scoped>\n",
       "    .dataframe tbody tr th:only-of-type {\n",
       "        vertical-align: middle;\n",
       "    }\n",
       "\n",
       "    .dataframe tbody tr th {\n",
       "        vertical-align: top;\n",
       "    }\n",
       "\n",
       "    .dataframe thead th {\n",
       "        text-align: right;\n",
       "    }\n",
       "</style>\n",
       "<table border=\"1\" class=\"dataframe\">\n",
       "  <thead>\n",
       "    <tr style=\"text-align: right;\">\n",
       "      <th></th>\n",
       "      <th>filename</th>\n",
       "      <th>path</th>\n",
       "      <th>html_path</th>\n",
       "    </tr>\n",
       "  </thead>\n",
       "  <tbody>\n",
       "  </tbody>\n",
       "</table>\n",
       "</div>"
      ],
      "text/plain": [
       "Empty DataFrame\n",
       "Columns: [filename, path, html_path]\n",
       "Index: []"
      ]
     },
     "execution_count": 133,
     "metadata": {},
     "output_type": "execute_result"
    }
   ],
   "source": [
    "filemap[filemap['filename'].str.contains(\"'\")]"
   ]
  },
  {
   "cell_type": "code",
   "execution_count": null,
   "id": "9111921f",
   "metadata": {},
   "outputs": [],
   "source": []
  },
  {
   "cell_type": "markdown",
   "id": "e0d01f7b",
   "metadata": {},
   "source": [
    "### OK, let's proceed with what we have"
   ]
  },
  {
   "cell_type": "code",
   "execution_count": 182,
   "id": "4ebc74d0",
   "metadata": {},
   "outputs": [
    {
     "data": {
      "text/plain": [
       "(15190,)"
      ]
     },
     "execution_count": 182,
     "metadata": {},
     "output_type": "execute_result"
    }
   ],
   "source": [
    "domain_articles.shape"
   ]
  },
  {
   "cell_type": "code",
   "execution_count": 191,
   "id": "86b24c64",
   "metadata": {},
   "outputs": [
    {
     "data": {
      "text/plain": [
       "13105"
      ]
     },
     "execution_count": 191,
     "metadata": {},
     "output_type": "execute_result"
    }
   ],
   "source": [
    "len(set(domain_articles).intersection(filemap['filename']))"
   ]
  },
  {
   "cell_type": "code",
   "execution_count": 190,
   "id": "d5a3dcb4",
   "metadata": {},
   "outputs": [
    {
     "name": "stdout",
     "output_type": "stream",
     "text": [
      "(13105, 3)\n"
     ]
    }
   ],
   "source": [
    "filemap = filemap[filemap['filename'].isin(domain_articles)].copy()\n",
    "print(filemap.shape)"
   ]
  },
  {
   "cell_type": "code",
   "execution_count": null,
   "id": "a43d1f35",
   "metadata": {},
   "outputs": [],
   "source": []
  },
  {
   "cell_type": "code",
   "execution_count": null,
   "id": "f4bfcc19",
   "metadata": {},
   "outputs": [],
   "source": []
  },
  {
   "cell_type": "markdown",
   "id": "cce937f7",
   "metadata": {},
   "source": [
    "## functions"
   ]
  },
  {
   "cell_type": "code",
   "execution_count": 193,
   "id": "e7a1660c",
   "metadata": {},
   "outputs": [],
   "source": [
    "def get_article_path(title):\n",
    "    return filemap.query('filename == @title.lower().strip()')['path'].iloc[0]\n",
    "\n",
    "def get_article_text(fp):\n",
    "    with open(fp) as fin: text = fin.read()\n",
    "    return text"
   ]
  },
  {
   "cell_type": "code",
   "execution_count": 205,
   "id": "ece33206",
   "metadata": {},
   "outputs": [
    {
     "name": "stdout",
     "output_type": "stream",
     "text": [
      "title: \"containment\"\n"
     ]
    },
    {
     "data": {
      "text/plain": [
       "'The policy of containment was a diplomatic strategy of the United States to prevent the spread of the communism during the Cold War. Economic support should bind countries to the United States. This was a counteraction against the new Soviet sphere of influence. In March 1947 the US president Harry Truman (1884-1972) announced support for countries which were threatened by military force. This speech is called \"Truman Doctrine\" nowadays. In detail, he promised support for Greece and Turkey against the Soviet Union. The most important part of the policy of containment was the \"European Recovery Program\" (1948), also known as \"Marshall Plan\", which should boost the European economy after the destruction in the Second World War using—most important—money, successful American economic models, and less European trade barriers.'"
      ]
     },
     "execution_count": 205,
     "metadata": {},
     "output_type": "execute_result"
    }
   ],
   "source": [
    "title = filemap.sample()['filename'].iloc[0]\n",
    "print(f'title: \"{title}\"')\n",
    "get_article_text(get_article_path(title))"
   ]
  },
  {
   "cell_type": "code",
   "execution_count": 207,
   "id": "877d4e8e",
   "metadata": {},
   "outputs": [
    {
     "data": {
      "text/plain": [
       "' A bikont (\"two flagellae\") is any eukaryotic organism in the group Bikonta. Many single-celled members of the group, and the presumed ancestor, have two flagella. Another shared trait of bikonts is the fusion of two genes into a single unit. The genes for thymidylate synthase (TS) and dihydrofolate reductase (DHFR) code for a single protein with two functions. The genes are separately translated in unikonts.'"
      ]
     },
     "execution_count": 207,
     "metadata": {},
     "output_type": "execute_result"
    }
   ],
   "source": [
    "get_article_text(get_article_path('bikont'))"
   ]
  },
  {
   "cell_type": "code",
   "execution_count": null,
   "id": "58c95545",
   "metadata": {},
   "outputs": [],
   "source": []
  },
  {
   "cell_type": "code",
   "execution_count": null,
   "id": "155b59f2",
   "metadata": {},
   "outputs": [],
   "source": []
  },
  {
   "cell_type": "code",
   "execution_count": null,
   "id": "6208a42d",
   "metadata": {},
   "outputs": [],
   "source": []
  },
  {
   "cell_type": "code",
   "execution_count": null,
   "id": "d9cd283f",
   "metadata": {},
   "outputs": [],
   "source": []
  },
  {
   "cell_type": "code",
   "execution_count": null,
   "id": "91f47d2f",
   "metadata": {},
   "outputs": [],
   "source": []
  },
  {
   "cell_type": "code",
   "execution_count": null,
   "id": "a4fcaae1",
   "metadata": {},
   "outputs": [],
   "source": []
  },
  {
   "cell_type": "code",
   "execution_count": null,
   "id": "e615f2eb",
   "metadata": {},
   "outputs": [],
   "source": []
  },
  {
   "cell_type": "code",
   "execution_count": null,
   "id": "16553de0",
   "metadata": {},
   "outputs": [],
   "source": []
  },
  {
   "cell_type": "code",
   "execution_count": null,
   "id": "4ab9580d",
   "metadata": {},
   "outputs": [],
   "source": []
  }
 ],
 "metadata": {
  "kernelspec": {
   "display_name": "Python 3 (ipykernel)",
   "language": "python",
   "name": "python3"
  },
  "language_info": {
   "codemirror_mode": {
    "name": "ipython",
    "version": 3
   },
   "file_extension": ".py",
   "mimetype": "text/x-python",
   "name": "python",
   "nbconvert_exporter": "python",
   "pygments_lexer": "ipython3",
   "version": "3.9.5"
  },
  "toc": {
   "base_numbering": 1,
   "nav_menu": {},
   "number_sections": true,
   "sideBar": true,
   "skip_h1_title": false,
   "title_cell": "Table of Contents",
   "title_sidebar": "Contents",
   "toc_cell": false,
   "toc_position": {},
   "toc_section_display": true,
   "toc_window_display": false
  }
 },
 "nbformat": 4,
 "nbformat_minor": 5
}
