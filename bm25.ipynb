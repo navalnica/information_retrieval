{
 "cells": [
  {
   "cell_type": "code",
   "execution_count": 1,
   "id": "f1490071",
   "metadata": {},
   "outputs": [],
   "source": [
    "import os\n",
    "import re\n",
    "import math\n",
    "\n",
    "from tqdm.auto import tqdm\n",
    "from collections import defaultdict\n",
    "\n",
    "import pandas as pd"
   ]
  },
  {
   "cell_type": "code",
   "execution_count": null,
   "id": "bd15b0a8",
   "metadata": {},
   "outputs": [],
   "source": []
  },
  {
   "cell_type": "markdown",
   "id": "5633c84b",
   "metadata": {},
   "source": [
    "## read data"
   ]
  },
  {
   "cell_type": "code",
   "execution_count": 2,
   "id": "837ffeb8",
   "metadata": {},
   "outputs": [],
   "source": [
    "def process_title(title: pd.Series):\n",
    "    title = title.str.lower().str.strip()\n",
    "    title = title.str.replace(r'([^\\w\\s])|_|-', '_', regex=True)\n",
    "    return title\n",
    "\n",
    "# def process_title2(title: pd.Series):\n",
    "#     title = title.str.lower().str.strip()\n",
    "#     title = title.str.replace(r\"[:,!#'\\(\\);\\.\\/\\-–]\", '_', regex=True)\n",
    "#     return title"
   ]
  },
  {
   "cell_type": "code",
   "execution_count": null,
   "id": "075ae2e4",
   "metadata": {},
   "outputs": [],
   "source": []
  },
  {
   "cell_type": "markdown",
   "id": "05119c66",
   "metadata": {},
   "source": [
    "### parsed texts from wiki raw html pages"
   ]
  },
  {
   "cell_type": "code",
   "execution_count": 3,
   "id": "e79de035",
   "metadata": {},
   "outputs": [
    {
     "name": "stdout",
     "output_type": "stream",
     "text": [
      "(223619, 3)\n"
     ]
    }
   ],
   "source": [
    "wiki_dp = '/media/rtn/Windows 10/work/univier/wiki_extract/wiki_parsed'\n",
    "fp = os.path.join(wiki_dp, 'filepaths.csv')\n",
    "filemap = pd.read_csv(fp)\n",
    "assert filemap.duplicated('filename').sum() == 0\n",
    "print(filemap.shape)"
   ]
  },
  {
   "cell_type": "code",
   "execution_count": 4,
   "id": "2fa2bb20",
   "metadata": {},
   "outputs": [
    {
     "data": {
      "text/html": [
       "<div>\n",
       "<style scoped>\n",
       "    .dataframe tbody tr th:only-of-type {\n",
       "        vertical-align: middle;\n",
       "    }\n",
       "\n",
       "    .dataframe tbody tr th {\n",
       "        vertical-align: top;\n",
       "    }\n",
       "\n",
       "    .dataframe thead th {\n",
       "        text-align: right;\n",
       "    }\n",
       "</style>\n",
       "<table border=\"1\" class=\"dataframe\">\n",
       "  <thead>\n",
       "    <tr style=\"text-align: right;\">\n",
       "      <th></th>\n",
       "      <th>filename</th>\n",
       "      <th>path</th>\n",
       "      <th>html_path</th>\n",
       "    </tr>\n",
       "  </thead>\n",
       "  <tbody>\n",
       "    <tr>\n",
       "      <th>0</th>\n",
       "      <td>000_emergency</td>\n",
       "      <td>/media/rtn/Windows 10/work/univier/wiki_extrac...</td>\n",
       "      <td>/media/rtn/Windows 10/work/univier/wiki_extrac...</td>\n",
       "    </tr>\n",
       "    <tr>\n",
       "      <th>1</th>\n",
       "      <td>0s_bc</td>\n",
       "      <td>/media/rtn/Windows 10/work/univier/wiki_extrac...</td>\n",
       "      <td>/media/rtn/Windows 10/work/univier/wiki_extrac...</td>\n",
       "    </tr>\n",
       "  </tbody>\n",
       "</table>\n",
       "</div>"
      ],
      "text/plain": [
       "        filename                                               path  \\\n",
       "0  000_emergency  /media/rtn/Windows 10/work/univier/wiki_extrac...   \n",
       "1          0s_bc  /media/rtn/Windows 10/work/univier/wiki_extrac...   \n",
       "\n",
       "                                           html_path  \n",
       "0  /media/rtn/Windows 10/work/univier/wiki_extrac...  \n",
       "1  /media/rtn/Windows 10/work/univier/wiki_extrac...  "
      ]
     },
     "execution_count": 4,
     "metadata": {},
     "output_type": "execute_result"
    }
   ],
   "source": [
    "filemap.head(2)"
   ]
  },
  {
   "cell_type": "code",
   "execution_count": null,
   "id": "204d8d48",
   "metadata": {},
   "outputs": [],
   "source": []
  },
  {
   "cell_type": "markdown",
   "id": "3d374577",
   "metadata": {},
   "source": [
    "### domain data to narrow search\n",
    "* 13112 / 15190 (or 86%) articles are found in our wiki extract. \n",
    "* check what articles are missed"
   ]
  },
  {
   "cell_type": "code",
   "execution_count": 5,
   "id": "0417a46a",
   "metadata": {},
   "outputs": [
    {
     "data": {
      "text/plain": [
       "(15190,)"
      ]
     },
     "execution_count": 5,
     "metadata": {},
     "output_type": "execute_result"
    }
   ],
   "source": [
    "domain_articles_raw = pd.read_csv('data/selected_docs.tsv', sep='\\t', header=None).iloc[:, 0]\n",
    "domain_articles = process_title(domain_articles_raw)\n",
    "domain_articles.shape"
   ]
  },
  {
   "cell_type": "code",
   "execution_count": 6,
   "id": "edac5bcf",
   "metadata": {},
   "outputs": [
    {
     "data": {
      "text/plain": [
       "4336                         Body_Double\n",
       "14619                        Body_double\n",
       "13476           Kennelly-Heaviside_layer\n",
       "10031           Kennelly–Heaviside_layer\n",
       "997      Voyage_To_The_Bottom_Of_The_Sea\n",
       "3991     Voyage_to_the_Bottom_of_the_Sea\n",
       "Name: 0, dtype: object"
      ]
     },
     "execution_count": 6,
     "metadata": {},
     "output_type": "execute_result"
    }
   ],
   "source": [
    "# there are some duplicates in domain\n",
    "domain_articles_raw[domain_articles.duplicated(keep=False)].sort_values()"
   ]
  },
  {
   "cell_type": "code",
   "execution_count": 7,
   "id": "451cf7b0",
   "metadata": {},
   "outputs": [
    {
     "data": {
      "text/plain": [
       "(15187,)"
      ]
     },
     "execution_count": 7,
     "metadata": {},
     "output_type": "execute_result"
    }
   ],
   "source": [
    "domain_articles.drop_duplicates(inplace=True)\n",
    "domain_articles.shape"
   ]
  },
  {
   "cell_type": "code",
   "execution_count": 8,
   "id": "bdef9648",
   "metadata": {},
   "outputs": [
    {
     "data": {
      "text/plain": [
       "13112"
      ]
     },
     "execution_count": 8,
     "metadata": {},
     "output_type": "execute_result"
    }
   ],
   "source": [
    "len(set(domain_articles).intersection(filemap['filename']))"
   ]
  },
  {
   "cell_type": "code",
   "execution_count": 9,
   "id": "5595b66b",
   "metadata": {},
   "outputs": [
    {
     "data": {
      "text/plain": [
       "(2075, 1)"
      ]
     },
     "execution_count": 9,
     "metadata": {},
     "output_type": "execute_result"
    }
   ],
   "source": [
    "not_matched = pd.DataFrame({'title': list(set(domain_articles).difference(filemap['filename']))})\n",
    "not_matched.shape"
   ]
  },
  {
   "cell_type": "code",
   "execution_count": 10,
   "id": "e67a0409",
   "metadata": {},
   "outputs": [
    {
     "data": {
      "text/plain": [
       "True     1842\n",
       "False     233\n",
       "Name: is_alphanum, dtype: int64"
      ]
     },
     "execution_count": 10,
     "metadata": {},
     "output_type": "execute_result"
    }
   ],
   "source": [
    "not_matched['is_alphanum'] = not_matched['title'].str.fullmatch(r'[a-z0-9_]+')\n",
    "not_matched['is_alphanum'].value_counts()"
   ]
  },
  {
   "cell_type": "code",
   "execution_count": 11,
   "id": "e2f98958",
   "metadata": {},
   "outputs": [
    {
     "data": {
      "text/plain": [
       "['the_beyoncé_experience__live',\n",
       " 'roman_à_clef',\n",
       " 'inō_tadataka',\n",
       " 'tōkaidō_shinkansen',\n",
       " 'álvaro_cunhal',\n",
       " 'pokémon_black_2_and_white_2',\n",
       " 'folie_à_deux',\n",
       " 'pokémon_mystery_dungeon__blue_rescue_team_and_red_rescue_team',\n",
       " 'jaraguá_do_sul',\n",
       " 'rosé_wine']"
      ]
     },
     "execution_count": 11,
     "metadata": {},
     "output_type": "execute_result"
    }
   ],
   "source": [
    "not_matched.loc[~not_matched['is_alphanum'], 'title'].sample(10).tolist()"
   ]
  },
  {
   "cell_type": "code",
   "execution_count": 12,
   "id": "21b08f59",
   "metadata": {},
   "outputs": [
    {
     "data": {
      "text/plain": [
       "['hayal_pass',\n",
       " 'south_african_cheetah',\n",
       " '1_giant_leap',\n",
       " 'manyas_spirlin',\n",
       " 'king_s_cross_st__pancras_tube_station',\n",
       " 'classical_unities',\n",
       " 'rene_sylva',\n",
       " 'die_deutschen_inschriften',\n",
       " 'brenda',\n",
       " 'dermal_bone']"
      ]
     },
     "execution_count": 12,
     "metadata": {},
     "output_type": "execute_result"
    }
   ],
   "source": [
    "not_matched.loc[not_matched['is_alphanum'], 'title'].sample(10).tolist()"
   ]
  },
  {
   "cell_type": "code",
   "execution_count": null,
   "id": "ad61d94e",
   "metadata": {},
   "outputs": [],
   "source": []
  },
  {
   "cell_type": "code",
   "execution_count": 13,
   "id": "1fd8dde7",
   "metadata": {},
   "outputs": [
    {
     "data": {
      "text/html": [
       "<div>\n",
       "<style scoped>\n",
       "    .dataframe tbody tr th:only-of-type {\n",
       "        vertical-align: middle;\n",
       "    }\n",
       "\n",
       "    .dataframe tbody tr th {\n",
       "        vertical-align: top;\n",
       "    }\n",
       "\n",
       "    .dataframe thead th {\n",
       "        text-align: right;\n",
       "    }\n",
       "</style>\n",
       "<table border=\"1\" class=\"dataframe\">\n",
       "  <thead>\n",
       "    <tr style=\"text-align: right;\">\n",
       "      <th></th>\n",
       "      <th>filename</th>\n",
       "      <th>path</th>\n",
       "      <th>html_path</th>\n",
       "    </tr>\n",
       "  </thead>\n",
       "  <tbody>\n",
       "    <tr>\n",
       "      <th>44429</th>\n",
       "      <td>cinnamon</td>\n",
       "      <td>/media/rtn/Windows 10/work/univier/wiki_extrac...</td>\n",
       "      <td>/media/rtn/Windows 10/work/univier/wiki_extrac...</td>\n",
       "    </tr>\n",
       "  </tbody>\n",
       "</table>\n",
       "</div>"
      ],
      "text/plain": [
       "       filename                                               path  \\\n",
       "44429  cinnamon  /media/rtn/Windows 10/work/univier/wiki_extrac...   \n",
       "\n",
       "                                               html_path  \n",
       "44429  /media/rtn/Windows 10/work/univier/wiki_extrac...  "
      ]
     },
     "execution_count": 13,
     "metadata": {},
     "output_type": "execute_result"
    }
   ],
   "source": [
    "filemap[filemap['filename'].str.startswith('cinnamon')]"
   ]
  },
  {
   "cell_type": "code",
   "execution_count": 14,
   "id": "8bf6ef06",
   "metadata": {},
   "outputs": [
    {
     "data": {
      "text/html": [
       "<div>\n",
       "<style scoped>\n",
       "    .dataframe tbody tr th:only-of-type {\n",
       "        vertical-align: middle;\n",
       "    }\n",
       "\n",
       "    .dataframe tbody tr th {\n",
       "        vertical-align: top;\n",
       "    }\n",
       "\n",
       "    .dataframe thead th {\n",
       "        text-align: right;\n",
       "    }\n",
       "</style>\n",
       "<table border=\"1\" class=\"dataframe\">\n",
       "  <thead>\n",
       "    <tr style=\"text-align: right;\">\n",
       "      <th></th>\n",
       "      <th>filename</th>\n",
       "      <th>path</th>\n",
       "      <th>html_path</th>\n",
       "    </tr>\n",
       "  </thead>\n",
       "  <tbody>\n",
       "  </tbody>\n",
       "</table>\n",
       "</div>"
      ],
      "text/plain": [
       "Empty DataFrame\n",
       "Columns: [filename, path, html_path]\n",
       "Index: []"
      ]
     },
     "execution_count": 14,
     "metadata": {},
     "output_type": "execute_result"
    }
   ],
   "source": [
    "filemap[filemap['filename'].str.contains(\"'\")]"
   ]
  },
  {
   "cell_type": "code",
   "execution_count": null,
   "id": "a249c297",
   "metadata": {},
   "outputs": [],
   "source": []
  },
  {
   "cell_type": "markdown",
   "id": "359cea66",
   "metadata": {},
   "source": [
    "### OK, let's proceed with what we have"
   ]
  },
  {
   "cell_type": "code",
   "execution_count": 15,
   "id": "5089523d",
   "metadata": {},
   "outputs": [
    {
     "data": {
      "text/plain": [
       "(15187,)"
      ]
     },
     "execution_count": 15,
     "metadata": {},
     "output_type": "execute_result"
    }
   ],
   "source": [
    "domain_articles.shape"
   ]
  },
  {
   "cell_type": "code",
   "execution_count": 16,
   "id": "051638f5",
   "metadata": {},
   "outputs": [
    {
     "data": {
      "text/plain": [
       "13112"
      ]
     },
     "execution_count": 16,
     "metadata": {},
     "output_type": "execute_result"
    }
   ],
   "source": [
    "len(set(domain_articles).intersection(filemap['filename']))"
   ]
  },
  {
   "cell_type": "code",
   "execution_count": 17,
   "id": "cea8a2ef",
   "metadata": {},
   "outputs": [
    {
     "name": "stdout",
     "output_type": "stream",
     "text": [
      "(223619, 3)\n",
      "(13112, 3)\n"
     ]
    }
   ],
   "source": [
    "filemap_raw = filemap.copy()\n",
    "filemap = filemap[filemap['filename'].isin(domain_articles)].copy()\n",
    "print(filemap_raw.shape)\n",
    "print(filemap.shape)"
   ]
  },
  {
   "cell_type": "code",
   "execution_count": null,
   "id": "5d19bb37",
   "metadata": {},
   "outputs": [],
   "source": []
  },
  {
   "cell_type": "markdown",
   "id": "8fecfa37",
   "metadata": {},
   "source": [
    "### read target"
   ]
  },
  {
   "cell_type": "code",
   "execution_count": 18,
   "id": "a17351af",
   "metadata": {},
   "outputs": [
    {
     "name": "stdout",
     "output_type": "stream",
     "text": [
      "(200, 2)\n"
     ]
    },
    {
     "data": {
      "text/html": [
       "<div>\n",
       "<style scoped>\n",
       "    .dataframe tbody tr th:only-of-type {\n",
       "        vertical-align: middle;\n",
       "    }\n",
       "\n",
       "    .dataframe tbody tr th {\n",
       "        vertical-align: top;\n",
       "    }\n",
       "\n",
       "    .dataframe thead th {\n",
       "        text-align: right;\n",
       "    }\n",
       "</style>\n",
       "<table border=\"1\" class=\"dataframe\">\n",
       "  <thead>\n",
       "    <tr style=\"text-align: right;\">\n",
       "      <th></th>\n",
       "      <th>query</th>\n",
       "      <th>title</th>\n",
       "    </tr>\n",
       "  </thead>\n",
       "  <tbody>\n",
       "    <tr>\n",
       "      <th>0</th>\n",
       "      <td>animals that have shells and live in water</td>\n",
       "      <td>shell__zoology_</td>\n",
       "    </tr>\n",
       "    <tr>\n",
       "      <th>1</th>\n",
       "      <td>how many different types of scorpions are there</td>\n",
       "      <td>scorpion</td>\n",
       "    </tr>\n",
       "    <tr>\n",
       "      <th>2</th>\n",
       "      <td>describe the structure of a scientific name fo...</td>\n",
       "      <td>binomial_nomenclature</td>\n",
       "    </tr>\n",
       "  </tbody>\n",
       "</table>\n",
       "</div>"
      ],
      "text/plain": [
       "                                               query                  title\n",
       "0         animals that have shells and live in water        shell__zoology_\n",
       "1    how many different types of scorpions are there               scorpion\n",
       "2  describe the structure of a scientific name fo...  binomial_nomenclature"
      ]
     },
     "execution_count": 18,
     "metadata": {},
     "output_type": "execute_result"
    }
   ],
   "source": [
    "target = pd.read_csv('data/queries.tsv', sep='\\t', header=None)\n",
    "target.columns = ['query', 'title']\n",
    "target['title'] = process_title(target['title'])\n",
    "\n",
    "print(target.shape)\n",
    "target.head(3)"
   ]
  },
  {
   "cell_type": "code",
   "execution_count": 19,
   "id": "c9458c93",
   "metadata": {},
   "outputs": [
    {
     "name": "stdout",
     "output_type": "stream",
     "text": [
      "58\n",
      "0\n"
     ]
    }
   ],
   "source": [
    "print(target.duplicated(\"title\").sum())\n",
    "print(target.duplicated().sum())"
   ]
  },
  {
   "cell_type": "code",
   "execution_count": 20,
   "id": "363f5ef0",
   "metadata": {},
   "outputs": [
    {
     "name": "stdout",
     "output_type": "stream",
     "text": [
      "titles in intersection: 137\n",
      "target.shape after filtering: (194, 2)\n"
     ]
    }
   ],
   "source": [
    "common = list(set(target['title']).intersection(filemap['filename']))\n",
    "print(f'titles in intersection: {len(common)}')\n",
    "\n",
    "target = target[target['title'].isin(common)].copy()\n",
    "print(f'target.shape after filtering: {target.shape}')"
   ]
  },
  {
   "cell_type": "code",
   "execution_count": null,
   "id": "fc0669a3",
   "metadata": {},
   "outputs": [],
   "source": []
  },
  {
   "cell_type": "code",
   "execution_count": null,
   "id": "c7d35111",
   "metadata": {},
   "outputs": [],
   "source": []
  },
  {
   "cell_type": "markdown",
   "id": "1ccca3eb",
   "metadata": {},
   "source": [
    "## functions"
   ]
  },
  {
   "cell_type": "code",
   "execution_count": 21,
   "id": "154e1070",
   "metadata": {},
   "outputs": [],
   "source": [
    "def get_article_path(title):\n",
    "    return filemap.query('filename == @title.lower().strip()')['path'].iloc[0]\n",
    "\n",
    "def get_article_text(fp):\n",
    "    with open(fp) as fin: text = fin.read()\n",
    "    return text"
   ]
  },
  {
   "cell_type": "code",
   "execution_count": 22,
   "id": "59ccd94f",
   "metadata": {},
   "outputs": [],
   "source": [
    "def tokenize(text):\n",
    "    text = text.lower()\n",
    "    text = re.sub(r'[^\\w\\s\\-]+', '', text)\n",
    "    text = re.sub(r'\\s+', ' ', text)\n",
    "    text = text.strip()\n",
    "    tokens = text.split(' ')\n",
    "    return tokens"
   ]
  },
  {
   "cell_type": "code",
   "execution_count": 23,
   "id": "a370a22a",
   "metadata": {},
   "outputs": [],
   "source": [
    "def accuracy(titles_true, title_predictions, k=1):\n",
    "    \"\"\" Assert title_predictions are sorted descending. \"\"\"\n",
    "    assert len(titles_true) == len(title_predictions)\n",
    "    acc = 0\n",
    "    for t_true, t_preds in zip(titles_true, title_predictions):\n",
    "        acc += t_true in t_preds[:k]\n",
    "    return acc / len(titles_true)\n",
    "\n",
    "def mean_reciprocal_rank(titles_true, title_predictions, k=1):\n",
    "    \"\"\" Assert title_predictions are sorted descending. \"\"\"\n",
    "    assert len(titles_true) == len(title_predictions)\n",
    "    rr = 0\n",
    "    for t_true, t_preds in zip(titles_true, title_predictions):\n",
    "        for i in range(k):\n",
    "            if t_true == t_preds[i]:\n",
    "                rr += 1 / (i + 1)\n",
    "                break\n",
    "    return rr / len(titles_true)"
   ]
  },
  {
   "cell_type": "code",
   "execution_count": 24,
   "id": "8e5a9d26",
   "metadata": {},
   "outputs": [],
   "source": [
    "def evaluate(predict_fn, queries, titles_true, **kwargs):\n",
    "    preds = []\n",
    "    for query in tqdm(queries):\n",
    "        q_tokens = tokenize(query)\n",
    "        q_preds = predict_fn(q_tokens, **kwargs)\n",
    "        q_preds = [p[0] for p in q_preds]\n",
    "        preds.append(q_preds)\n",
    "    \n",
    "    acc1 = accuracy(titles_true=titles_true, title_predictions=preds, k=1)\n",
    "    acc10 = accuracy(titles_true=titles_true, title_predictions=preds, k=10)\n",
    "    mrr10 = mean_reciprocal_rank(titles_true=titles_true, title_predictions=preds, k=10)\n",
    "    return dict(acc1=acc1, acc10=acc10, mrr10=mrr10, n_queries=len(queries))"
   ]
  },
  {
   "cell_type": "code",
   "execution_count": 25,
   "id": "cade5a79",
   "metadata": {},
   "outputs": [],
   "source": [
    "class BM25:\n",
    "\n",
    "    def __init__(self):\n",
    "        self.n_articles = 0\n",
    "        self.article_token_cnt = None       # article -> dict with token count in this article\n",
    "        self.inverted_index = None          # token   -> set of article titles with this token\n",
    "        self.n_articles_w_token = None      # token   -> number of articles with this token\n",
    "        self.article_len = None             # article -> number of tokens in article\n",
    "\n",
    "    def fit(self, titles):\n",
    "        assert len(titles) == len(set(titles))\n",
    "        self.n_articles = len(titles)\n",
    "        self.article_token_cnt = dict()\n",
    "        self.inverted_index = defaultdict(set)\n",
    "        self.article_len = dict()\n",
    "\n",
    "        for title in titles:\n",
    "            text = get_article_text(get_article_path(title))\n",
    "            tokens = tokenize(text)\n",
    "            self.article_len[title] = len(tokens)\n",
    "            local_article_token_cnt = defaultdict(int)\n",
    "            for tok in tokens:\n",
    "                local_article_token_cnt[tok] += 1\n",
    "                self.inverted_index[tok].add(title)\n",
    "            self.article_token_cnt[title] = local_article_token_cnt\n",
    "\n",
    "        self.mean_article_len = sum(self.article_len.values()) / self.n_articles\n",
    "        self.n_articles_w_token = {tok: len(articles) for tok, articles in self.inverted_index.items()}\n",
    "\n",
    "    def predict(self, q_tokens, k1, k2, b, top_k=10):\n",
    "        query_token_cnt = defaultdict(int)\n",
    "        for tok in q_tokens:\n",
    "            query_token_cnt[tok] += 1\n",
    "\n",
    "        article_score = defaultdict(float)\n",
    "        rel_article_titles = set()\n",
    "\n",
    "        for tok in q_tokens:\n",
    "            if self.n_articles_w_token.get(tok, 0) == 0:  # use get to save memory accessing defaultdict\n",
    "                continue\n",
    "\n",
    "            rel_article_titles.update(self.inverted_index[tok])\n",
    "            for title in rel_article_titles:\n",
    "                K = k1 * (1 - b) + k1 * b * self.article_len[title] / self.mean_article_len\n",
    "                article_cnt = self.article_token_cnt[title].get(tok, 0)  # use get to save memory accessing defaultdict\n",
    "                x = math.log(self.n_articles + 1) - math.log(self.n_articles_w_token[tok])\n",
    "                x *= (k1 + 1) * article_cnt / (K + article_cnt)\n",
    "                x *= (k2 + 1) * query_token_cnt[tok] / (k2 + query_token_cnt[tok])\n",
    "                article_score[title] += x\n",
    "\n",
    "        article_score = sorted(article_score.items(), key=lambda x: x[1], reverse=True)\n",
    "        article_score = article_score[:top_k]\n",
    "        return article_score\n",
    "\n",
    "    def predict_tfidf(self, q_tokens, top_k=10):\n",
    "        \"\"\" Use simple tf-idf features to predict. \"\"\"\n",
    "        query_token_cnt = defaultdict(int)\n",
    "        for tok in q_tokens:\n",
    "            query_token_cnt[tok] += 1\n",
    "\n",
    "        article_score = defaultdict(float)\n",
    "        rel_article_titles = set()\n",
    "\n",
    "        for tok in q_tokens:\n",
    "            if self.n_articles_w_token.get(tok, 0) == 0:  # use get to save memory accessing defaultdict\n",
    "                continue\n",
    "\n",
    "            rel_article_titles.update(self.inverted_index[tok])\n",
    "            for title in rel_article_titles:\n",
    "                article_cnt = self.article_token_cnt[title].get(tok, 0)  # use get to save memory accessing defaultdict\n",
    "                x = math.log(self.n_articles + 1) - math.log(self.n_articles_w_token[tok])\n",
    "                x *= math.log(article_cnt + 1)\n",
    "                article_score[title] += x\n",
    "\n",
    "        article_score = sorted(article_score.items(), key=lambda x: x[1], reverse=True)\n",
    "        article_score = article_score[:top_k]\n",
    "        return article_score"
   ]
  },
  {
   "cell_type": "code",
   "execution_count": null,
   "id": "b928e55f",
   "metadata": {},
   "outputs": [],
   "source": []
  },
  {
   "cell_type": "markdown",
   "id": "c05e1ed1",
   "metadata": {},
   "source": [
    "### example"
   ]
  },
  {
   "cell_type": "code",
   "execution_count": 26,
   "id": "f91f5d52",
   "metadata": {},
   "outputs": [
    {
     "name": "stdout",
     "output_type": "stream",
     "text": [
      "title: \"deluge_myth\"\n",
      "A Deluge myth or Flood myth is a mythical story about a flood. Usually this flood is sent by a deity to destroy a civilisation as a punishment. The theme can be found in many cultures. Well-known examples that are believed to be myths include the story of Noah's Ark in the Bible, the Hindu Puranic story of Manu, Deucalion in Greek mythology or Utnapishtim in the Epic of Gilgamesh.\n",
      "['a', 'deluge', 'myth', 'or', 'flood', 'myth', 'is', 'a', 'mythical', 'story', 'about', 'a', 'flood', 'usually', 'this', 'flood', 'is', 'sent', 'by', 'a', 'deity', 'to', 'destroy', 'a', 'civilisation', 'as', 'a', 'punishment', 'the', 'theme', 'can', 'be', 'found', 'in', 'many', 'cultures', 'well-known', 'examples', 'that', 'are', 'believed', 'to', 'be', 'myths', 'include', 'the', 'story', 'of', 'noahs', 'ark', 'in', 'the', 'bible', 'the', 'hindu', 'puranic', 'story', 'of', 'manu', 'deucalion', 'in', 'greek', 'mythology', 'or', 'utnapishtim', 'in', 'the', 'epic', 'of', 'gilgamesh']\n"
     ]
    }
   ],
   "source": [
    "title = filemap.sample()['filename'].iloc[0]\n",
    "print(f'title: \"{title}\"')\n",
    "text = get_article_text(get_article_path(title))\n",
    "tokens = tokenize(text)\n",
    "print(text)\n",
    "print(tokens)"
   ]
  },
  {
   "cell_type": "code",
   "execution_count": null,
   "id": "444b361b",
   "metadata": {},
   "outputs": [],
   "source": []
  },
  {
   "cell_type": "markdown",
   "id": "6903738a",
   "metadata": {},
   "source": [
    "## fit model"
   ]
  },
  {
   "cell_type": "code",
   "execution_count": 27,
   "id": "8f00187c",
   "metadata": {},
   "outputs": [
    {
     "name": "stdout",
     "output_type": "stream",
     "text": [
      "# of articles model was fit on:\t13112\n",
      "# of tokens in fitted model:\t187248\n"
     ]
    }
   ],
   "source": [
    "# titles = filemap['filename'].sample(2000).tolist()\n",
    "titles = filemap['filename'].tolist()\n",
    "\n",
    "bm25 = BM25()\n",
    "bm25.fit(titles)\n",
    "\n",
    "print(f'# of articles model was fit on:\\t{bm25.n_articles}')\n",
    "print(f'# of tokens in fitted model:\\t{len(bm25.n_articles_w_token)}')"
   ]
  },
  {
   "cell_type": "code",
   "execution_count": null,
   "id": "872cd279",
   "metadata": {},
   "outputs": [],
   "source": []
  },
  {
   "cell_type": "markdown",
   "id": "9ec79f35",
   "metadata": {},
   "source": [
    "## evaluate bm25 (default params) vs tfidf"
   ]
  },
  {
   "cell_type": "code",
   "execution_count": 28,
   "id": "90005924",
   "metadata": {},
   "outputs": [
    {
     "name": "stdout",
     "output_type": "stream",
     "text": [
      "[coronovirus in belarus]\n",
      "  10.89  covid_19_pandemic_in_belarus\n",
      "  10.51  daugava_river\n",
      "   9.28  junior_eurovision_song_contest_2015\n",
      "   9.19  junior_eurovision_song_contest_2014\n",
      "   8.88  bug_river\n",
      "\n",
      "\n",
      "[who won junior eurovision in 2005]\n",
      "  22.52  eurovision__europe_shine_a_light\n",
      "  20.61  junior_eurovision_song_contest_2004\n",
      "  17.19  junior_eurovision_song_contest_2019\n",
      "  15.44  blue__group_\n",
      "  14.15  darin_zanyar\n",
      "\n",
      "\n",
      "[science about full-text search]\n",
      "  17.41  information_retrieval\n",
      "  13.63  optimization__disambiguation_\n",
      "  11.04  citizen_science\n",
      "  10.31  ask_com\n",
      "  10.29  monty_python_and_the_holy_grail\n",
      "\n",
      "\n"
     ]
    }
   ],
   "source": [
    "for query in [\"coronovirus in belarus\",\n",
    "              \"who won junior eurovision in 2005\",\n",
    "              \"science about full-text search\",\n",
    "             ]:\n",
    "    q_tokens = tokenize(query)\n",
    "    result = bm25.predict(q_tokens, k1=1, k2=1, b=1)[:5]\n",
    "    print(f\"[{query}]\")\n",
    "    for article_name, score in result:\n",
    "        print(f\"{score:7.2f}  {article_name}\")\n",
    "    print(\"\\n\")"
   ]
  },
  {
   "cell_type": "code",
   "execution_count": 29,
   "id": "7a97ae77",
   "metadata": {},
   "outputs": [
    {
     "name": "stdout",
     "output_type": "stream",
     "text": [
      "[coronovirus in belarus]\n",
      "  10.43  covid_19_pandemic_in_belarus\n",
      "   8.54  poland\n",
      "   8.40  nuclear_accident\n",
      "   8.32  list_of_ice_hockey_leagues\n",
      "   7.84  junior_eurovision_song_contest_2014\n",
      "\n",
      "\n",
      "[who won junior eurovision in 2005]\n",
      "  27.20  list_of_people_from_texas\n",
      "  26.87  2011_australian_open\n",
      "  26.67  rockefeller_family\n",
      "  26.35  jackie_robinson\n",
      "  25.29  list_of_dinosaurs\n",
      "\n",
      "\n",
      "[science about full-text search]\n",
      "  23.22  google_search\n",
      "  16.10  science_fiction\n",
      "  15.50  ursula_k__le_guin\n",
      "  15.10  information_retrieval\n",
      "  14.57  philosophy_of_science\n",
      "\n",
      "\n"
     ]
    }
   ],
   "source": [
    "for query in [\"coronovirus in belarus\",\n",
    "              \"who won junior eurovision in 2005\",\n",
    "              \"science about full-text search\",\n",
    "             ]:\n",
    "    q_tokens = tokenize(query)\n",
    "    result = bm25.predict_tfidf(q_tokens)[:5]\n",
    "    print(f\"[{query}]\")\n",
    "    for article_name, score in result:\n",
    "        print(f\"{score:7.2f}  {article_name}\")\n",
    "    print(\"\\n\")"
   ]
  },
  {
   "cell_type": "code",
   "execution_count": null,
   "id": "8f7acd10",
   "metadata": {},
   "outputs": [],
   "source": []
  },
  {
   "cell_type": "code",
   "execution_count": 30,
   "id": "5d25992e",
   "metadata": {},
   "outputs": [],
   "source": [
    "queries = target['query'].tolist()\n",
    "titles_true = target['title'].tolist()"
   ]
  },
  {
   "cell_type": "code",
   "execution_count": 31,
   "id": "15798f8a",
   "metadata": {},
   "outputs": [
    {
     "data": {
      "application/vnd.jupyter.widget-view+json": {
       "model_id": "1a55aa5de2074724a7a9736db3d60e08",
       "version_major": 2,
       "version_minor": 0
      },
      "text/plain": [
       "  0%|          | 0/194 [00:00<?, ?it/s]"
      ]
     },
     "metadata": {},
     "output_type": "display_data"
    },
    {
     "data": {
      "application/vnd.jupyter.widget-view+json": {
       "model_id": "c6fa82bdc97d465084565789bb4a48e2",
       "version_major": 2,
       "version_minor": 0
      },
      "text/plain": [
       "  0%|          | 0/194 [00:00<?, ?it/s]"
      ]
     },
     "metadata": {},
     "output_type": "display_data"
    },
    {
     "data": {
      "text/html": [
       "<div>\n",
       "<style scoped>\n",
       "    .dataframe tbody tr th:only-of-type {\n",
       "        vertical-align: middle;\n",
       "    }\n",
       "\n",
       "    .dataframe tbody tr th {\n",
       "        vertical-align: top;\n",
       "    }\n",
       "\n",
       "    .dataframe thead th {\n",
       "        text-align: right;\n",
       "    }\n",
       "</style>\n",
       "<table border=\"1\" class=\"dataframe\">\n",
       "  <thead>\n",
       "    <tr style=\"text-align: right;\">\n",
       "      <th></th>\n",
       "      <th>acc1</th>\n",
       "      <th>acc10</th>\n",
       "      <th>mrr10</th>\n",
       "      <th>n_queries</th>\n",
       "    </tr>\n",
       "  </thead>\n",
       "  <tbody>\n",
       "    <tr>\n",
       "      <th>bm25</th>\n",
       "      <td>0.185567</td>\n",
       "      <td>0.474227</td>\n",
       "      <td>0.271167</td>\n",
       "      <td>194</td>\n",
       "    </tr>\n",
       "    <tr>\n",
       "      <th>tfidf</th>\n",
       "      <td>0.030928</td>\n",
       "      <td>0.190722</td>\n",
       "      <td>0.079287</td>\n",
       "      <td>194</td>\n",
       "    </tr>\n",
       "  </tbody>\n",
       "</table>\n",
       "</div>"
      ],
      "text/plain": [
       "           acc1     acc10     mrr10  n_queries\n",
       "bm25   0.185567  0.474227  0.271167        194\n",
       "tfidf  0.030928  0.190722  0.079287        194"
      ]
     },
     "execution_count": 31,
     "metadata": {},
     "output_type": "execute_result"
    }
   ],
   "source": [
    "bm25_metrics = evaluate(bm25.predict, queries, titles_true, k1=1, k2=1, b=1, top_k=10)\n",
    "tfidf_metrics = evaluate(bm25.predict_tfidf, queries, titles_true, top_k=10)\n",
    "metrics = pd.DataFrame.from_records([bm25_metrics, tfidf_metrics], index=['bm25', 'tfidf'])\n",
    "metrics"
   ]
  },
  {
   "cell_type": "code",
   "execution_count": null,
   "id": "3cddd6e5",
   "metadata": {},
   "outputs": [],
   "source": []
  },
  {
   "cell_type": "markdown",
   "id": "4ffebb78",
   "metadata": {},
   "source": [
    "* we see that bm25 performs better than tfidf. \n",
    "  perhaps because:\n",
    "  * bm25 uses term frequencies in query document\n",
    "  * and weights are added to term frequencies in article document"
   ]
  },
  {
   "cell_type": "code",
   "execution_count": null,
   "id": "70a3e7f0",
   "metadata": {},
   "outputs": [],
   "source": []
  },
  {
   "cell_type": "markdown",
   "id": "973ced85",
   "metadata": {},
   "source": [
    "## hyperparameters search\n",
    "\n",
    "* as long as we have small evaluation set (<= 200 records) we won't split it into validation, test subsets.\n",
    "  we'll tune parameters on the whole sample"
   ]
  },
  {
   "cell_type": "code",
   "execution_count": 34,
   "id": "9266f52c",
   "metadata": {
    "scrolled": true
   },
   "outputs": [
    {
     "data": {
      "application/vnd.jupyter.widget-view+json": {
       "model_id": "c4647f1a66734cd3b95ad5e020e9eaf4",
       "version_major": 2,
       "version_minor": 0
      },
      "text/plain": [
       "  0%|          | 0/194 [00:00<?, ?it/s]"
      ]
     },
     "metadata": {},
     "output_type": "display_data"
    },
    {
     "data": {
      "application/vnd.jupyter.widget-view+json": {
       "model_id": "a617d824c5a94a078ff0e4a1bee85e87",
       "version_major": 2,
       "version_minor": 0
      },
      "text/plain": [
       "  0%|          | 0/194 [00:00<?, ?it/s]"
      ]
     },
     "metadata": {},
     "output_type": "display_data"
    },
    {
     "data": {
      "application/vnd.jupyter.widget-view+json": {
       "model_id": "9039038e00ce4a07908f4e1e7b7cabd8",
       "version_major": 2,
       "version_minor": 0
      },
      "text/plain": [
       "  0%|          | 0/194 [00:00<?, ?it/s]"
      ]
     },
     "metadata": {},
     "output_type": "display_data"
    },
    {
     "data": {
      "application/vnd.jupyter.widget-view+json": {
       "model_id": "aece97e4e5ed464f8f593001857e32e6",
       "version_major": 2,
       "version_minor": 0
      },
      "text/plain": [
       "  0%|          | 0/194 [00:00<?, ?it/s]"
      ]
     },
     "metadata": {},
     "output_type": "display_data"
    },
    {
     "data": {
      "application/vnd.jupyter.widget-view+json": {
       "model_id": "2387a464f7f14aefb16ab029189d20e1",
       "version_major": 2,
       "version_minor": 0
      },
      "text/plain": [
       "  0%|          | 0/194 [00:00<?, ?it/s]"
      ]
     },
     "metadata": {},
     "output_type": "display_data"
    },
    {
     "data": {
      "application/vnd.jupyter.widget-view+json": {
       "model_id": "5305123bd0fd4e03816357c719dce3b5",
       "version_major": 2,
       "version_minor": 0
      },
      "text/plain": [
       "  0%|          | 0/194 [00:00<?, ?it/s]"
      ]
     },
     "metadata": {},
     "output_type": "display_data"
    },
    {
     "data": {
      "application/vnd.jupyter.widget-view+json": {
       "model_id": "26ca5d63351b430bac56884bcfc0b43c",
       "version_major": 2,
       "version_minor": 0
      },
      "text/plain": [
       "  0%|          | 0/194 [00:00<?, ?it/s]"
      ]
     },
     "metadata": {},
     "output_type": "display_data"
    },
    {
     "data": {
      "application/vnd.jupyter.widget-view+json": {
       "model_id": "7a6da3c5ceb2424a9776dd5c506ba90d",
       "version_major": 2,
       "version_minor": 0
      },
      "text/plain": [
       "  0%|          | 0/194 [00:00<?, ?it/s]"
      ]
     },
     "metadata": {},
     "output_type": "display_data"
    },
    {
     "data": {
      "application/vnd.jupyter.widget-view+json": {
       "model_id": "b27d75ed98724dd385faa895aa8c8941",
       "version_major": 2,
       "version_minor": 0
      },
      "text/plain": [
       "  0%|          | 0/194 [00:00<?, ?it/s]"
      ]
     },
     "metadata": {},
     "output_type": "display_data"
    },
    {
     "data": {
      "application/vnd.jupyter.widget-view+json": {
       "model_id": "6875d6be71174210aa3a7fdc3f974bfc",
       "version_major": 2,
       "version_minor": 0
      },
      "text/plain": [
       "  0%|          | 0/194 [00:00<?, ?it/s]"
      ]
     },
     "metadata": {},
     "output_type": "display_data"
    },
    {
     "data": {
      "application/vnd.jupyter.widget-view+json": {
       "model_id": "f94ed6921a884bb1ab72fca82b17ca5c",
       "version_major": 2,
       "version_minor": 0
      },
      "text/plain": [
       "  0%|          | 0/194 [00:00<?, ?it/s]"
      ]
     },
     "metadata": {},
     "output_type": "display_data"
    },
    {
     "data": {
      "application/vnd.jupyter.widget-view+json": {
       "model_id": "b827e86e6cf948a1a9ec050e3a8199f0",
       "version_major": 2,
       "version_minor": 0
      },
      "text/plain": [
       "  0%|          | 0/194 [00:00<?, ?it/s]"
      ]
     },
     "metadata": {},
     "output_type": "display_data"
    },
    {
     "data": {
      "application/vnd.jupyter.widget-view+json": {
       "model_id": "52e2affd8384462c80e47395a9a1eee0",
       "version_major": 2,
       "version_minor": 0
      },
      "text/plain": [
       "  0%|          | 0/194 [00:00<?, ?it/s]"
      ]
     },
     "metadata": {},
     "output_type": "display_data"
    },
    {
     "data": {
      "application/vnd.jupyter.widget-view+json": {
       "model_id": "70142aed9c3a4709a84ff42e091b5b12",
       "version_major": 2,
       "version_minor": 0
      },
      "text/plain": [
       "  0%|          | 0/194 [00:00<?, ?it/s]"
      ]
     },
     "metadata": {},
     "output_type": "display_data"
    },
    {
     "data": {
      "application/vnd.jupyter.widget-view+json": {
       "model_id": "95b82595e6ee45a49397bbe519e90db4",
       "version_major": 2,
       "version_minor": 0
      },
      "text/plain": [
       "  0%|          | 0/194 [00:00<?, ?it/s]"
      ]
     },
     "metadata": {},
     "output_type": "display_data"
    },
    {
     "data": {
      "application/vnd.jupyter.widget-view+json": {
       "model_id": "01ed8ed0b83c465cac8eb17ca9ad2ac1",
       "version_major": 2,
       "version_minor": 0
      },
      "text/plain": [
       "  0%|          | 0/194 [00:00<?, ?it/s]"
      ]
     },
     "metadata": {},
     "output_type": "display_data"
    },
    {
     "data": {
      "application/vnd.jupyter.widget-view+json": {
       "model_id": "27f7a3a76aa643ed81fe0dae73c8bda5",
       "version_major": 2,
       "version_minor": 0
      },
      "text/plain": [
       "  0%|          | 0/194 [00:00<?, ?it/s]"
      ]
     },
     "metadata": {},
     "output_type": "display_data"
    },
    {
     "data": {
      "application/vnd.jupyter.widget-view+json": {
       "model_id": "e25bc58675db49a5b8381ca3b74d38e9",
       "version_major": 2,
       "version_minor": 0
      },
      "text/plain": [
       "  0%|          | 0/194 [00:00<?, ?it/s]"
      ]
     },
     "metadata": {},
     "output_type": "display_data"
    },
    {
     "data": {
      "application/vnd.jupyter.widget-view+json": {
       "model_id": "31b2300b14db400f80713047c48f0c6b",
       "version_major": 2,
       "version_minor": 0
      },
      "text/plain": [
       "  0%|          | 0/194 [00:00<?, ?it/s]"
      ]
     },
     "metadata": {},
     "output_type": "display_data"
    },
    {
     "data": {
      "application/vnd.jupyter.widget-view+json": {
       "model_id": "aadb3e22435a4db6a0bd01cea0bda679",
       "version_major": 2,
       "version_minor": 0
      },
      "text/plain": [
       "  0%|          | 0/194 [00:00<?, ?it/s]"
      ]
     },
     "metadata": {},
     "output_type": "display_data"
    },
    {
     "data": {
      "application/vnd.jupyter.widget-view+json": {
       "model_id": "892deb78c35b42898d94ad7266f7d378",
       "version_major": 2,
       "version_minor": 0
      },
      "text/plain": [
       "  0%|          | 0/194 [00:00<?, ?it/s]"
      ]
     },
     "metadata": {},
     "output_type": "display_data"
    },
    {
     "data": {
      "application/vnd.jupyter.widget-view+json": {
       "model_id": "a7553f10c23343d681a0b018820ce7c9",
       "version_major": 2,
       "version_minor": 0
      },
      "text/plain": [
       "  0%|          | 0/194 [00:00<?, ?it/s]"
      ]
     },
     "metadata": {},
     "output_type": "display_data"
    },
    {
     "data": {
      "application/vnd.jupyter.widget-view+json": {
       "model_id": "3f2055fbd48a4083851a4db532476ef3",
       "version_major": 2,
       "version_minor": 0
      },
      "text/plain": [
       "  0%|          | 0/194 [00:00<?, ?it/s]"
      ]
     },
     "metadata": {},
     "output_type": "display_data"
    },
    {
     "data": {
      "application/vnd.jupyter.widget-view+json": {
       "model_id": "d751402a60ed41bf8c0f74e4a966e073",
       "version_major": 2,
       "version_minor": 0
      },
      "text/plain": [
       "  0%|          | 0/194 [00:00<?, ?it/s]"
      ]
     },
     "metadata": {},
     "output_type": "display_data"
    },
    {
     "data": {
      "application/vnd.jupyter.widget-view+json": {
       "model_id": "b18ebc0b171e41a4a0c3968f2ae14c82",
       "version_major": 2,
       "version_minor": 0
      },
      "text/plain": [
       "  0%|          | 0/194 [00:00<?, ?it/s]"
      ]
     },
     "metadata": {},
     "output_type": "display_data"
    },
    {
     "data": {
      "application/vnd.jupyter.widget-view+json": {
       "model_id": "c73d7fb0f6a341deac6e2180e238d36b",
       "version_major": 2,
       "version_minor": 0
      },
      "text/plain": [
       "  0%|          | 0/194 [00:00<?, ?it/s]"
      ]
     },
     "metadata": {},
     "output_type": "display_data"
    },
    {
     "data": {
      "application/vnd.jupyter.widget-view+json": {
       "model_id": "a155768c49494d34a45be84a66cb2a29",
       "version_major": 2,
       "version_minor": 0
      },
      "text/plain": [
       "  0%|          | 0/194 [00:00<?, ?it/s]"
      ]
     },
     "metadata": {},
     "output_type": "display_data"
    },
    {
     "data": {
      "application/vnd.jupyter.widget-view+json": {
       "model_id": "bd878316ca0e44448b30b7e9492c24ec",
       "version_major": 2,
       "version_minor": 0
      },
      "text/plain": [
       "  0%|          | 0/194 [00:00<?, ?it/s]"
      ]
     },
     "metadata": {},
     "output_type": "display_data"
    },
    {
     "data": {
      "application/vnd.jupyter.widget-view+json": {
       "model_id": "239c7246c40049cd85eda8de04b922d7",
       "version_major": 2,
       "version_minor": 0
      },
      "text/plain": [
       "  0%|          | 0/194 [00:00<?, ?it/s]"
      ]
     },
     "metadata": {},
     "output_type": "display_data"
    },
    {
     "data": {
      "application/vnd.jupyter.widget-view+json": {
       "model_id": "f041520308084985ad341be286c477d6",
       "version_major": 2,
       "version_minor": 0
      },
      "text/plain": [
       "  0%|          | 0/194 [00:00<?, ?it/s]"
      ]
     },
     "metadata": {},
     "output_type": "display_data"
    },
    {
     "data": {
      "application/vnd.jupyter.widget-view+json": {
       "model_id": "bf1fe43488f54123a2361e501c263394",
       "version_major": 2,
       "version_minor": 0
      },
      "text/plain": [
       "  0%|          | 0/194 [00:00<?, ?it/s]"
      ]
     },
     "metadata": {},
     "output_type": "display_data"
    },
    {
     "data": {
      "application/vnd.jupyter.widget-view+json": {
       "model_id": "15ffc7c4c0df4ddeb8bb67c3df02df91",
       "version_major": 2,
       "version_minor": 0
      },
      "text/plain": [
       "  0%|          | 0/194 [00:00<?, ?it/s]"
      ]
     },
     "metadata": {},
     "output_type": "display_data"
    },
    {
     "data": {
      "application/vnd.jupyter.widget-view+json": {
       "model_id": "08452cd01ea64ad79c4a7757ff83e818",
       "version_major": 2,
       "version_minor": 0
      },
      "text/plain": [
       "  0%|          | 0/194 [00:00<?, ?it/s]"
      ]
     },
     "metadata": {},
     "output_type": "display_data"
    },
    {
     "data": {
      "application/vnd.jupyter.widget-view+json": {
       "model_id": "dc50e6d7fd534a21872434bd18b858ac",
       "version_major": 2,
       "version_minor": 0
      },
      "text/plain": [
       "  0%|          | 0/194 [00:00<?, ?it/s]"
      ]
     },
     "metadata": {},
     "output_type": "display_data"
    },
    {
     "data": {
      "application/vnd.jupyter.widget-view+json": {
       "model_id": "58122f93bf26456689cb89f4b2e7173f",
       "version_major": 2,
       "version_minor": 0
      },
      "text/plain": [
       "  0%|          | 0/194 [00:00<?, ?it/s]"
      ]
     },
     "metadata": {},
     "output_type": "display_data"
    },
    {
     "data": {
      "application/vnd.jupyter.widget-view+json": {
       "model_id": "573e04c9a2844af1b4e4f59a28aa2c33",
       "version_major": 2,
       "version_minor": 0
      },
      "text/plain": [
       "  0%|          | 0/194 [00:00<?, ?it/s]"
      ]
     },
     "metadata": {},
     "output_type": "display_data"
    }
   ],
   "source": [
    "metrics_hpsearch = []\n",
    "\n",
    "for b in [0.6, 0.8, 1]:\n",
    "    for k1 in [0.8, 1, 1.2, 1.5]:\n",
    "        for k2 in [0.8, 1, 1.3]:\n",
    "            m = evaluate(bm25.predict, queries, titles_true, k1=k1, k2=k2, b=b, top_k=10)\n",
    "            m.update(b=b, k1=k1, k2=k2)\n",
    "            metrics_hpsearch.append(m)"
   ]
  },
  {
   "cell_type": "code",
   "execution_count": 37,
   "id": "1d84cfa1",
   "metadata": {
    "scrolled": true
   },
   "outputs": [
    {
     "data": {
      "text/html": [
       "<div>\n",
       "<style scoped>\n",
       "    .dataframe tbody tr th:only-of-type {\n",
       "        vertical-align: middle;\n",
       "    }\n",
       "\n",
       "    .dataframe tbody tr th {\n",
       "        vertical-align: top;\n",
       "    }\n",
       "\n",
       "    .dataframe thead th {\n",
       "        text-align: right;\n",
       "    }\n",
       "</style>\n",
       "<table border=\"1\" class=\"dataframe\">\n",
       "  <thead>\n",
       "    <tr style=\"text-align: right;\">\n",
       "      <th></th>\n",
       "      <th>acc1</th>\n",
       "      <th>acc10</th>\n",
       "      <th>mrr10</th>\n",
       "      <th>n_queries</th>\n",
       "      <th>b</th>\n",
       "      <th>k1</th>\n",
       "      <th>k2</th>\n",
       "    </tr>\n",
       "  </thead>\n",
       "  <tbody>\n",
       "    <tr>\n",
       "      <th>22</th>\n",
       "      <td>0.226804</td>\n",
       "      <td>0.505155</td>\n",
       "      <td>0.313157</td>\n",
       "      <td>194</td>\n",
       "      <td>0.8</td>\n",
       "      <td>1.5</td>\n",
       "      <td>1.0</td>\n",
       "    </tr>\n",
       "    <tr>\n",
       "      <th>23</th>\n",
       "      <td>0.226804</td>\n",
       "      <td>0.505155</td>\n",
       "      <td>0.313028</td>\n",
       "      <td>194</td>\n",
       "      <td>0.8</td>\n",
       "      <td>1.5</td>\n",
       "      <td>1.3</td>\n",
       "    </tr>\n",
       "    <tr>\n",
       "      <th>21</th>\n",
       "      <td>0.226804</td>\n",
       "      <td>0.505155</td>\n",
       "      <td>0.312332</td>\n",
       "      <td>194</td>\n",
       "      <td>0.8</td>\n",
       "      <td>1.5</td>\n",
       "      <td>0.8</td>\n",
       "    </tr>\n",
       "    <tr>\n",
       "      <th>9</th>\n",
       "      <td>0.211340</td>\n",
       "      <td>0.500000</td>\n",
       "      <td>0.299812</td>\n",
       "      <td>194</td>\n",
       "      <td>0.6</td>\n",
       "      <td>1.5</td>\n",
       "      <td>0.8</td>\n",
       "    </tr>\n",
       "    <tr>\n",
       "      <th>10</th>\n",
       "      <td>0.211340</td>\n",
       "      <td>0.500000</td>\n",
       "      <td>0.299689</td>\n",
       "      <td>194</td>\n",
       "      <td>0.6</td>\n",
       "      <td>1.5</td>\n",
       "      <td>1.0</td>\n",
       "    </tr>\n",
       "    <tr>\n",
       "      <th>11</th>\n",
       "      <td>0.211340</td>\n",
       "      <td>0.500000</td>\n",
       "      <td>0.299654</td>\n",
       "      <td>194</td>\n",
       "      <td>0.6</td>\n",
       "      <td>1.5</td>\n",
       "      <td>1.3</td>\n",
       "    </tr>\n",
       "    <tr>\n",
       "      <th>20</th>\n",
       "      <td>0.211340</td>\n",
       "      <td>0.494845</td>\n",
       "      <td>0.296482</td>\n",
       "      <td>194</td>\n",
       "      <td>0.8</td>\n",
       "      <td>1.2</td>\n",
       "      <td>1.3</td>\n",
       "    </tr>\n",
       "    <tr>\n",
       "      <th>18</th>\n",
       "      <td>0.211340</td>\n",
       "      <td>0.494845</td>\n",
       "      <td>0.296439</td>\n",
       "      <td>194</td>\n",
       "      <td>0.8</td>\n",
       "      <td>1.2</td>\n",
       "      <td>0.8</td>\n",
       "    </tr>\n",
       "    <tr>\n",
       "      <th>19</th>\n",
       "      <td>0.211340</td>\n",
       "      <td>0.494845</td>\n",
       "      <td>0.296367</td>\n",
       "      <td>194</td>\n",
       "      <td>0.8</td>\n",
       "      <td>1.2</td>\n",
       "      <td>1.0</td>\n",
       "    </tr>\n",
       "    <tr>\n",
       "      <th>6</th>\n",
       "      <td>0.190722</td>\n",
       "      <td>0.479381</td>\n",
       "      <td>0.287555</td>\n",
       "      <td>194</td>\n",
       "      <td>0.6</td>\n",
       "      <td>1.2</td>\n",
       "      <td>0.8</td>\n",
       "    </tr>\n",
       "    <tr>\n",
       "      <th>7</th>\n",
       "      <td>0.190722</td>\n",
       "      <td>0.479381</td>\n",
       "      <td>0.287432</td>\n",
       "      <td>194</td>\n",
       "      <td>0.6</td>\n",
       "      <td>1.2</td>\n",
       "      <td>1.0</td>\n",
       "    </tr>\n",
       "    <tr>\n",
       "      <th>8</th>\n",
       "      <td>0.190722</td>\n",
       "      <td>0.479381</td>\n",
       "      <td>0.287197</td>\n",
       "      <td>194</td>\n",
       "      <td>0.6</td>\n",
       "      <td>1.2</td>\n",
       "      <td>1.3</td>\n",
       "    </tr>\n",
       "    <tr>\n",
       "      <th>35</th>\n",
       "      <td>0.201031</td>\n",
       "      <td>0.479381</td>\n",
       "      <td>0.284855</td>\n",
       "      <td>194</td>\n",
       "      <td>1.0</td>\n",
       "      <td>1.5</td>\n",
       "      <td>1.3</td>\n",
       "    </tr>\n",
       "    <tr>\n",
       "      <th>33</th>\n",
       "      <td>0.201031</td>\n",
       "      <td>0.479381</td>\n",
       "      <td>0.284426</td>\n",
       "      <td>194</td>\n",
       "      <td>1.0</td>\n",
       "      <td>1.5</td>\n",
       "      <td>0.8</td>\n",
       "    </tr>\n",
       "    <tr>\n",
       "      <th>34</th>\n",
       "      <td>0.201031</td>\n",
       "      <td>0.479381</td>\n",
       "      <td>0.283996</td>\n",
       "      <td>194</td>\n",
       "      <td>1.0</td>\n",
       "      <td>1.5</td>\n",
       "      <td>1.0</td>\n",
       "    </tr>\n",
       "    <tr>\n",
       "      <th>31</th>\n",
       "      <td>0.201031</td>\n",
       "      <td>0.469072</td>\n",
       "      <td>0.281494</td>\n",
       "      <td>194</td>\n",
       "      <td>1.0</td>\n",
       "      <td>1.2</td>\n",
       "      <td>1.0</td>\n",
       "    </tr>\n",
       "    <tr>\n",
       "      <th>32</th>\n",
       "      <td>0.201031</td>\n",
       "      <td>0.469072</td>\n",
       "      <td>0.281323</td>\n",
       "      <td>194</td>\n",
       "      <td>1.0</td>\n",
       "      <td>1.2</td>\n",
       "      <td>1.3</td>\n",
       "    </tr>\n",
       "    <tr>\n",
       "      <th>30</th>\n",
       "      <td>0.201031</td>\n",
       "      <td>0.469072</td>\n",
       "      <td>0.281237</td>\n",
       "      <td>194</td>\n",
       "      <td>1.0</td>\n",
       "      <td>1.2</td>\n",
       "      <td>0.8</td>\n",
       "    </tr>\n",
       "    <tr>\n",
       "      <th>15</th>\n",
       "      <td>0.190722</td>\n",
       "      <td>0.484536</td>\n",
       "      <td>0.280699</td>\n",
       "      <td>194</td>\n",
       "      <td>0.8</td>\n",
       "      <td>1.0</td>\n",
       "      <td>0.8</td>\n",
       "    </tr>\n",
       "    <tr>\n",
       "      <th>16</th>\n",
       "      <td>0.190722</td>\n",
       "      <td>0.484536</td>\n",
       "      <td>0.280269</td>\n",
       "      <td>194</td>\n",
       "      <td>0.8</td>\n",
       "      <td>1.0</td>\n",
       "      <td>1.0</td>\n",
       "    </tr>\n",
       "    <tr>\n",
       "      <th>17</th>\n",
       "      <td>0.190722</td>\n",
       "      <td>0.479381</td>\n",
       "      <td>0.279439</td>\n",
       "      <td>194</td>\n",
       "      <td>0.8</td>\n",
       "      <td>1.0</td>\n",
       "      <td>1.3</td>\n",
       "    </tr>\n",
       "    <tr>\n",
       "      <th>3</th>\n",
       "      <td>0.180412</td>\n",
       "      <td>0.474227</td>\n",
       "      <td>0.275223</td>\n",
       "      <td>194</td>\n",
       "      <td>0.6</td>\n",
       "      <td>1.0</td>\n",
       "      <td>0.8</td>\n",
       "    </tr>\n",
       "    <tr>\n",
       "      <th>4</th>\n",
       "      <td>0.180412</td>\n",
       "      <td>0.474227</td>\n",
       "      <td>0.274200</td>\n",
       "      <td>194</td>\n",
       "      <td>0.6</td>\n",
       "      <td>1.0</td>\n",
       "      <td>1.0</td>\n",
       "    </tr>\n",
       "    <tr>\n",
       "      <th>5</th>\n",
       "      <td>0.180412</td>\n",
       "      <td>0.469072</td>\n",
       "      <td>0.273627</td>\n",
       "      <td>194</td>\n",
       "      <td>0.6</td>\n",
       "      <td>1.0</td>\n",
       "      <td>1.3</td>\n",
       "    </tr>\n",
       "    <tr>\n",
       "      <th>27</th>\n",
       "      <td>0.185567</td>\n",
       "      <td>0.474227</td>\n",
       "      <td>0.272026</td>\n",
       "      <td>194</td>\n",
       "      <td>1.0</td>\n",
       "      <td>1.0</td>\n",
       "      <td>0.8</td>\n",
       "    </tr>\n",
       "    <tr>\n",
       "      <th>28</th>\n",
       "      <td>0.185567</td>\n",
       "      <td>0.474227</td>\n",
       "      <td>0.271167</td>\n",
       "      <td>194</td>\n",
       "      <td>1.0</td>\n",
       "      <td>1.0</td>\n",
       "      <td>1.0</td>\n",
       "    </tr>\n",
       "    <tr>\n",
       "      <th>29</th>\n",
       "      <td>0.185567</td>\n",
       "      <td>0.474227</td>\n",
       "      <td>0.271167</td>\n",
       "      <td>194</td>\n",
       "      <td>1.0</td>\n",
       "      <td>1.0</td>\n",
       "      <td>1.3</td>\n",
       "    </tr>\n",
       "    <tr>\n",
       "      <th>12</th>\n",
       "      <td>0.170103</td>\n",
       "      <td>0.489691</td>\n",
       "      <td>0.261440</td>\n",
       "      <td>194</td>\n",
       "      <td>0.8</td>\n",
       "      <td>0.8</td>\n",
       "      <td>0.8</td>\n",
       "    </tr>\n",
       "    <tr>\n",
       "      <th>14</th>\n",
       "      <td>0.170103</td>\n",
       "      <td>0.484536</td>\n",
       "      <td>0.260925</td>\n",
       "      <td>194</td>\n",
       "      <td>0.8</td>\n",
       "      <td>0.8</td>\n",
       "      <td>1.3</td>\n",
       "    </tr>\n",
       "    <tr>\n",
       "      <th>13</th>\n",
       "      <td>0.170103</td>\n",
       "      <td>0.484536</td>\n",
       "      <td>0.260925</td>\n",
       "      <td>194</td>\n",
       "      <td>0.8</td>\n",
       "      <td>0.8</td>\n",
       "      <td>1.0</td>\n",
       "    </tr>\n",
       "    <tr>\n",
       "      <th>0</th>\n",
       "      <td>0.170103</td>\n",
       "      <td>0.453608</td>\n",
       "      <td>0.260479</td>\n",
       "      <td>194</td>\n",
       "      <td>0.6</td>\n",
       "      <td>0.8</td>\n",
       "      <td>0.8</td>\n",
       "    </tr>\n",
       "    <tr>\n",
       "      <th>1</th>\n",
       "      <td>0.170103</td>\n",
       "      <td>0.448454</td>\n",
       "      <td>0.259906</td>\n",
       "      <td>194</td>\n",
       "      <td>0.6</td>\n",
       "      <td>0.8</td>\n",
       "      <td>1.0</td>\n",
       "    </tr>\n",
       "    <tr>\n",
       "      <th>2</th>\n",
       "      <td>0.170103</td>\n",
       "      <td>0.448454</td>\n",
       "      <td>0.259569</td>\n",
       "      <td>194</td>\n",
       "      <td>0.6</td>\n",
       "      <td>0.8</td>\n",
       "      <td>1.3</td>\n",
       "    </tr>\n",
       "    <tr>\n",
       "      <th>24</th>\n",
       "      <td>0.175258</td>\n",
       "      <td>0.463918</td>\n",
       "      <td>0.258847</td>\n",
       "      <td>194</td>\n",
       "      <td>1.0</td>\n",
       "      <td>0.8</td>\n",
       "      <td>0.8</td>\n",
       "    </tr>\n",
       "    <tr>\n",
       "      <th>26</th>\n",
       "      <td>0.175258</td>\n",
       "      <td>0.463918</td>\n",
       "      <td>0.258724</td>\n",
       "      <td>194</td>\n",
       "      <td>1.0</td>\n",
       "      <td>0.8</td>\n",
       "      <td>1.3</td>\n",
       "    </tr>\n",
       "    <tr>\n",
       "      <th>25</th>\n",
       "      <td>0.175258</td>\n",
       "      <td>0.463918</td>\n",
       "      <td>0.258724</td>\n",
       "      <td>194</td>\n",
       "      <td>1.0</td>\n",
       "      <td>0.8</td>\n",
       "      <td>1.0</td>\n",
       "    </tr>\n",
       "  </tbody>\n",
       "</table>\n",
       "</div>"
      ],
      "text/plain": [
       "        acc1     acc10     mrr10  n_queries    b   k1   k2\n",
       "22  0.226804  0.505155  0.313157        194  0.8  1.5  1.0\n",
       "23  0.226804  0.505155  0.313028        194  0.8  1.5  1.3\n",
       "21  0.226804  0.505155  0.312332        194  0.8  1.5  0.8\n",
       "9   0.211340  0.500000  0.299812        194  0.6  1.5  0.8\n",
       "10  0.211340  0.500000  0.299689        194  0.6  1.5  1.0\n",
       "11  0.211340  0.500000  0.299654        194  0.6  1.5  1.3\n",
       "20  0.211340  0.494845  0.296482        194  0.8  1.2  1.3\n",
       "18  0.211340  0.494845  0.296439        194  0.8  1.2  0.8\n",
       "19  0.211340  0.494845  0.296367        194  0.8  1.2  1.0\n",
       "6   0.190722  0.479381  0.287555        194  0.6  1.2  0.8\n",
       "7   0.190722  0.479381  0.287432        194  0.6  1.2  1.0\n",
       "8   0.190722  0.479381  0.287197        194  0.6  1.2  1.3\n",
       "35  0.201031  0.479381  0.284855        194  1.0  1.5  1.3\n",
       "33  0.201031  0.479381  0.284426        194  1.0  1.5  0.8\n",
       "34  0.201031  0.479381  0.283996        194  1.0  1.5  1.0\n",
       "31  0.201031  0.469072  0.281494        194  1.0  1.2  1.0\n",
       "32  0.201031  0.469072  0.281323        194  1.0  1.2  1.3\n",
       "30  0.201031  0.469072  0.281237        194  1.0  1.2  0.8\n",
       "15  0.190722  0.484536  0.280699        194  0.8  1.0  0.8\n",
       "16  0.190722  0.484536  0.280269        194  0.8  1.0  1.0\n",
       "17  0.190722  0.479381  0.279439        194  0.8  1.0  1.3\n",
       "3   0.180412  0.474227  0.275223        194  0.6  1.0  0.8\n",
       "4   0.180412  0.474227  0.274200        194  0.6  1.0  1.0\n",
       "5   0.180412  0.469072  0.273627        194  0.6  1.0  1.3\n",
       "27  0.185567  0.474227  0.272026        194  1.0  1.0  0.8\n",
       "28  0.185567  0.474227  0.271167        194  1.0  1.0  1.0\n",
       "29  0.185567  0.474227  0.271167        194  1.0  1.0  1.3\n",
       "12  0.170103  0.489691  0.261440        194  0.8  0.8  0.8\n",
       "14  0.170103  0.484536  0.260925        194  0.8  0.8  1.3\n",
       "13  0.170103  0.484536  0.260925        194  0.8  0.8  1.0\n",
       "0   0.170103  0.453608  0.260479        194  0.6  0.8  0.8\n",
       "1   0.170103  0.448454  0.259906        194  0.6  0.8  1.0\n",
       "2   0.170103  0.448454  0.259569        194  0.6  0.8  1.3\n",
       "24  0.175258  0.463918  0.258847        194  1.0  0.8  0.8\n",
       "26  0.175258  0.463918  0.258724        194  1.0  0.8  1.3\n",
       "25  0.175258  0.463918  0.258724        194  1.0  0.8  1.0"
      ]
     },
     "execution_count": 37,
     "metadata": {},
     "output_type": "execute_result"
    }
   ],
   "source": [
    "metrics_hpsearch_df = pd.DataFrame.from_records(\n",
    "    metrics_hpsearch, \n",
    "    index=list(range(len(metrics_hpsearch)))\n",
    ")\n",
    "metrics_hpsearch_df.sort_values('mrr10', ascending=False)"
   ]
  },
  {
   "cell_type": "code",
   "execution_count": 39,
   "id": "dc387277",
   "metadata": {},
   "outputs": [
    {
     "name": "stdout",
     "output_type": "stream",
     "text": [
      "best params for \"mrr10\" metric:\n"
     ]
    },
    {
     "data": {
      "text/html": [
       "<div>\n",
       "<style scoped>\n",
       "    .dataframe tbody tr th:only-of-type {\n",
       "        vertical-align: middle;\n",
       "    }\n",
       "\n",
       "    .dataframe tbody tr th {\n",
       "        vertical-align: top;\n",
       "    }\n",
       "\n",
       "    .dataframe thead th {\n",
       "        text-align: right;\n",
       "    }\n",
       "</style>\n",
       "<table border=\"1\" class=\"dataframe\">\n",
       "  <thead>\n",
       "    <tr style=\"text-align: right;\">\n",
       "      <th></th>\n",
       "      <th>acc1</th>\n",
       "      <th>acc10</th>\n",
       "      <th>mrr10</th>\n",
       "      <th>n_queries</th>\n",
       "      <th>b</th>\n",
       "      <th>k1</th>\n",
       "      <th>k2</th>\n",
       "    </tr>\n",
       "  </thead>\n",
       "  <tbody>\n",
       "    <tr>\n",
       "      <th>22</th>\n",
       "      <td>0.226804</td>\n",
       "      <td>0.505155</td>\n",
       "      <td>0.313157</td>\n",
       "      <td>194</td>\n",
       "      <td>0.8</td>\n",
       "      <td>1.5</td>\n",
       "      <td>1.0</td>\n",
       "    </tr>\n",
       "  </tbody>\n",
       "</table>\n",
       "</div>"
      ],
      "text/plain": [
       "        acc1     acc10     mrr10  n_queries    b   k1   k2\n",
       "22  0.226804  0.505155  0.313157        194  0.8  1.5  1.0"
      ]
     },
     "metadata": {},
     "output_type": "display_data"
    },
    {
     "name": "stdout",
     "output_type": "stream",
     "text": [
      "best params for \"acc10\" metric:\n"
     ]
    },
    {
     "data": {
      "text/html": [
       "<div>\n",
       "<style scoped>\n",
       "    .dataframe tbody tr th:only-of-type {\n",
       "        vertical-align: middle;\n",
       "    }\n",
       "\n",
       "    .dataframe tbody tr th {\n",
       "        vertical-align: top;\n",
       "    }\n",
       "\n",
       "    .dataframe thead th {\n",
       "        text-align: right;\n",
       "    }\n",
       "</style>\n",
       "<table border=\"1\" class=\"dataframe\">\n",
       "  <thead>\n",
       "    <tr style=\"text-align: right;\">\n",
       "      <th></th>\n",
       "      <th>acc1</th>\n",
       "      <th>acc10</th>\n",
       "      <th>mrr10</th>\n",
       "      <th>n_queries</th>\n",
       "      <th>b</th>\n",
       "      <th>k1</th>\n",
       "      <th>k2</th>\n",
       "    </tr>\n",
       "  </thead>\n",
       "  <tbody>\n",
       "    <tr>\n",
       "      <th>21</th>\n",
       "      <td>0.226804</td>\n",
       "      <td>0.505155</td>\n",
       "      <td>0.312332</td>\n",
       "      <td>194</td>\n",
       "      <td>0.8</td>\n",
       "      <td>1.5</td>\n",
       "      <td>0.8</td>\n",
       "    </tr>\n",
       "  </tbody>\n",
       "</table>\n",
       "</div>"
      ],
      "text/plain": [
       "        acc1     acc10     mrr10  n_queries    b   k1   k2\n",
       "21  0.226804  0.505155  0.312332        194  0.8  1.5  0.8"
      ]
     },
     "metadata": {},
     "output_type": "display_data"
    },
    {
     "name": "stdout",
     "output_type": "stream",
     "text": [
      "best params for \"acc1\" metric:\n"
     ]
    },
    {
     "data": {
      "text/html": [
       "<div>\n",
       "<style scoped>\n",
       "    .dataframe tbody tr th:only-of-type {\n",
       "        vertical-align: middle;\n",
       "    }\n",
       "\n",
       "    .dataframe tbody tr th {\n",
       "        vertical-align: top;\n",
       "    }\n",
       "\n",
       "    .dataframe thead th {\n",
       "        text-align: right;\n",
       "    }\n",
       "</style>\n",
       "<table border=\"1\" class=\"dataframe\">\n",
       "  <thead>\n",
       "    <tr style=\"text-align: right;\">\n",
       "      <th></th>\n",
       "      <th>acc1</th>\n",
       "      <th>acc10</th>\n",
       "      <th>mrr10</th>\n",
       "      <th>n_queries</th>\n",
       "      <th>b</th>\n",
       "      <th>k1</th>\n",
       "      <th>k2</th>\n",
       "    </tr>\n",
       "  </thead>\n",
       "  <tbody>\n",
       "    <tr>\n",
       "      <th>21</th>\n",
       "      <td>0.226804</td>\n",
       "      <td>0.505155</td>\n",
       "      <td>0.312332</td>\n",
       "      <td>194</td>\n",
       "      <td>0.8</td>\n",
       "      <td>1.5</td>\n",
       "      <td>0.8</td>\n",
       "    </tr>\n",
       "  </tbody>\n",
       "</table>\n",
       "</div>"
      ],
      "text/plain": [
       "        acc1     acc10     mrr10  n_queries    b   k1   k2\n",
       "21  0.226804  0.505155  0.312332        194  0.8  1.5  0.8"
      ]
     },
     "metadata": {},
     "output_type": "display_data"
    }
   ],
   "source": [
    "for m in ['mrr10', 'acc10', 'acc1']:\n",
    "    print(f'best params for \"{m}\" metric:')\n",
    "    display(metrics_hpsearch_df.loc[[metrics_hpsearch_df[m].idxmax()]])"
   ]
  },
  {
   "cell_type": "code",
   "execution_count": null,
   "id": "00960b35",
   "metadata": {},
   "outputs": [],
   "source": []
  },
  {
   "cell_type": "markdown",
   "id": "b6d7cda8",
   "metadata": {},
   "source": [
    "* `b = 0.8, k1 = 1.5, k2 = 1.0` are best params on specified grid in terms of MRR@10, Accuracy@10, Accuracy"
   ]
  },
  {
   "cell_type": "code",
   "execution_count": null,
   "id": "00d9d608",
   "metadata": {},
   "outputs": [],
   "source": []
  },
  {
   "cell_type": "markdown",
   "id": "7957e5af",
   "metadata": {},
   "source": [
    "### compare bm25 search with best and default params"
   ]
  },
  {
   "cell_type": "code",
   "execution_count": 42,
   "id": "83454f53",
   "metadata": {},
   "outputs": [
    {
     "name": "stdout",
     "output_type": "stream",
     "text": [
      "[coronovirus in belarus]\n",
      "  12.74  covid_19_pandemic_in_belarus\n",
      "  11.40  daugava_river\n",
      "  10.38  junior_eurovision_song_contest_2015\n",
      "  10.26  junior_eurovision_song_contest_2014\n",
      "   8.75  bug_river\n",
      "   8.34  government_in_exile\n",
      "   8.30  byelorussian_soviet_socialist_republic\n",
      "   8.27  covid_19_pandemic_in_turkmenistan\n",
      "   8.09  jagiellon_dynasty\n",
      "   7.32  boy\n",
      "\n",
      "\n",
      "[who won junior eurovision in 2005]\n",
      "  24.87  eurovision__europe_shine_a_light\n",
      "  21.22  junior_eurovision_song_contest_2004\n",
      "  16.82  junior_eurovision_song_contest_2019\n",
      "  15.25  darin_zanyar\n",
      "  15.19  eurovision_song_contest_2017\n",
      "  15.09  blue__group_\n",
      "  13.68  tine_thing_helseth\n",
      "  13.66  eurovision_song_contest_2007\n",
      "  13.53  goodbye\n",
      "  13.44  eurovision_song_contest_2011\n",
      "\n",
      "\n",
      "[science about full-text search]\n",
      "  18.04  information_retrieval\n",
      "  14.18  optimization__disambiguation_\n",
      "  11.74  citizen_science\n",
      "  11.30  ask_com\n",
      "  11.12  monty_python_and_the_holy_grail\n",
      "  10.86  google_search\n",
      "  10.12  stranger_things\n",
      "   9.95  chemical_database\n",
      "   9.88  cheminformatics\n",
      "   9.87  deep_web\n",
      "\n",
      "\n",
      "[music]\n",
      "   6.67  academy_award_for_best_original_song\n",
      "   6.67  world_music\n",
      "   6.61  music_of_mexico\n",
      "   6.61  tony_award_for_best_musical\n",
      "   6.59  crossover__music_\n",
      "   6.56  classical_crossover\n",
      "   6.56  pop_music\n",
      "   6.53  music_theory\n",
      "   6.48  music_industry\n",
      "   6.48  classical_music\n",
      "\n",
      "\n"
     ]
    }
   ],
   "source": [
    "for query in [\"coronovirus in belarus\",\n",
    "              \"who won junior eurovision in 2005\",\n",
    "              \"science about full-text search\",\n",
    "              'music'\n",
    "             ]:\n",
    "    q_tokens = tokenize(query)\n",
    "    result = bm25.predict(q_tokens, k1=1.5, k2=1.0, b=0.8)[:10]\n",
    "    print(f\"[{query}]\")\n",
    "    for article_name, score in result:\n",
    "        print(f\"{score:7.2f}  {article_name}\")\n",
    "    print(\"\\n\")"
   ]
  },
  {
   "cell_type": "code",
   "execution_count": 44,
   "id": "68977344",
   "metadata": {},
   "outputs": [
    {
     "name": "stdout",
     "output_type": "stream",
     "text": [
      "[coronovirus in belarus]\n",
      "  10.89  covid_19_pandemic_in_belarus\n",
      "  10.51  daugava_river\n",
      "   9.28  junior_eurovision_song_contest_2015\n",
      "   9.19  junior_eurovision_song_contest_2014\n",
      "   8.88  bug_river\n",
      "   8.44  government_in_exile\n",
      "   8.39  byelorussian_soviet_socialist_republic\n",
      "   8.37  covid_19_pandemic_in_turkmenistan\n",
      "   8.16  jagiellon_dynasty\n",
      "   6.89  eastern_europe\n",
      "\n",
      "\n",
      "[who won junior eurovision in 2005]\n",
      "  22.52  eurovision__europe_shine_a_light\n",
      "  20.61  junior_eurovision_song_contest_2004\n",
      "  17.19  junior_eurovision_song_contest_2019\n",
      "  15.44  blue__group_\n",
      "  14.15  darin_zanyar\n",
      "  13.96  eurovision_song_contest_2017\n",
      "  13.37  tine_thing_helseth\n",
      "  13.24  junior_eurovision_song_contest_2015\n",
      "  12.93  junior_eurovision_song_contest_2014\n",
      "  12.87  goodbye\n",
      "\n",
      "\n",
      "[science about full-text search]\n",
      "  17.41  information_retrieval\n",
      "  13.63  optimization__disambiguation_\n",
      "  11.04  citizen_science\n",
      "  10.31  ask_com\n",
      "  10.29  monty_python_and_the_holy_grail\n",
      "  10.17  stranger_things\n",
      "  10.05  the_saga_of_the_viking_women_and_their_voyage_to_the_waters_of_the_great_sea_serpent\n",
      "   9.72  light_emitting_diode\n",
      "   9.54  computer_vision\n",
      "   9.37  cheminformatics\n",
      "\n",
      "\n",
      "[music]\n",
      "   5.51  crossover__music_\n",
      "   5.47  intonation__music_\n",
      "   5.45  cmt__american_tv_channel_\n",
      "   5.45  country_music_association_awards\n",
      "   5.45  classical_crossover\n",
      "   5.44  big_beat\n",
      "   5.43  music_industry\n",
      "   5.43  world_music\n",
      "   5.42  industrial_rock\n",
      "   5.42  naser_cheshm_azar\n",
      "\n",
      "\n"
     ]
    }
   ],
   "source": [
    "for query in [\"coronovirus in belarus\",\n",
    "              \"who won junior eurovision in 2005\",\n",
    "              \"science about full-text search\",\n",
    "              'music'\n",
    "             ]:\n",
    "    q_tokens = tokenize(query)\n",
    "    result = bm25.predict(q_tokens, k1=1, k2=1, b=1)[:10]\n",
    "    print(f\"[{query}]\")\n",
    "    for article_name, score in result:\n",
    "        print(f\"{score:7.2f}  {article_name}\")\n",
    "    print(\"\\n\")"
   ]
  },
  {
   "cell_type": "code",
   "execution_count": null,
   "id": "0f268a96",
   "metadata": {},
   "outputs": [],
   "source": []
  },
  {
   "cell_type": "code",
   "execution_count": null,
   "id": "a95297cd",
   "metadata": {},
   "outputs": [],
   "source": []
  },
  {
   "cell_type": "code",
   "execution_count": null,
   "id": "76064c73",
   "metadata": {},
   "outputs": [],
   "source": []
  },
  {
   "cell_type": "code",
   "execution_count": null,
   "id": "8bb4fbc5",
   "metadata": {},
   "outputs": [],
   "source": []
  },
  {
   "cell_type": "code",
   "execution_count": null,
   "id": "2467ca52",
   "metadata": {},
   "outputs": [],
   "source": []
  },
  {
   "cell_type": "code",
   "execution_count": null,
   "id": "cdda0131",
   "metadata": {},
   "outputs": [],
   "source": []
  },
  {
   "cell_type": "code",
   "execution_count": null,
   "id": "b95e5979",
   "metadata": {},
   "outputs": [],
   "source": []
  },
  {
   "cell_type": "code",
   "execution_count": null,
   "id": "40ec5ada",
   "metadata": {},
   "outputs": [],
   "source": []
  },
  {
   "cell_type": "code",
   "execution_count": null,
   "id": "a2639e60",
   "metadata": {},
   "outputs": [],
   "source": []
  },
  {
   "cell_type": "code",
   "execution_count": null,
   "id": "06c2934d",
   "metadata": {},
   "outputs": [],
   "source": []
  }
 ],
 "metadata": {
  "kernelspec": {
   "display_name": "Python 3 (ipykernel)",
   "language": "python",
   "name": "python3"
  },
  "language_info": {
   "codemirror_mode": {
    "name": "ipython",
    "version": 3
   },
   "file_extension": ".py",
   "mimetype": "text/x-python",
   "name": "python",
   "nbconvert_exporter": "python",
   "pygments_lexer": "ipython3",
   "version": "3.9.5"
  },
  "toc": {
   "base_numbering": 1,
   "nav_menu": {},
   "number_sections": true,
   "sideBar": true,
   "skip_h1_title": false,
   "title_cell": "Table of Contents",
   "title_sidebar": "Contents",
   "toc_cell": false,
   "toc_position": {},
   "toc_section_display": true,
   "toc_window_display": false
  }
 },
 "nbformat": 4,
 "nbformat_minor": 5
}
