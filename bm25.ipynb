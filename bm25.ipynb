{
 "cells": [
  {
   "cell_type": "code",
   "execution_count": 1,
   "id": "f1490071",
   "metadata": {},
   "outputs": [],
   "source": [
    "import os\n",
    "\n",
    "import pandas as pd"
   ]
  },
  {
   "cell_type": "code",
   "execution_count": null,
   "id": "7d825d99",
   "metadata": {},
   "outputs": [],
   "source": []
  },
  {
   "cell_type": "markdown",
   "id": "5633c84b",
   "metadata": {},
   "source": [
    "## read data"
   ]
  },
  {
   "cell_type": "code",
   "execution_count": 2,
   "id": "837ffeb8",
   "metadata": {},
   "outputs": [],
   "source": [
    "def process_title(title: pd.Series):\n",
    "    title = title.str.lower().str.strip()\n",
    "    title = title.str.replace(r'([^\\w\\s])|_|-', '_', regex=True)\n",
    "    return title\n",
    "\n",
    "# def process_title2(title: pd.Series):\n",
    "#     title = title.str.lower().str.strip()\n",
    "#     title = title.str.replace(r\"[:,!#'\\(\\);\\.\\/\\-–]\", '_', regex=True)\n",
    "#     return title"
   ]
  },
  {
   "cell_type": "code",
   "execution_count": null,
   "id": "075ae2e4",
   "metadata": {},
   "outputs": [],
   "source": []
  },
  {
   "cell_type": "markdown",
   "id": "05119c66",
   "metadata": {},
   "source": [
    "### parsed texts from wiki raw html pages"
   ]
  },
  {
   "cell_type": "code",
   "execution_count": 3,
   "id": "e79de035",
   "metadata": {},
   "outputs": [
    {
     "name": "stdout",
     "output_type": "stream",
     "text": [
      "(223619, 3)\n"
     ]
    }
   ],
   "source": [
    "wiki_dp = '/media/rtn/Windows 10/work/univier/wiki_extract/wiki_parsed'\n",
    "fp = os.path.join(wiki_dp, 'filepaths.csv')\n",
    "filemap = pd.read_csv(fp)\n",
    "print(filemap.shape)"
   ]
  },
  {
   "cell_type": "code",
   "execution_count": null,
   "id": "204d8d48",
   "metadata": {},
   "outputs": [],
   "source": []
  },
  {
   "cell_type": "markdown",
   "id": "3d374577",
   "metadata": {},
   "source": [
    "### domain data to narrow search\n",
    "* 13112 / 15190 (or 86%) articles are found in our wiki extract. \n",
    "* check what articles are missed"
   ]
  },
  {
   "cell_type": "code",
   "execution_count": 4,
   "id": "0417a46a",
   "metadata": {},
   "outputs": [
    {
     "data": {
      "text/plain": [
       "(15190,)"
      ]
     },
     "execution_count": 4,
     "metadata": {},
     "output_type": "execute_result"
    }
   ],
   "source": [
    "domain_articles = pd.read_csv('data/selected_docs.tsv', sep='\\t', header=None).iloc[:, 0]\n",
    "domain_articles = process_title(domain_articles)\n",
    "domain_articles.shape"
   ]
  },
  {
   "cell_type": "code",
   "execution_count": 5,
   "id": "bdef9648",
   "metadata": {},
   "outputs": [
    {
     "data": {
      "text/plain": [
       "13112"
      ]
     },
     "execution_count": 5,
     "metadata": {},
     "output_type": "execute_result"
    }
   ],
   "source": [
    "len(set(domain_articles).intersection(filemap['filename']))"
   ]
  },
  {
   "cell_type": "code",
   "execution_count": 6,
   "id": "5595b66b",
   "metadata": {},
   "outputs": [
    {
     "data": {
      "text/plain": [
       "(2075, 1)"
      ]
     },
     "execution_count": 6,
     "metadata": {},
     "output_type": "execute_result"
    }
   ],
   "source": [
    "not_matched = pd.DataFrame({'title': list(set(domain_articles).difference(filemap['filename']))})\n",
    "not_matched.shape"
   ]
  },
  {
   "cell_type": "code",
   "execution_count": 7,
   "id": "e67a0409",
   "metadata": {},
   "outputs": [
    {
     "data": {
      "text/plain": [
       "True     1842\n",
       "False     233\n",
       "Name: is_alphanum, dtype: int64"
      ]
     },
     "execution_count": 7,
     "metadata": {},
     "output_type": "execute_result"
    }
   ],
   "source": [
    "not_matched['is_alphanum'] = not_matched['title'].str.fullmatch(r'[a-z0-9_]+')\n",
    "not_matched['is_alphanum'].value_counts()"
   ]
  },
  {
   "cell_type": "code",
   "execution_count": 8,
   "id": "e2f98958",
   "metadata": {},
   "outputs": [
    {
     "data": {
      "text/plain": [
       "['list_of_compositions_by_frédéric_chopin_by_genre',\n",
       " 'yaoundé',\n",
       " 'järva_county',\n",
       " 'bible_de_genève',\n",
       " 'ryōtei',\n",
       " '2014_campeonato_brasileiro_série_a___results_of_first_round',\n",
       " 'université_de_versailles_saint_quentin_en_yvelines',\n",
       " 'bible_d_olivétan',\n",
       " 'napoléon_iii',\n",
       " 'communes_of_the_isère_department']"
      ]
     },
     "execution_count": 8,
     "metadata": {},
     "output_type": "execute_result"
    }
   ],
   "source": [
    "not_matched.loc[~not_matched['is_alphanum'], 'title'].sample(10).tolist()"
   ]
  },
  {
   "cell_type": "code",
   "execution_count": 9,
   "id": "21b08f59",
   "metadata": {},
   "outputs": [
    {
     "data": {
      "text/plain": [
       "['what_s_up_',\n",
       " 'swamp_cooler',\n",
       " 'ratnasambhava',\n",
       " 'shenandoah_valley_academy',\n",
       " 'helmuth_schmidt',\n",
       " 'monjayaki',\n",
       " 'national_parks_of_austria',\n",
       " 'sahara__2017_movie_',\n",
       " 'susan_featherly',\n",
       " 'i_am_not_a_witch']"
      ]
     },
     "execution_count": 9,
     "metadata": {},
     "output_type": "execute_result"
    }
   ],
   "source": [
    "not_matched.loc[not_matched['is_alphanum'], 'title'].sample(10).tolist()"
   ]
  },
  {
   "cell_type": "code",
   "execution_count": null,
   "id": "ad61d94e",
   "metadata": {},
   "outputs": [],
   "source": []
  },
  {
   "cell_type": "code",
   "execution_count": 10,
   "id": "1fd8dde7",
   "metadata": {},
   "outputs": [
    {
     "data": {
      "text/html": [
       "<div>\n",
       "<style scoped>\n",
       "    .dataframe tbody tr th:only-of-type {\n",
       "        vertical-align: middle;\n",
       "    }\n",
       "\n",
       "    .dataframe tbody tr th {\n",
       "        vertical-align: top;\n",
       "    }\n",
       "\n",
       "    .dataframe thead th {\n",
       "        text-align: right;\n",
       "    }\n",
       "</style>\n",
       "<table border=\"1\" class=\"dataframe\">\n",
       "  <thead>\n",
       "    <tr style=\"text-align: right;\">\n",
       "      <th></th>\n",
       "      <th>filename</th>\n",
       "      <th>path</th>\n",
       "      <th>html_path</th>\n",
       "    </tr>\n",
       "  </thead>\n",
       "  <tbody>\n",
       "    <tr>\n",
       "      <th>44429</th>\n",
       "      <td>cinnamon</td>\n",
       "      <td>/media/rtn/Windows 10/work/univier/wiki_extrac...</td>\n",
       "      <td>/media/rtn/Windows 10/work/univier/wiki_extrac...</td>\n",
       "    </tr>\n",
       "  </tbody>\n",
       "</table>\n",
       "</div>"
      ],
      "text/plain": [
       "       filename                                               path  \\\n",
       "44429  cinnamon  /media/rtn/Windows 10/work/univier/wiki_extrac...   \n",
       "\n",
       "                                               html_path  \n",
       "44429  /media/rtn/Windows 10/work/univier/wiki_extrac...  "
      ]
     },
     "execution_count": 10,
     "metadata": {},
     "output_type": "execute_result"
    }
   ],
   "source": [
    "filemap[filemap['filename'].str.startswith('cinnamon')]"
   ]
  },
  {
   "cell_type": "code",
   "execution_count": 11,
   "id": "8bf6ef06",
   "metadata": {},
   "outputs": [
    {
     "data": {
      "text/html": [
       "<div>\n",
       "<style scoped>\n",
       "    .dataframe tbody tr th:only-of-type {\n",
       "        vertical-align: middle;\n",
       "    }\n",
       "\n",
       "    .dataframe tbody tr th {\n",
       "        vertical-align: top;\n",
       "    }\n",
       "\n",
       "    .dataframe thead th {\n",
       "        text-align: right;\n",
       "    }\n",
       "</style>\n",
       "<table border=\"1\" class=\"dataframe\">\n",
       "  <thead>\n",
       "    <tr style=\"text-align: right;\">\n",
       "      <th></th>\n",
       "      <th>filename</th>\n",
       "      <th>path</th>\n",
       "      <th>html_path</th>\n",
       "    </tr>\n",
       "  </thead>\n",
       "  <tbody>\n",
       "  </tbody>\n",
       "</table>\n",
       "</div>"
      ],
      "text/plain": [
       "Empty DataFrame\n",
       "Columns: [filename, path, html_path]\n",
       "Index: []"
      ]
     },
     "execution_count": 11,
     "metadata": {},
     "output_type": "execute_result"
    }
   ],
   "source": [
    "filemap[filemap['filename'].str.contains(\"'\")]"
   ]
  },
  {
   "cell_type": "code",
   "execution_count": null,
   "id": "a249c297",
   "metadata": {},
   "outputs": [],
   "source": []
  },
  {
   "cell_type": "markdown",
   "id": "359cea66",
   "metadata": {},
   "source": [
    "### OK, let's proceed with what we have"
   ]
  },
  {
   "cell_type": "code",
   "execution_count": 12,
   "id": "5089523d",
   "metadata": {},
   "outputs": [
    {
     "data": {
      "text/plain": [
       "(15190,)"
      ]
     },
     "execution_count": 12,
     "metadata": {},
     "output_type": "execute_result"
    }
   ],
   "source": [
    "domain_articles.shape"
   ]
  },
  {
   "cell_type": "code",
   "execution_count": 13,
   "id": "051638f5",
   "metadata": {},
   "outputs": [
    {
     "data": {
      "text/plain": [
       "13112"
      ]
     },
     "execution_count": 13,
     "metadata": {},
     "output_type": "execute_result"
    }
   ],
   "source": [
    "len(set(domain_articles).intersection(filemap['filename']))"
   ]
  },
  {
   "cell_type": "code",
   "execution_count": 14,
   "id": "cea8a2ef",
   "metadata": {},
   "outputs": [
    {
     "name": "stdout",
     "output_type": "stream",
     "text": [
      "(223619, 3)\n",
      "(13112, 3)\n"
     ]
    }
   ],
   "source": [
    "filemap_f = filemap[filemap['filename'].isin(domain_articles)].copy()\n",
    "print(filemap.shape)\n",
    "print(filemap_f.shape)"
   ]
  },
  {
   "cell_type": "code",
   "execution_count": null,
   "id": "5d19bb37",
   "metadata": {},
   "outputs": [],
   "source": []
  },
  {
   "cell_type": "markdown",
   "id": "8fecfa37",
   "metadata": {},
   "source": [
    "### read target"
   ]
  },
  {
   "cell_type": "code",
   "execution_count": 15,
   "id": "e803bd2c",
   "metadata": {},
   "outputs": [
    {
     "data": {
      "text/plain": [
       "(200, 2)"
      ]
     },
     "execution_count": 15,
     "metadata": {},
     "output_type": "execute_result"
    }
   ],
   "source": [
    "target = pd.read_csv('data/queries.tsv', sep='\\t', header=None)\n",
    "target.columns = ['query', 'title']\n",
    "target['title'] = process_title(target['title'])\n",
    "\n",
    "target.shape"
   ]
  },
  {
   "cell_type": "code",
   "execution_count": 16,
   "id": "aa2ff80e",
   "metadata": {},
   "outputs": [
    {
     "data": {
      "text/html": [
       "<div>\n",
       "<style scoped>\n",
       "    .dataframe tbody tr th:only-of-type {\n",
       "        vertical-align: middle;\n",
       "    }\n",
       "\n",
       "    .dataframe tbody tr th {\n",
       "        vertical-align: top;\n",
       "    }\n",
       "\n",
       "    .dataframe thead th {\n",
       "        text-align: right;\n",
       "    }\n",
       "</style>\n",
       "<table border=\"1\" class=\"dataframe\">\n",
       "  <thead>\n",
       "    <tr style=\"text-align: right;\">\n",
       "      <th></th>\n",
       "      <th>query</th>\n",
       "      <th>title</th>\n",
       "    </tr>\n",
       "  </thead>\n",
       "  <tbody>\n",
       "    <tr>\n",
       "      <th>0</th>\n",
       "      <td>animals that have shells and live in water</td>\n",
       "      <td>shell__zoology_</td>\n",
       "    </tr>\n",
       "    <tr>\n",
       "      <th>1</th>\n",
       "      <td>how many different types of scorpions are there</td>\n",
       "      <td>scorpion</td>\n",
       "    </tr>\n",
       "    <tr>\n",
       "      <th>2</th>\n",
       "      <td>describe the structure of a scientific name fo...</td>\n",
       "      <td>binomial_nomenclature</td>\n",
       "    </tr>\n",
       "    <tr>\n",
       "      <th>3</th>\n",
       "      <td>what are the 3 types of plastids in plant cells</td>\n",
       "      <td>plastid</td>\n",
       "    </tr>\n",
       "    <tr>\n",
       "      <th>4</th>\n",
       "      <td>who named the cell and how did he come up with...</td>\n",
       "      <td>cell_theory</td>\n",
       "    </tr>\n",
       "  </tbody>\n",
       "</table>\n",
       "</div>"
      ],
      "text/plain": [
       "                                               query                  title\n",
       "0         animals that have shells and live in water        shell__zoology_\n",
       "1    how many different types of scorpions are there               scorpion\n",
       "2  describe the structure of a scientific name fo...  binomial_nomenclature\n",
       "3    what are the 3 types of plastids in plant cells                plastid\n",
       "4  who named the cell and how did he come up with...            cell_theory"
      ]
     },
     "execution_count": 16,
     "metadata": {},
     "output_type": "execute_result"
    }
   ],
   "source": [
    "target.head()"
   ]
  },
  {
   "cell_type": "code",
   "execution_count": 17,
   "id": "68e2c275",
   "metadata": {},
   "outputs": [
    {
     "data": {
      "text/plain": [
       "137"
      ]
     },
     "execution_count": 17,
     "metadata": {},
     "output_type": "execute_result"
    }
   ],
   "source": [
    "len(set(target['title']).intersection(filemap['filename']))"
   ]
  },
  {
   "cell_type": "code",
   "execution_count": 18,
   "id": "f239fd56",
   "metadata": {},
   "outputs": [
    {
     "data": {
      "text/plain": [
       "137"
      ]
     },
     "execution_count": 18,
     "metadata": {},
     "output_type": "execute_result"
    }
   ],
   "source": [
    "len(set(target['title']).intersection(filemap_f['filename']))"
   ]
  },
  {
   "cell_type": "code",
   "execution_count": null,
   "id": "c7d35111",
   "metadata": {},
   "outputs": [],
   "source": []
  },
  {
   "cell_type": "markdown",
   "id": "1ccca3eb",
   "metadata": {},
   "source": [
    "## functions"
   ]
  },
  {
   "cell_type": "code",
   "execution_count": 21,
   "id": "154e1070",
   "metadata": {},
   "outputs": [],
   "source": [
    "def get_article_path(title):\n",
    "    return filemap.query('filename == @title.lower().strip()')['path'].iloc[0]\n",
    "\n",
    "def get_article_text(fp):\n",
    "    with open(fp) as fin: text = fin.read()\n",
    "    return text"
   ]
  },
  {
   "cell_type": "code",
   "execution_count": 22,
   "id": "71aac6b3",
   "metadata": {},
   "outputs": [
    {
     "name": "stdout",
     "output_type": "stream",
     "text": [
      "title: \"telfair_county__georgia\"\n"
     ]
    },
    {
     "data": {
      "text/plain": [
       "'Telfair County is a county in the U.S. state of Georgia. As of the 2010 census, 16,500 people lived there. The county seat is McRae–Helena.'"
      ]
     },
     "execution_count": 22,
     "metadata": {},
     "output_type": "execute_result"
    }
   ],
   "source": [
    "title = filemap.sample()['filename'].iloc[0]\n",
    "print(f'title: \"{title}\"')\n",
    "get_article_text(get_article_path(title))"
   ]
  },
  {
   "cell_type": "code",
   "execution_count": 23,
   "id": "c134829e",
   "metadata": {},
   "outputs": [
    {
     "data": {
      "text/plain": [
       "' A bikont (\"two flagellae\") is any eukaryotic organism in the group Bikonta. Many single-celled members of the group, and the presumed ancestor, have two flagella. Another shared trait of bikonts is the fusion of two genes into a single unit. The genes for thymidylate synthase (TS) and dihydrofolate reductase (DHFR) code for a single protein with two functions. The genes are separately translated in unikonts.'"
      ]
     },
     "execution_count": 23,
     "metadata": {},
     "output_type": "execute_result"
    }
   ],
   "source": [
    "get_article_text(get_article_path('bikont'))"
   ]
  },
  {
   "cell_type": "code",
   "execution_count": null,
   "id": "db09e0f6",
   "metadata": {},
   "outputs": [],
   "source": []
  },
  {
   "cell_type": "code",
   "execution_count": null,
   "id": "80a9054d",
   "metadata": {},
   "outputs": [],
   "source": []
  },
  {
   "cell_type": "code",
   "execution_count": null,
   "id": "879c9b68",
   "metadata": {},
   "outputs": [],
   "source": []
  },
  {
   "cell_type": "code",
   "execution_count": null,
   "id": "1e524d5e",
   "metadata": {},
   "outputs": [],
   "source": []
  },
  {
   "cell_type": "code",
   "execution_count": null,
   "id": "7503825e",
   "metadata": {},
   "outputs": [],
   "source": []
  },
  {
   "cell_type": "code",
   "execution_count": null,
   "id": "8bfabfe7",
   "metadata": {},
   "outputs": [],
   "source": []
  },
  {
   "cell_type": "code",
   "execution_count": null,
   "id": "cade5a79",
   "metadata": {},
   "outputs": [],
   "source": []
  },
  {
   "cell_type": "code",
   "execution_count": null,
   "id": "a2639e60",
   "metadata": {},
   "outputs": [],
   "source": []
  },
  {
   "cell_type": "code",
   "execution_count": null,
   "id": "06c2934d",
   "metadata": {},
   "outputs": [],
   "source": []
  }
 ],
 "metadata": {
  "kernelspec": {
   "display_name": "Python 3 (ipykernel)",
   "language": "python",
   "name": "python3"
  },
  "language_info": {
   "codemirror_mode": {
    "name": "ipython",
    "version": 3
   },
   "file_extension": ".py",
   "mimetype": "text/x-python",
   "name": "python",
   "nbconvert_exporter": "python",
   "pygments_lexer": "ipython3",
   "version": "3.9.5"
  },
  "toc": {
   "base_numbering": 1,
   "nav_menu": {},
   "number_sections": true,
   "sideBar": true,
   "skip_h1_title": false,
   "title_cell": "Table of Contents",
   "title_sidebar": "Contents",
   "toc_cell": false,
   "toc_position": {},
   "toc_section_display": true,
   "toc_window_display": false
  }
 },
 "nbformat": 4,
 "nbformat_minor": 5
}
