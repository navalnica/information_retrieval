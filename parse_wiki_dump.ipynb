{
 "cells": [
  {
   "cell_type": "code",
   "execution_count": 1,
   "id": "aeaf51f3",
   "metadata": {},
   "outputs": [],
   "source": [
    "import os\n",
    "import re\n",
    "import tqdm\n",
    "\n",
    "from bs4 import BeautifulSoup as bs\n",
    "\n",
    "import pandas as pd"
   ]
  },
  {
   "cell_type": "code",
   "execution_count": null,
   "id": "2414d5f4",
   "metadata": {},
   "outputs": [],
   "source": []
  },
  {
   "cell_type": "markdown",
   "id": "3d529ca1",
   "metadata": {},
   "source": [
    "## create file map"
   ]
  },
  {
   "cell_type": "code",
   "execution_count": 3,
   "id": "ba738763",
   "metadata": {},
   "outputs": [],
   "source": [
    "dp_in = '/media/rtn/Windows 10/work/univier/wiki_extract/wiki_db'\n",
    "dp_out = '/media/rtn/Windows 10/work/univier/wiki_extract/wiki_parsed'"
   ]
  },
  {
   "cell_type": "code",
   "execution_count": 4,
   "id": "0bf12291",
   "metadata": {},
   "outputs": [],
   "source": [
    "df = []\n",
    "\n",
    "for (dp, dns, fns) in os.walk(dp_in):\n",
    "    for fn in fns:\n",
    "        fp_orig = os.path.join(dp, fn)\n",
    "        fp_parsed = os.path.join(dp_out, os.path.relpath(fp_orig, dp_in) + '.txt')\n",
    "        df.append({'filename': fn, 'path': fp_parsed, 'html_path': fp_orig})\n",
    "    \n",
    "df = pd.DataFrame(df)\n",
    "out_file = os.path.join(dp_out, 'filepaths.csv')\n",
    "df.to_csv(out_file, index=False)"
   ]
  },
  {
   "cell_type": "code",
   "execution_count": null,
   "id": "add16a78",
   "metadata": {},
   "outputs": [],
   "source": []
  },
  {
   "cell_type": "code",
   "execution_count": 7,
   "id": "4d7ae41a",
   "metadata": {},
   "outputs": [
    {
     "name": "stdout",
     "output_type": "stream",
     "text": [
      "(223619, 3)\n"
     ]
    }
   ],
   "source": [
    "df = pd.read_csv(os.path.join(dp_out, 'filepaths.csv'))\n",
    "print(df.shape)"
   ]
  },
  {
   "cell_type": "code",
   "execution_count": 6,
   "id": "58ca15c9",
   "metadata": {},
   "outputs": [
    {
     "data": {
      "text/html": [
       "<div>\n",
       "<style scoped>\n",
       "    .dataframe tbody tr th:only-of-type {\n",
       "        vertical-align: middle;\n",
       "    }\n",
       "\n",
       "    .dataframe tbody tr th {\n",
       "        vertical-align: top;\n",
       "    }\n",
       "\n",
       "    .dataframe thead th {\n",
       "        text-align: right;\n",
       "    }\n",
       "</style>\n",
       "<table border=\"1\" class=\"dataframe\">\n",
       "  <thead>\n",
       "    <tr style=\"text-align: right;\">\n",
       "      <th></th>\n",
       "      <th>filename</th>\n",
       "      <th>path</th>\n",
       "      <th>html_path</th>\n",
       "    </tr>\n",
       "  </thead>\n",
       "  <tbody>\n",
       "    <tr>\n",
       "      <th>191685</th>\n",
       "      <td>synod_of_dort</td>\n",
       "      <td>/media/rtn/Windows 10/work/univier/wiki_extrac...</td>\n",
       "      <td>/media/rtn/Windows 10/work/univier/wiki_extrac...</td>\n",
       "    </tr>\n",
       "    <tr>\n",
       "      <th>66484</th>\n",
       "      <td>escape_artist</td>\n",
       "      <td>/media/rtn/Windows 10/work/univier/wiki_extrac...</td>\n",
       "      <td>/media/rtn/Windows 10/work/univier/wiki_extrac...</td>\n",
       "    </tr>\n",
       "    <tr>\n",
       "      <th>31229</th>\n",
       "      <td>boris_dubin</td>\n",
       "      <td>/media/rtn/Windows 10/work/univier/wiki_extrac...</td>\n",
       "      <td>/media/rtn/Windows 10/work/univier/wiki_extrac...</td>\n",
       "    </tr>\n",
       "    <tr>\n",
       "      <th>8231</th>\n",
       "      <td>acequia__idaho</td>\n",
       "      <td>/media/rtn/Windows 10/work/univier/wiki_extrac...</td>\n",
       "      <td>/media/rtn/Windows 10/work/univier/wiki_extrac...</td>\n",
       "    </tr>\n",
       "    <tr>\n",
       "      <th>59354</th>\n",
       "      <td>donald_j__cram</td>\n",
       "      <td>/media/rtn/Windows 10/work/univier/wiki_extrac...</td>\n",
       "      <td>/media/rtn/Windows 10/work/univier/wiki_extrac...</td>\n",
       "    </tr>\n",
       "    <tr>\n",
       "      <th>172953</th>\n",
       "      <td>sacred_site</td>\n",
       "      <td>/media/rtn/Windows 10/work/univier/wiki_extrac...</td>\n",
       "      <td>/media/rtn/Windows 10/work/univier/wiki_extrac...</td>\n",
       "    </tr>\n",
       "    <tr>\n",
       "      <th>6287</th>\n",
       "      <td>390_bc</td>\n",
       "      <td>/media/rtn/Windows 10/work/univier/wiki_extrac...</td>\n",
       "      <td>/media/rtn/Windows 10/work/univier/wiki_extrac...</td>\n",
       "    </tr>\n",
       "    <tr>\n",
       "      <th>114880</th>\n",
       "      <td>legislative_assembly_of_costa_rica</td>\n",
       "      <td>/media/rtn/Windows 10/work/univier/wiki_extrac...</td>\n",
       "      <td>/media/rtn/Windows 10/work/univier/wiki_extrac...</td>\n",
       "    </tr>\n",
       "    <tr>\n",
       "      <th>36902</th>\n",
       "      <td>camilla_wicks</td>\n",
       "      <td>/media/rtn/Windows 10/work/univier/wiki_extrac...</td>\n",
       "      <td>/media/rtn/Windows 10/work/univier/wiki_extrac...</td>\n",
       "    </tr>\n",
       "    <tr>\n",
       "      <th>35563</th>\n",
       "      <td>buzancy__aisne</td>\n",
       "      <td>/media/rtn/Windows 10/work/univier/wiki_extrac...</td>\n",
       "      <td>/media/rtn/Windows 10/work/univier/wiki_extrac...</td>\n",
       "    </tr>\n",
       "  </tbody>\n",
       "</table>\n",
       "</div>"
      ],
      "text/plain": [
       "                                  filename  \\\n",
       "191685                       synod_of_dort   \n",
       "66484                        escape_artist   \n",
       "31229                          boris_dubin   \n",
       "8231                        acequia__idaho   \n",
       "59354                       donald_j__cram   \n",
       "172953                         sacred_site   \n",
       "6287                                390_bc   \n",
       "114880  legislative_assembly_of_costa_rica   \n",
       "36902                        camilla_wicks   \n",
       "35563                       buzancy__aisne   \n",
       "\n",
       "                                                     path  \\\n",
       "191685  /media/rtn/Windows 10/work/univier/wiki_extrac...   \n",
       "66484   /media/rtn/Windows 10/work/univier/wiki_extrac...   \n",
       "31229   /media/rtn/Windows 10/work/univier/wiki_extrac...   \n",
       "8231    /media/rtn/Windows 10/work/univier/wiki_extrac...   \n",
       "59354   /media/rtn/Windows 10/work/univier/wiki_extrac...   \n",
       "172953  /media/rtn/Windows 10/work/univier/wiki_extrac...   \n",
       "6287    /media/rtn/Windows 10/work/univier/wiki_extrac...   \n",
       "114880  /media/rtn/Windows 10/work/univier/wiki_extrac...   \n",
       "36902   /media/rtn/Windows 10/work/univier/wiki_extrac...   \n",
       "35563   /media/rtn/Windows 10/work/univier/wiki_extrac...   \n",
       "\n",
       "                                                html_path  \n",
       "191685  /media/rtn/Windows 10/work/univier/wiki_extrac...  \n",
       "66484   /media/rtn/Windows 10/work/univier/wiki_extrac...  \n",
       "31229   /media/rtn/Windows 10/work/univier/wiki_extrac...  \n",
       "8231    /media/rtn/Windows 10/work/univier/wiki_extrac...  \n",
       "59354   /media/rtn/Windows 10/work/univier/wiki_extrac...  \n",
       "172953  /media/rtn/Windows 10/work/univier/wiki_extrac...  \n",
       "6287    /media/rtn/Windows 10/work/univier/wiki_extrac...  \n",
       "114880  /media/rtn/Windows 10/work/univier/wiki_extrac...  \n",
       "36902   /media/rtn/Windows 10/work/univier/wiki_extrac...  \n",
       "35563   /media/rtn/Windows 10/work/univier/wiki_extrac...  "
      ]
     },
     "execution_count": 6,
     "metadata": {},
     "output_type": "execute_result"
    }
   ],
   "source": [
    "df.sample(10)"
   ]
  },
  {
   "cell_type": "code",
   "execution_count": null,
   "id": "51fc14ab",
   "metadata": {},
   "outputs": [],
   "source": []
  },
  {
   "cell_type": "markdown",
   "id": "c5db6f5b",
   "metadata": {},
   "source": [
    "## parse documents"
   ]
  },
  {
   "cell_type": "code",
   "execution_count": 110,
   "id": "6ffcf4c1",
   "metadata": {},
   "outputs": [],
   "source": [
    "class HtmlParser:\n",
    "    def remove_redundant_tags(self, soup: bs):\n",
    "        selectors = ['.infobox', '.navbox', '.catlinks', '.reflist', '#toc', 'table']\n",
    "        for s in selectors:\n",
    "            for tag in soup.select(s):\n",
    "                tag.extract();\n",
    "        \n",
    "        # as we include <ul> tag we'd like to ignore lists under following sections:\n",
    "        sections_to_ignore_ul = ['#Related_pages', '#Other_websites']\n",
    "        for s in sections_to_ignore_ul:\n",
    "            # remove list that is a 1st next sibling \n",
    "            # after h2 tag that is parent for span with corresponding id.\n",
    "            tag_other_websites = soup.select(s)\n",
    "            if tag_other_websites:\n",
    "                next_tag = tag_other_websites[0].parent.find_next_siblings()\n",
    "                if next_tag:\n",
    "                    next_tag = next_tag[0]\n",
    "                    if next_tag.name == 'ul':\n",
    "                        next_tag.extract()\n",
    "        \n",
    "    def filter_tags(self, tag) -> bool:\n",
    "        if tag.name not in ['p', 'dt', 'ul']:\n",
    "            return False\n",
    "        return True\n",
    "    \n",
    "    def postprocess(self, text) -> str:\n",
    "        text = re.sub('\\s+', ' ', text)  # replace sequential whitespaces\n",
    "        text = re.sub('\\[\\d+\\]', '', text)  # remove [1], [15], etc.\n",
    "        return text\n",
    "    \n",
    "    def parse(self, html_text):\n",
    "        soup = bs(html_text)\n",
    "        self.remove_redundant_tags(soup)\n",
    "        filtered_tags = soup.find_all(self.filter_tags)\n",
    "        text_chunks = [x.get_text().strip() for x in filtered_tags]\n",
    "        text = ' '.join(text_chunks)\n",
    "        text = self.postprocess(text)\n",
    "        return text"
   ]
  },
  {
   "cell_type": "code",
   "execution_count": 111,
   "id": "af12c54e",
   "metadata": {},
   "outputs": [],
   "source": [
    "parser = HtmlParser()"
   ]
  },
  {
   "cell_type": "code",
   "execution_count": 130,
   "id": "a9f618e9",
   "metadata": {},
   "outputs": [],
   "source": [
    "# fp = df.loc[df['filename'] == 'belarus', 'html_path'].iloc[0]\n",
    "# fp = df.loc[df['filename'] == 'bel_canto', 'html_path'].iloc[0]\n",
    "# fp = df.loc[df['filename'] == 'bellini', 'html_path'].iloc[0]\n",
    "# fp = df.loc[df['filename'] == '390_bc', 'html_path'].iloc[0]\n",
    "# fp = df.loc[df['filename'] == 'belly_dance', 'html_path'].iloc[0]\n",
    "# fp = df.loc[df['filename'] == 'france', 'html_path'].iloc[0]\n",
    "fp = df.loc[df['filename'] == 'music', 'html_path'].iloc[0]"
   ]
  },
  {
   "cell_type": "code",
   "execution_count": 131,
   "id": "ed7d9d52",
   "metadata": {},
   "outputs": [],
   "source": [
    "with open(fp) as fin: file = fin.read()\n",
    "text = parser.parse(file)"
   ]
  },
  {
   "cell_type": "code",
   "execution_count": 132,
   "id": "e2cf866d",
   "metadata": {},
   "outputs": [
    {
     "name": "stdout",
     "output_type": "stream",
     "text": [
      "Music is a form of art that uses sound organised in time. Music is also a form of entertainment that puts sounds together in a way that people like, find interesting or dance to. Most music includes people singing with their voices or playing musical instruments, such as the piano, guitar, drums or violin. The word music comes from the Greek word (mousike), which means \"(art) of the Muses\". In Ancient Greece the Muses included the goddesses of music, poetry, art, and dance. Someone who makes music is known as a musician. Music is sound that has been organized by using rhythm, melody or harmony. If someone bangs saucepans while cooking, it makes noise. If a person bangs saucepans or pots in a rhythmic way, they are making a simple type of music. There are four things which music has most of the time: Music often has pitch. This means high and low notes. Tunes are made of notes that go up or down or stay on the same pitch. Music often has rhythm. Rhythm is the way the musical sounds and silences are put together in a sequence. Every tune has a rhythm that can be tapped. Music usually has a regular beat. Music often has dynamics. This means whether it is quiet or loud or somewhere in between. Music often has timbre. This is a French word (pronounced the French way: \"TAM-br\"). The \"timbre\" of a sound is the way that a sound is interesting. The sort of sound might be harsh, gentle, dry, warm, or something else. Timbre is what makes a clarinet sound different from an oboe, and what makes one person's voice sound different from another person. There is no simple definition of music which covers all cases. It is an art form, and opinions come into play. Music is whatever people think is music. A different approach is to list the qualities music must have, such as, sound which has rhythm, melody, pitch, timbre, etc. These and other attempts, do not capture all aspects of music, or leave out examples which definitely are music. According to Thomas Clifton, music is \"a certain reciprocal relation established between a person, his behavior, and a sounding object\".p10 Musical experience and the music, together, are called phenomena, and the activity of describing phenomena is called phenomenology. Even in the stone age people made music. The first music was probably made trying to imitate sounds and rhythms that occurred naturally. Human music may echo these phenomena using patterns, repetition and tonality. This kind of music is still here today. Shamans sometimes imitate sounds that are heard in nature. It may also serve as entertainment (games), or have practical uses, like attracting animals when hunting. Some animals also can use music. Songbirds use song to protect their territory, or to attract a mate. Monkeys have been seen beating hollow logs. This may, of course, also serve to defend the territory. The first musical instrument used by humans was probably the voice. The human voice can make many different kinds of sounds. The larynx (voice box) is like a wind instrument. The oldest known Neanderthal hyoid bone with the modern human form was found in 1983, indicating that the Neanderthals had language, because the hyoid supports the voice box in the human throat. Most likely the first rhythm instruments or percussion instruments involved the clapping of hands, stones hit together, or other things that are useful to keep a beat. There are finds of this type that date back to the paleolithic. Some of these are ambiguous, as they can be used either as a tool or a musical instrument. The oldest flute ever discovered may be the so-called Divje Babe flute, found in the Slovenian cave Divje Babe I in 1995. It is not certain that the object is really a flute. The item in question is a fragment of the femur of a young cave bear, and has been dated to about 43,000 years ago. However, whether it is truly a musical instrument or simply a carnivore-chewed bone is a matter of ongoing debate. In 2008, archaeologists discovered a bone flute in the Hohle Fels cave near Ulm, Germany. The five-holed flute has a V-shaped mouthpiece and is made from a vulture wing bone. The researchers involved in the discovery officially published their findings in the journal Nature, in June 2009. The discovery is also the oldest confirmed find of any musical instrument in history. Other flutes were also found in the cave. This flute was found next to the Venus of Hohle Fels and a short distance from the oldest known human carving. When they announced their discovery, the scientists suggested that the \"finds demonstrate the presence of a well-established musical tradition at the time when modern humans colonized Europe\". The oldest known wooden pipes were discovered near Greystones, Ireland, in 2004. A wood-lined pit contained a group of six flutes made from yew wood, between 30 and 50 cm long, tapered at one end, but without any finger holes. They may once have been strapped together. In 1986 several bone flutes were found in Jiahu in Henan Province, China. They date to about 6,000 BC. They have between 5 and 8 holes each and were made from the hollow bones of a bird, the Red-crowned Crane. At the time of the discovery, one was found to be still playable. The bone flute plays both the five- or seven-note scale of Xia Zhi and six-note scale of Qing Shang of the ancient Chinese musical system. It is not known what the earliest music of the cave people was like. Some architecture, even some paintings, are thousands of years old, but old music could not survive until people learned to write it down. The only way we can guess about early music is by looking at very old paintings that show people playing musical instruments, or by finding them in archaeological digs (digging underground to find old things). The earliest piece of music that was ever written down and that has not been lost was discovered on a tablet written in Hurrian, a language spoken in and around northern Mesopotamia (where Iraq is today), from about 1500 BC. The Oxfords Companion to Music, ed. Percy Scholes, London 1970 Another early piece of written music that has survived was a round called Sumer Is Icumen In. It was written down by a monk around the year 1250. Much of the music in the Middle Ages (roughly 450-1420) was folk music played by working people who wanted to sing or dance. When people played instruments, they were usually playing for dancers. However, most of the music that was written down was for the Catholic church. This music was written for monks to sing in church. It is called Chant (or Gregorian chant). In the Renaissance (roughly 1400–1550) there was a lot of music, and many composers wrote music that has survived so that it can be performed, played or sung today. The name for this period (Renaissance) is a French word which means \"rebirth\". This period was called the \"rebirth\" because many new types of art and music were reborn during this time. Some very beautiful music was written for use in church services (sacred music) by the Italian composer Giovanni da Palestrina (1525–1594). In Palestrina's music, many singers sing together (this is called a choir). There was also plenty of music not written for the church, such as happy dance music and romantic love songs. Popular instruments during the Renaissance included the viols (a string instrument played with a bow), lutes (a plucked stringed instrument that is a little like a guitar), and the virginal, a small, quiet keyboard instrument. In the arts, the Baroque was a Western cultural era, which began near the turn of the 17th century in Rome. It was exemplified by drama and grandeur in sculpture, painting, literature, dance, and music. In music, the term 'Baroque' applies to the final period of dominance of imitative counterpoint, where different voices and instruments echo each other but at different pitches, sometimes inverting the echo, and even reversing thematic material. The popularity and success of the Baroque style was encouraged by the Roman Catholic Church which had decided at the time of the Council of Trent that the arts should communicate religious themes in direct and emotional involvement. The upper class also saw the dramatic style of Baroque architecture and art as a means of impressing visitors and expressing triumphant power and control. Baroque palaces are built around an entrance of courts, grand staircases and reception rooms of sequentially increasing opulence. In similar profusions of detail, art, music, architecture, and literature inspired each other in the Baroque cultural movement as artists explored what they could create from repeated and varied patterns. Some traits and aspects of Baroque paintings that differentiate this style from others are the abundant amount of details, often bright polychromy, less realistic faces of subjects, and an overall sense of awe, which was one of the goals in Baroque art. The word baroque probably derives from the ancient Portuguese noun \"barroco\" which is a pearl that is not round but of unpredictable and elaborate shape. Hence, in informal usage, the word baroque can simply mean that something is \"elaborate\", with many details, without reference to the Baroque styles of the seventeenth and eighteenth centuries. In western music, the classical period means music from about 1750 to 1825. It was the time of composers like Joseph Haydn, Wolfgang Amadeus Mozart and Ludwig van Beethoven. Orchestras became bigger, and composers often wrote longer pieces of music called symphonies that had several sections (called movements). Some movements of a symphony were loud and fast; other movements were quiet and sad. The form of a piece of music was very important at this time. Music had to have a nice 'shape'. They often used a structure which was called sonata form. Another important type of music was the string quartet, which is a piece of music written for two violins, a viola, and a violoncello. Like symphonies, string quartet music had several sections. Haydn, Mozart and Beethoven each wrote many famous string quartets. The piano was invented during this time. Composers liked the piano, because it could be used to play dynamics (getting louder or getting softer). Other popular instruments included the violin, the violoncello, the flute, the clarinet, and the oboe. The 19th century is called the Romantic period. Composers were particularly interested in conveying their emotions through music. An important instrument from the Romantic period was the piano. Some composers, such as Frederic Chopin wrote subdued, expressive, quietly emotional piano pieces. Often music described a feeling or told a story using sounds. Other composers, such as Franz Schubert wrote songs for a singer and a piano player called Lied (the German word for \"song\"). These Lieder (plural of Lied) told stories by using the lyrics (words) of the song and by the imaginative piano accompaniments. Other composers, like Richard Strauss, and Franz Liszt created narratives and told stories using only music, which is called a tone poem. Composers, such as Franz Liszt and Johannes Brahms used the piano to play loud, dramatic, strongly emotional music. Many composers began writing music for bigger orchestras, with as many as 100 instruments. It was the period of \"Nationalism\" (the feeling of being proud of one's country) when many composers made music using folksong or melodies from their country. Lots of famous composers lived at this time such as Franz Schubert, Felix Mendelssohn, Frederic Chopin, Johannes Brahms, Pyotr Tchaikovsky and Richard Wagner. From about 1900 onwards is called the \"modern period\". Many 20th century composers wanted to compose music that sounded different from the Classical and Romantic music. Modern composers searched for new ideas, such as using new instruments, different forms, different sounds, or different harmonies. The composer Arnold Schoenberg (1874–1951) wrote pieces which were atonal (meaning that they did not sound as if they were in any clear musical key). Later, Schoenberg invented a new system for writing music called twelve-tone system. Music written with the twelve-tone system sounds strange to some, but is mathematical in nature, often making sense only after careful study. Pure twelve-tone music was popular among academics in the fifties and sixties, but some composers such as Benjamin Britten use it today, when it is necessary to get a certain feel. One of the most important 20th-century composers, Igor Stravinsky (1882–1971), wrote music with very complicated (difficult) chords (groups of notes that are played together) and rhythms. Some composers thought music was getting too complicated and so they wrote Minimalist pieces which use very simple ideas. In the 1950s and 1960s, composers such as Karlheinz Stockhausen experimented with electronic music, using electronic circuits, amplifiers and loudspeakers. In the 1970s, composers began using electronic synthesizers and musical instruments from rock and roll music, such as the electric guitar. They used these new instruments to make new sounds. Composers writing in the 1990s and the 2000s, such as John Adams (born 1947) and James MacMillan (born 1959) often use a mixture of all these ideas, but they like to write tonal music with easy tunes as well. Music can be produced electronically. This is most commonly done by computers, keyboards, electric guitars and disk tables. They can mimic traditional instruments, and also produce very different sounds. 21st-century electronic music is commonly made with computer programs and hardware mixers. Jazz is a type of music that was invented around 1900 in New Orleans in the south of the USA. There were many black musicians living there who played a style of music called blues music. Blues music was influenced by African music (because the black people in the United States had come to the United States as slaves. They were taken from Africa by force). Blues music was a music that was played by singing, using the harmonica, or the acoustic guitar. Many blues songs had sad lyrics about sad emotions (feelings) or sad experiences, such as losing a job, a family member dying, or having to go to jail (prison). Jazz music mixed together blues music with European music. Some black composers such as Scott Joplin were writing music called ragtime, which had a very different rhythm from standard European music, but used notes that were similar to some European music. Ragtime was a big influence on early jazz, called Dixieland jazz. Jazz musicians used instruments such as the trumpet, saxophone, and clarinet were used for the tunes (melodies), drums for percussion and plucked double bass, piano, banjo and guitar for the background rhythm (rhythmic section). Jazz is usually improvised: the players make up (invent) the music as they play. Even though jazz musicians are making up the music, jazz music still has rules; the musicians play a series of chords (groups of notes) in order. Jazz music has a swinging rhythm. The word \"swing\" is hard to explain. For a rhythm to be a \"swinging rhythm\" it has to feel natural and relaxed. Swing rhythm is not even like a march. There is a long-short feel instead of a same-same feel. A \"swinging rhythm\" also gets the people who are listening excited, because they like the sound of it. Some people say that a \"swinging rhythm\" happens when all the jazz musicians start to feel the same pulse and energy from the song. If a jazz band plays very well together, people will say \"that is a swinging jazz band\" or \"that band really swings well.\" Jazz influenced other types of music like the Western art music from the 1920s and 1930s. Art music composers such as George Gershwin wrote music that was influenced by jazz. Jazz music influenced pop music songs. In the 1930s and 1940s, many pop music songs began using chords or melodies from jazz songs. One of the best known jazz musicians was Louis Armstrong (1900–1971). \"Pop\" music is a type of popular music that many people like to listen to. The term \"pop music\" can be used for all kinds of music that was written to be popular. The word \"pop music\" was used from about 1880 onwards, when a type of music called music was popular. Modern pop music grew out of 1950's rock and roll, (for example Chuck Berry, Bo Diddley and Little Richard) and rockabilly (for example Elvis Presley and Buddy Holly). In the 1960s, The Beatles became a famous pop music group. In the 1970s, other styles of music were mixed with pop music, such as funk and soul music. Pop music generally has a heavy (strong) beat, so that it is good for dancing. Pop singers normally sing with microphones that are plugged into an amplifier and a loudspeaker. \"Musical notation\" is the way music is written down. Music needs to be written down in order to be saved and remembered for future performances. In this way composers (people who write music) can tell others how to play the musical piece as it was meant to be played. Solfège (sometimes called solfa) is the way tones are named. It was made in order to give a name to the several tones and pitches. For example, the eight basic notes \"Do, Re, Mi, Fa, So, La, Ti, Do\" are just the names of the eight notes that confirm the major scale. Music can be written in several ways. When it is written on a staff (like in the example shown), the pitches (tones) and their duration are represented by symbols called notes. Notes are put on the lines and in the spaces between the lines. Each position says which tone must be played. The higher the note is on the staff, the higher the pitch of the tone. The lower the notes are, the lower the pitch. The duration of the notes (how long they are played for) is shown by making the note \"heads\" black or white, and by giving them stems and flags. Music can also be written with letters, naming them as in the solfa \"Do, Re, Mi, Fa, So, La, Ti, Do\" or representing them by letters. The next table shows how each note of the solfa is represented in the Standard Notation: The Standard Notation was made to simplify the lecture of music notes, although it is mostly used to represent chords and the names of the music scales. These ways to represent music ease the way a person reads music. There are more ways to write and represent music, but they are less known and may be more complicated. People can enjoy music by listening to it. They can go to concerts to hear musicians perform. Classical music is usually performed in concert halls, but sometimes huge festivals are organized in which it is performed outside, in a field or stadium, like pop festivals. People can listen to music on CD's, Computers, iPods, television, the radio, casette/record-players and even mobile phones. There is so much music today, in elevators, shopping malls, and stores, that it often becomes a background sound that we do not really hear. People can learn to play an instrument. Probably the most common for complete beginners is the piano or keyboard, the guitar, or the recorder (which is certainly the cheapest to buy). After they have learnt to play scales, play simple tunes and read the simplest musical notation, then they can think about which instrument for further development. They should choose an instrument that is practical for their size. For example, a very short child cannot play a full size double bass, because the double bass is over five feet high. People should choose an instrument that they enjoy playing, because playing regularly is the only way to get better. Finally, it helps to have a good teacher. Anyone can make up his or her own pieces of music. It is not difficult to compose simple songs or melodies (tunes). It's easier for people who can play an instrument themselves. All it takes is experimenting with the sounds that an instrument makes. Someone can make up a piece that tells a story, or just find a nice tune and think about ways it can be changed each time it is repeated. The instrument might be someone's own voice. The fact is, there are tons of instruments in the world. The Oxfords Companion to Music, ed. Percy Scholes, London 1970 The New Groves Dictionary of Music and Musicians, ed. Stanley Sadie, London 1980\n"
     ]
    }
   ],
   "source": [
    "print(text)"
   ]
  },
  {
   "cell_type": "code",
   "execution_count": null,
   "id": "334c8d34",
   "metadata": {},
   "outputs": [],
   "source": []
  },
  {
   "cell_type": "code",
   "execution_count": null,
   "id": "d193909f",
   "metadata": {},
   "outputs": [],
   "source": []
  },
  {
   "cell_type": "code",
   "execution_count": null,
   "id": "0eb4888a",
   "metadata": {},
   "outputs": [],
   "source": []
  },
  {
   "cell_type": "code",
   "execution_count": null,
   "id": "00a22de2",
   "metadata": {},
   "outputs": [],
   "source": []
  },
  {
   "cell_type": "code",
   "execution_count": null,
   "id": "9244ff77",
   "metadata": {},
   "outputs": [],
   "source": []
  },
  {
   "cell_type": "code",
   "execution_count": null,
   "id": "f1ba2bdb",
   "metadata": {},
   "outputs": [],
   "source": []
  },
  {
   "cell_type": "code",
   "execution_count": null,
   "id": "4974ce9d",
   "metadata": {},
   "outputs": [],
   "source": []
  },
  {
   "cell_type": "code",
   "execution_count": null,
   "id": "e9c118b9",
   "metadata": {},
   "outputs": [],
   "source": []
  },
  {
   "cell_type": "code",
   "execution_count": null,
   "id": "55c8d0f0",
   "metadata": {},
   "outputs": [],
   "source": []
  },
  {
   "cell_type": "code",
   "execution_count": null,
   "id": "1e88de2f",
   "metadata": {},
   "outputs": [],
   "source": []
  },
  {
   "cell_type": "code",
   "execution_count": null,
   "id": "213ed1ce",
   "metadata": {},
   "outputs": [],
   "source": []
  },
  {
   "cell_type": "code",
   "execution_count": null,
   "id": "33005384",
   "metadata": {},
   "outputs": [],
   "source": []
  }
 ],
 "metadata": {
  "kernelspec": {
   "display_name": "Python 3 (ipykernel)",
   "language": "python",
   "name": "python3"
  },
  "language_info": {
   "codemirror_mode": {
    "name": "ipython",
    "version": 3
   },
   "file_extension": ".py",
   "mimetype": "text/x-python",
   "name": "python",
   "nbconvert_exporter": "python",
   "pygments_lexer": "ipython3",
   "version": "3.9.5"
  },
  "toc": {
   "base_numbering": 1,
   "nav_menu": {},
   "number_sections": true,
   "sideBar": true,
   "skip_h1_title": false,
   "title_cell": "Table of Contents",
   "title_sidebar": "Contents",
   "toc_cell": false,
   "toc_position": {},
   "toc_section_display": true,
   "toc_window_display": false
  }
 },
 "nbformat": 4,
 "nbformat_minor": 5
}
