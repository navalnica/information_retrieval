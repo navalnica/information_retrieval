{
 "cells": [
  {
   "cell_type": "code",
   "execution_count": 1,
   "id": "e5f0f059",
   "metadata": {},
   "outputs": [
    {
     "name": "stdout",
     "output_type": "stream",
     "text": [
      "using device: cuda\n"
     ]
    }
   ],
   "source": [
    "import os\n",
    "import re\n",
    "import logging\n",
    "import math\n",
    "import random\n",
    "\n",
    "RANDOM_SEED = 18\n",
    "random.seed(RANDOM_SEED)\n",
    "\n",
    "from typing import List, Union\n",
    "from tqdm.auto import tqdm\n",
    "\n",
    "from sklearn.model_selection import train_test_split\n",
    "import pandas as pd\n",
    "\n",
    "import torch\n",
    "from torch.utils.data import Dataset, DataLoader\n",
    "\n",
    "import sentence_transformers as st\n",
    "import sentence_transformers.losses\n",
    "from sentence_transformers.datasets import NoDuplicatesDataLoader\n",
    "from sentence_transformers.readers import InputExample\n",
    "\n",
    "device = 'cuda' if torch.cuda.is_available() else 'cpu'\n",
    "print(f'using device: {device}')"
   ]
  },
  {
   "cell_type": "code",
   "execution_count": 2,
   "id": "ce8b3843",
   "metadata": {},
   "outputs": [],
   "source": [
    "from bert_utils.data import *\n",
    "from bert_utils.siamese import *"
   ]
  },
  {
   "cell_type": "code",
   "execution_count": 3,
   "id": "e9baabb2",
   "metadata": {},
   "outputs": [],
   "source": [
    "%load_ext autoreload\n",
    "%autoreload 2"
   ]
  },
  {
   "cell_type": "code",
   "execution_count": null,
   "id": "68f008a8",
   "metadata": {},
   "outputs": [],
   "source": []
  },
  {
   "cell_type": "markdown",
   "id": "21f39bcc",
   "metadata": {},
   "source": [
    "## TODO:\n",
    "\n",
    "* build pipeline for Cross-Encoder\n",
    "\n",
    "----\n",
    "* siamese net:\n",
    "    * train:\n",
    "        * uses MultipleNegativeRankingLoss. we provide only positive examples.\n",
    "          \n",
    "          for i, all the rest examples (j != i) from the batch are considered as negative examples.\n",
    "          \n",
    "          thus we don't need to sample negative examples explicitly.\n",
    "          \n",
    "          and there is no need to compute embeddings for negative examples because we reuse\n",
    "          embeddings for positive examples when treating them as negatives.\n",
    "          \n",
    "        * NoDuplicatesDataloader is not parallel (does it impact training speed?)\n",
    "\n",
    "    * evaluation:\n",
    "        * sample negative cases randomly\n",
    "        \n",
    "        \n",
    "* cross-encoder:\n",
    "    * evaluation:\n",
    "        * ideally: rerank siamese predictions -> i.e. compute classification metrices for K * |q| examples\n",
    "        * for simplicity (no connection with siamese net), let's sample negative examples randomly\n",
    "      \n",
    "----\n",
    "\n",
    "Notes:\n",
    "* one of main bottlenecks is reading texts from disk. \n",
    "  it takes ~1.5 min to read ~11k articles (size of evaluation set with negative examples) from ssd"
   ]
  },
  {
   "cell_type": "code",
   "execution_count": null,
   "id": "2d75d7f9",
   "metadata": {},
   "outputs": [],
   "source": []
  },
  {
   "cell_type": "markdown",
   "id": "89e87b53",
   "metadata": {},
   "source": [
    "## functions"
   ]
  },
  {
   "cell_type": "code",
   "execution_count": 4,
   "id": "615bd6bf",
   "metadata": {},
   "outputs": [],
   "source": [
    "def process_title(title: pd.Series):\n",
    "    title = title.str.lower().str.strip()\n",
    "    title = title.str.replace(r'([^\\w\\s])|_|-', '_', regex=True)\n",
    "    return title"
   ]
  },
  {
   "cell_type": "code",
   "execution_count": null,
   "id": "f3316bb0",
   "metadata": {},
   "outputs": [],
   "source": []
  },
  {
   "cell_type": "markdown",
   "id": "d59633f6",
   "metadata": {},
   "source": [
    "## data"
   ]
  },
  {
   "cell_type": "code",
   "execution_count": 5,
   "id": "6f5d6604",
   "metadata": {},
   "outputs": [
    {
     "name": "stdout",
     "output_type": "stream",
     "text": [
      "(223619, 4)\n"
     ]
    }
   ],
   "source": [
    "data_root_dp = '/media/rtn/Windows 10/work/univier/wiki_extract/wiki_parsed'\n",
    "articles_dp = data_root_dp\n",
    "\n",
    "filemap = pd.read_csv(os.path.join(data_root_dp, 'filepaths.csv'))\n",
    "assert filemap.duplicated('filename').sum() == 0\n",
    "\n",
    "filemap['article_id'] = list(range(filemap.shape[0]))\n",
    "article_ids = set(filemap['article_id'])\n",
    "\n",
    "print(filemap.shape)"
   ]
  },
  {
   "cell_type": "code",
   "execution_count": 6,
   "id": "4d92aa1e",
   "metadata": {},
   "outputs": [
    {
     "data": {
      "text/plain": [
       "'Poetry is a type of art form and a type of literature. Poetry uses the qualities of words, in different ways, to be artistic. Poetry can be as short as a few words, or as long as a book. A poem as short as one line is called a monostich. A poem that is as long as a book is an epic. There are many \"poetic forms\" (forms of poetry). Some of forms are: Sonnet, Haiku, Ballad, Stev, Prose poem, Ode, Free verse, Blank verse, thematic, limerick and nursery rhymes. Poetry can be used to describe (comparing, talking about, or expressing emotion) many things. It can make sense or be nonsense, it can rhyme or not. It can have many shapes and sizes; it can be serious or funny. \"To say something poetically\" means to give information in an artistic way. A more modern approach is digital poetry. Computers and webtechnology is used to express poetry and make it interactive. So called interdisciplinary poetry (wich means combination of different forms of poetry) are made possible by linking the poetic texts with audio, video or web-animation (e.g. with CSS) or among themselves via hyperlinks. Modern artists use digital poetry to not only express artistic intention, but also to design a layout around their texts. An example for this use of interdisciplinary art, which combines abstract text and abstract visuals is the german project \"Schwarzer Flamingo\". It uses digital poetry to collect pieces of written art but also to give different artists a plattform. So some projects of digital art can be described as a form of an artwork as well as an exhibition.'"
      ]
     },
     "execution_count": 6,
     "metadata": {},
     "output_type": "execute_result"
    }
   ],
   "source": [
    "get_article_text(get_article_path('poetry', filemap))"
   ]
  },
  {
   "cell_type": "code",
   "execution_count": null,
   "id": "9aeb69b9",
   "metadata": {},
   "outputs": [],
   "source": []
  },
  {
   "cell_type": "code",
   "execution_count": 7,
   "id": "7681e6da",
   "metadata": {},
   "outputs": [
    {
     "name": "stdout",
     "output_type": "stream",
     "text": [
      "(200, 2)\n"
     ]
    },
    {
     "data": {
      "text/html": [
       "<div>\n",
       "<style scoped>\n",
       "    .dataframe tbody tr th:only-of-type {\n",
       "        vertical-align: middle;\n",
       "    }\n",
       "\n",
       "    .dataframe tbody tr th {\n",
       "        vertical-align: top;\n",
       "    }\n",
       "\n",
       "    .dataframe thead th {\n",
       "        text-align: right;\n",
       "    }\n",
       "</style>\n",
       "<table border=\"1\" class=\"dataframe\">\n",
       "  <thead>\n",
       "    <tr style=\"text-align: right;\">\n",
       "      <th></th>\n",
       "      <th>query</th>\n",
       "      <th>title</th>\n",
       "    </tr>\n",
       "  </thead>\n",
       "  <tbody>\n",
       "    <tr>\n",
       "      <th>0</th>\n",
       "      <td>animals that have shells and live in water</td>\n",
       "      <td>shell__zoology_</td>\n",
       "    </tr>\n",
       "    <tr>\n",
       "      <th>1</th>\n",
       "      <td>how many different types of scorpions are there</td>\n",
       "      <td>scorpion</td>\n",
       "    </tr>\n",
       "    <tr>\n",
       "      <th>2</th>\n",
       "      <td>describe the structure of a scientific name fo...</td>\n",
       "      <td>binomial_nomenclature</td>\n",
       "    </tr>\n",
       "  </tbody>\n",
       "</table>\n",
       "</div>"
      ],
      "text/plain": [
       "                                               query                  title\n",
       "0         animals that have shells and live in water        shell__zoology_\n",
       "1    how many different types of scorpions are there               scorpion\n",
       "2  describe the structure of a scientific name fo...  binomial_nomenclature"
      ]
     },
     "execution_count": 7,
     "metadata": {},
     "output_type": "execute_result"
    }
   ],
   "source": [
    "labels_test = pd.read_csv('data/queries.tsv', sep='\\t', header=None)\n",
    "labels_test.columns = ['query', 'title']\n",
    "labels_test['title'] = process_title(labels_test['title'])\n",
    "\n",
    "print(labels_test.shape)\n",
    "labels_test.head(3)"
   ]
  },
  {
   "cell_type": "code",
   "execution_count": 8,
   "id": "4110bee3",
   "metadata": {},
   "outputs": [
    {
     "name": "stdout",
     "output_type": "stream",
     "text": [
      "(50000, 2)\n"
     ]
    },
    {
     "data": {
      "text/html": [
       "<div>\n",
       "<style scoped>\n",
       "    .dataframe tbody tr th:only-of-type {\n",
       "        vertical-align: middle;\n",
       "    }\n",
       "\n",
       "    .dataframe tbody tr th {\n",
       "        vertical-align: top;\n",
       "    }\n",
       "\n",
       "    .dataframe thead th {\n",
       "        text-align: right;\n",
       "    }\n",
       "</style>\n",
       "<table border=\"1\" class=\"dataframe\">\n",
       "  <thead>\n",
       "    <tr style=\"text-align: right;\">\n",
       "      <th></th>\n",
       "      <th>query</th>\n",
       "      <th>title</th>\n",
       "    </tr>\n",
       "  </thead>\n",
       "  <tbody>\n",
       "    <tr>\n",
       "      <th>0</th>\n",
       "      <td>where does the most metabolic activity in the ...</td>\n",
       "      <td>cytoplasm</td>\n",
       "    </tr>\n",
       "    <tr>\n",
       "      <th>1</th>\n",
       "      <td>what kind of dog played in turner and hooch</td>\n",
       "      <td>dogue_de_bordeaux</td>\n",
       "    </tr>\n",
       "    <tr>\n",
       "      <th>2</th>\n",
       "      <td>when is there gonna be an eclipse 2017</td>\n",
       "      <td>solar_eclipse_of_august_21__2017</td>\n",
       "    </tr>\n",
       "  </tbody>\n",
       "</table>\n",
       "</div>"
      ],
      "text/plain": [
       "                                               query  \\\n",
       "0  where does the most metabolic activity in the ...   \n",
       "1        what kind of dog played in turner and hooch   \n",
       "2             when is there gonna be an eclipse 2017   \n",
       "\n",
       "                              title  \n",
       "0                         cytoplasm  \n",
       "1                 dogue_de_bordeaux  \n",
       "2  solar_eclipse_of_august_21__2017  "
      ]
     },
     "execution_count": 8,
     "metadata": {},
     "output_type": "execute_result"
    }
   ],
   "source": [
    "labels_train_raw = pd.read_csv('data/train.tsv', sep='\\t', header=None)\n",
    "labels_train_raw.columns = ['query', 'title']\n",
    "labels_train_raw['title'] = process_title(labels_train_raw['title'])\n",
    "\n",
    "print(labels_train_raw.shape)\n",
    "labels_train_raw.head(3)"
   ]
  },
  {
   "cell_type": "code",
   "execution_count": null,
   "id": "1f4c1ab3",
   "metadata": {},
   "outputs": [],
   "source": []
  },
  {
   "cell_type": "code",
   "execution_count": 9,
   "id": "b58800bb",
   "metadata": {},
   "outputs": [
    {
     "data": {
      "text/html": [
       "<div>\n",
       "<style scoped>\n",
       "    .dataframe tbody tr th:only-of-type {\n",
       "        vertical-align: middle;\n",
       "    }\n",
       "\n",
       "    .dataframe tbody tr th {\n",
       "        vertical-align: top;\n",
       "    }\n",
       "\n",
       "    .dataframe thead th {\n",
       "        text-align: right;\n",
       "    }\n",
       "</style>\n",
       "<table border=\"1\" class=\"dataframe\">\n",
       "  <thead>\n",
       "    <tr style=\"text-align: right;\">\n",
       "      <th></th>\n",
       "      <th>filename</th>\n",
       "      <th>path</th>\n",
       "      <th>html_path</th>\n",
       "      <th>article_id</th>\n",
       "    </tr>\n",
       "  </thead>\n",
       "  <tbody>\n",
       "    <tr>\n",
       "      <th>0</th>\n",
       "      <td>000_emergency</td>\n",
       "      <td>/media/rtn/Windows 10/work/univier/wiki_extrac...</td>\n",
       "      <td>/media/rtn/Windows 10/work/univier/wiki_extrac...</td>\n",
       "      <td>0</td>\n",
       "    </tr>\n",
       "    <tr>\n",
       "      <th>1</th>\n",
       "      <td>0s_bc</td>\n",
       "      <td>/media/rtn/Windows 10/work/univier/wiki_extrac...</td>\n",
       "      <td>/media/rtn/Windows 10/work/univier/wiki_extrac...</td>\n",
       "      <td>1</td>\n",
       "    </tr>\n",
       "    <tr>\n",
       "      <th>2</th>\n",
       "      <td>0_0_0</td>\n",
       "      <td>/media/rtn/Windows 10/work/univier/wiki_extrac...</td>\n",
       "      <td>/media/rtn/Windows 10/work/univier/wiki_extrac...</td>\n",
       "      <td>2</td>\n",
       "    </tr>\n",
       "    <tr>\n",
       "      <th>3</th>\n",
       "      <td>0_4_0</td>\n",
       "      <td>/media/rtn/Windows 10/work/univier/wiki_extrac...</td>\n",
       "      <td>/media/rtn/Windows 10/work/univier/wiki_extrac...</td>\n",
       "      <td>3</td>\n",
       "    </tr>\n",
       "    <tr>\n",
       "      <th>4</th>\n",
       "      <td>0_6_0</td>\n",
       "      <td>/media/rtn/Windows 10/work/univier/wiki_extrac...</td>\n",
       "      <td>/media/rtn/Windows 10/work/univier/wiki_extrac...</td>\n",
       "      <td>4</td>\n",
       "    </tr>\n",
       "  </tbody>\n",
       "</table>\n",
       "</div>"
      ],
      "text/plain": [
       "        filename                                               path  \\\n",
       "0  000_emergency  /media/rtn/Windows 10/work/univier/wiki_extrac...   \n",
       "1          0s_bc  /media/rtn/Windows 10/work/univier/wiki_extrac...   \n",
       "2          0_0_0  /media/rtn/Windows 10/work/univier/wiki_extrac...   \n",
       "3          0_4_0  /media/rtn/Windows 10/work/univier/wiki_extrac...   \n",
       "4          0_6_0  /media/rtn/Windows 10/work/univier/wiki_extrac...   \n",
       "\n",
       "                                           html_path  article_id  \n",
       "0  /media/rtn/Windows 10/work/univier/wiki_extrac...           0  \n",
       "1  /media/rtn/Windows 10/work/univier/wiki_extrac...           1  \n",
       "2  /media/rtn/Windows 10/work/univier/wiki_extrac...           2  \n",
       "3  /media/rtn/Windows 10/work/univier/wiki_extrac...           3  \n",
       "4  /media/rtn/Windows 10/work/univier/wiki_extrac...           4  "
      ]
     },
     "execution_count": 9,
     "metadata": {},
     "output_type": "execute_result"
    }
   ],
   "source": [
    "filemap.head()"
   ]
  },
  {
   "cell_type": "code",
   "execution_count": null,
   "id": "650dec9c",
   "metadata": {},
   "outputs": [],
   "source": []
  },
  {
   "cell_type": "markdown",
   "id": "2cec1bf9",
   "metadata": {},
   "source": [
    "### filter train, test samples"
   ]
  },
  {
   "cell_type": "code",
   "execution_count": 10,
   "id": "5acfc115",
   "metadata": {},
   "outputs": [
    {
     "name": "stdout",
     "output_type": "stream",
     "text": [
      "init shapes: (223619, 50000)\n",
      "unique elements: (223619, 16731)\n",
      "s1 & s2: 15430\n",
      "s1 ^ s2: 209490\n",
      "s1 - s2: 208189\n",
      "s2 - s1: 1301\n"
     ]
    }
   ],
   "source": [
    "two_sets_stats(filemap['filename'], labels_train_raw['title'])"
   ]
  },
  {
   "cell_type": "code",
   "execution_count": 11,
   "id": "1b172bf2",
   "metadata": {},
   "outputs": [
    {
     "name": "stdout",
     "output_type": "stream",
     "text": [
      "init shapes: (223619, 200)\n",
      "unique elements: (223619, 142)\n",
      "s1 & s2: 137\n",
      "s1 ^ s2: 223487\n",
      "s1 - s2: 223482\n",
      "s2 - s1: 5\n"
     ]
    }
   ],
   "source": [
    "two_sets_stats(filemap['filename'], labels_test['title'])"
   ]
  },
  {
   "cell_type": "code",
   "execution_count": 12,
   "id": "a037b991",
   "metadata": {},
   "outputs": [
    {
     "name": "stdout",
     "output_type": "stream",
     "text": [
      "45260\n",
      "194\n"
     ]
    }
   ],
   "source": [
    "# labels_train_raw = labels_train_raw[labels_train_raw['title'].isin(filemap['filename'])]\n",
    "# labels_test = labels_test[labels_test['title'].isin(filemap['filename'])]\n",
    "\n",
    "labels_train_raw = labels_train_raw.merge(\n",
    "    filemap[['filename', 'article_id']], \n",
    "    left_on='title', right_on='filename', how='inner').drop(columns='filename')\n",
    "\n",
    "labels_test = labels_test.merge(\n",
    "    filemap[['filename', 'article_id']], \n",
    "    left_on='title', right_on='filename', how='inner').drop(columns='filename')\n",
    "\n",
    "print(labels_train_raw.shape[0])\n",
    "print(labels_test.shape[0])"
   ]
  },
  {
   "cell_type": "code",
   "execution_count": null,
   "id": "031cfe56",
   "metadata": {},
   "outputs": [],
   "source": []
  },
  {
   "cell_type": "code",
   "execution_count": 13,
   "id": "fb954d4b",
   "metadata": {},
   "outputs": [
    {
     "data": {
      "text/html": [
       "<div>\n",
       "<style scoped>\n",
       "    .dataframe tbody tr th:only-of-type {\n",
       "        vertical-align: middle;\n",
       "    }\n",
       "\n",
       "    .dataframe tbody tr th {\n",
       "        vertical-align: top;\n",
       "    }\n",
       "\n",
       "    .dataframe thead th {\n",
       "        text-align: right;\n",
       "    }\n",
       "</style>\n",
       "<table border=\"1\" class=\"dataframe\">\n",
       "  <thead>\n",
       "    <tr style=\"text-align: right;\">\n",
       "      <th></th>\n",
       "      <th>query</th>\n",
       "      <th>title</th>\n",
       "      <th>article_id</th>\n",
       "    </tr>\n",
       "  </thead>\n",
       "  <tbody>\n",
       "    <tr>\n",
       "      <th>0</th>\n",
       "      <td>where does the most metabolic activity in the ...</td>\n",
       "      <td>cytoplasm</td>\n",
       "      <td>52039</td>\n",
       "    </tr>\n",
       "    <tr>\n",
       "      <th>1</th>\n",
       "      <td>what is the structure that contains ions subst...</td>\n",
       "      <td>cytoplasm</td>\n",
       "      <td>52039</td>\n",
       "    </tr>\n",
       "  </tbody>\n",
       "</table>\n",
       "</div>"
      ],
      "text/plain": [
       "                                               query      title  article_id\n",
       "0  where does the most metabolic activity in the ...  cytoplasm       52039\n",
       "1  what is the structure that contains ions subst...  cytoplasm       52039"
      ]
     },
     "execution_count": 13,
     "metadata": {},
     "output_type": "execute_result"
    }
   ],
   "source": [
    "labels_train_raw.head(2)"
   ]
  },
  {
   "cell_type": "code",
   "execution_count": 14,
   "id": "3376a021",
   "metadata": {},
   "outputs": [
    {
     "data": {
      "text/html": [
       "<div>\n",
       "<style scoped>\n",
       "    .dataframe tbody tr th:only-of-type {\n",
       "        vertical-align: middle;\n",
       "    }\n",
       "\n",
       "    .dataframe tbody tr th {\n",
       "        vertical-align: top;\n",
       "    }\n",
       "\n",
       "    .dataframe thead th {\n",
       "        text-align: right;\n",
       "    }\n",
       "</style>\n",
       "<table border=\"1\" class=\"dataframe\">\n",
       "  <thead>\n",
       "    <tr style=\"text-align: right;\">\n",
       "      <th></th>\n",
       "      <th>query</th>\n",
       "      <th>title</th>\n",
       "      <th>article_id</th>\n",
       "    </tr>\n",
       "  </thead>\n",
       "  <tbody>\n",
       "    <tr>\n",
       "      <th>0</th>\n",
       "      <td>animals that have shells and live in water</td>\n",
       "      <td>shell__zoology_</td>\n",
       "      <td>180649</td>\n",
       "    </tr>\n",
       "    <tr>\n",
       "      <th>1</th>\n",
       "      <td>how many different types of scorpions are there</td>\n",
       "      <td>scorpion</td>\n",
       "      <td>177775</td>\n",
       "    </tr>\n",
       "  </tbody>\n",
       "</table>\n",
       "</div>"
      ],
      "text/plain": [
       "                                             query            title  \\\n",
       "0       animals that have shells and live in water  shell__zoology_   \n",
       "1  how many different types of scorpions are there         scorpion   \n",
       "\n",
       "   article_id  \n",
       "0      180649  \n",
       "1      177775  "
      ]
     },
     "execution_count": 14,
     "metadata": {},
     "output_type": "execute_result"
    }
   ],
   "source": [
    "labels_test.head(2)"
   ]
  },
  {
   "cell_type": "code",
   "execution_count": null,
   "id": "caa576c2",
   "metadata": {},
   "outputs": [],
   "source": []
  },
  {
   "cell_type": "code",
   "execution_count": null,
   "id": "fa729e18",
   "metadata": {},
   "outputs": [],
   "source": []
  },
  {
   "cell_type": "markdown",
   "id": "7bc153de",
   "metadata": {},
   "source": [
    "## siamese model"
   ]
  },
  {
   "cell_type": "code",
   "execution_count": null,
   "id": "bcfbbf49",
   "metadata": {},
   "outputs": [],
   "source": []
  },
  {
   "cell_type": "markdown",
   "id": "5adb3051",
   "metadata": {},
   "source": [
    "### prepare data"
   ]
  },
  {
   "cell_type": "code",
   "execution_count": 15,
   "id": "640020f1",
   "metadata": {},
   "outputs": [
    {
     "name": "stdout",
     "output_type": "stream",
     "text": [
      "(38471, 3)\n",
      "(6789, 3)\n"
     ]
    }
   ],
   "source": [
    "assert labels_train_raw['query'].duplicated().sum() == 0  # else we should split into (train, val) by queries\n",
    "\n",
    "labels_train, labels_val = train_test_split(\n",
    "    labels_train_raw, random_state=RANDOM_SEED, test_size=0.15, shuffle=True)\n",
    "\n",
    "print(labels_train.shape)\n",
    "print(labels_val.shape)"
   ]
  },
  {
   "cell_type": "code",
   "execution_count": 16,
   "id": "24b4f980",
   "metadata": {},
   "outputs": [
    {
     "name": "stdout",
     "output_type": "stream",
     "text": [
      "(13578, 4)\n"
     ]
    }
   ],
   "source": [
    "val_dataset = add_negative_samples_to_val_set(\n",
    "    labels_val=labels_val, val_neg_to_pos_factor=1, \n",
    "    all_article_ids=article_ids, filemap=filemap, \n",
    ")\n",
    "print(val_dataset.shape)"
   ]
  },
  {
   "cell_type": "code",
   "execution_count": null,
   "id": "a8c3bb21",
   "metadata": {},
   "outputs": [],
   "source": []
  },
  {
   "cell_type": "code",
   "execution_count": 17,
   "id": "a47dc0c1",
   "metadata": {},
   "outputs": [
    {
     "name": "stdout",
     "output_type": "stream",
     "text": [
      "15430\n",
      "14136\n",
      "11162\n"
     ]
    }
   ],
   "source": [
    "print(labels_train_raw['title'].nunique())\n",
    "print(labels_train['title'].nunique())\n",
    "print(val_dataset['title'].nunique())"
   ]
  },
  {
   "cell_type": "code",
   "execution_count": null,
   "id": "c9189930",
   "metadata": {},
   "outputs": [],
   "source": []
  },
  {
   "cell_type": "code",
   "execution_count": 18,
   "id": "1f31a747",
   "metadata": {},
   "outputs": [],
   "source": [
    "train_dataset = WikiQADataset(labels_train, filemap=filemap)"
   ]
  },
  {
   "cell_type": "code",
   "execution_count": 19,
   "id": "2d024636",
   "metadata": {},
   "outputs": [
    {
     "data": {
      "text/plain": [
       "['how do they draw teams for the world cup',\n",
       " 'The knockout stage of the 2018 FIFA World Cup is the second stage of the competition, just after the group stage. It began on 30 June with the round of 16 and ended on 15 July with the final match, held at the Luzhniki Stadium in Moscow. The top two teams from each group (16 in total) would advance to the knockout stage to compete in a single-elimination. In the knockout stage, if a match is level at the end of 90 minutes of normal playing time, extra time would be played (two periods of 15 minutes each), where each team is allowed to make a fourth substitution. If still tied after extra time, the match would be decided by a penalty shoot-out to determine the winners. A third place play-off will also be played between the two losing teams of the semi-finals. The top two placed teams from each of the eight groups will qualify for the knockout stage.']"
      ]
     },
     "execution_count": 19,
     "metadata": {},
     "output_type": "execute_result"
    }
   ],
   "source": [
    "train_dataset[2].texts"
   ]
  },
  {
   "cell_type": "code",
   "execution_count": null,
   "id": "def5b8c5",
   "metadata": {},
   "outputs": [],
   "source": []
  },
  {
   "cell_type": "code",
   "execution_count": 20,
   "id": "0c3f15a5",
   "metadata": {},
   "outputs": [],
   "source": [
    "# TODO: has max_seq_length: 128. can change to other model\n",
    "model = st.SentenceTransformer('distilbert-base-nli-mean-tokens')\n",
    "model.to(device);"
   ]
  },
  {
   "cell_type": "code",
   "execution_count": null,
   "id": "c18c28b8",
   "metadata": {},
   "outputs": [],
   "source": []
  },
  {
   "cell_type": "markdown",
   "id": "a0fbaec5",
   "metadata": {},
   "source": [
    "### train siamese model"
   ]
  },
  {
   "cell_type": "code",
   "execution_count": 41,
   "id": "c1a8053a",
   "metadata": {},
   "outputs": [
    {
     "name": "stdout",
     "output_type": "stream",
     "text": [
      "checkpoints_dp: \"/media/rtn/data/fajly2/nn/bert/siam/checkpoints\"\n",
      "output_dp: \"/media/rtn/data/fajly2/nn/bert/siam/output\"\n",
      "num_epochs: 2\n",
      "train_batch_size: 16\n",
      "val_batch_size: 64\n",
      "warmup steps: 481\n",
      "len(train_dl): 2404\n",
      "eval_steps: 240\n"
     ]
    }
   ],
   "source": [
    "train_dl = CustomNoDuplicatesDataLoader(train_dataset, batch_size=train_batch_size)\n",
    "\n",
    "num_epochs = 2\n",
    "train_batch_size = 16\n",
    "val_batch_size = 64\n",
    "warmup_steps = math.ceil(len(train_dl) * num_epochs * 0.1)\n",
    "eval_steps = int(len(train_dl) * 0.1)\n",
    "\n",
    "out_root_dp = '/media/rtn/data/fajly2/nn/bert'\n",
    "checkpoints_dp = os.path.join(out_root_dp, 'siam', 'checkpoints')\n",
    "output_dp = os.path.join(out_root_dp, 'siam', 'output')\n",
    "print(f'checkpoints_dp: \"{checkpoints_dp}\"')\n",
    "print(f'output_dp: \"{output_dp}\"')\n",
    "\n",
    "print(f\"num_epochs: {num_epochs}\")\n",
    "print(f'train_batch_size: {train_batch_size}')\n",
    "print(f'val_batch_size: {val_batch_size}')\n",
    "print(f\"warmup steps: {warmup_steps}\")\n",
    "print(f'len(train_dl): {len(train_dl)}')\n",
    "print(f'eval_steps: {eval_steps}')"
   ]
  },
  {
   "cell_type": "code",
   "execution_count": null,
   "id": "8c69e795",
   "metadata": {},
   "outputs": [],
   "source": []
  },
  {
   "cell_type": "code",
   "execution_count": 34,
   "id": "dd03bd77",
   "metadata": {},
   "outputs": [],
   "source": [
    "train_loss = st.losses.MultipleNegativesRankingLoss(model=model)"
   ]
  },
  {
   "cell_type": "code",
   "execution_count": null,
   "id": "4f554e36",
   "metadata": {},
   "outputs": [],
   "source": [
    "val_evaluator = CustomBinaryClassificationEvaluator(\n",
    "    sentences1=val_dataset['query'].tolist(),\n",
    "    sentences2=val_dataset_articles,\n",
    "    labels=val_dataset['label'].tolist(),\n",
    "    batch_size=val_batch_size\n",
    ")"
   ]
  },
  {
   "cell_type": "code",
   "execution_count": 26,
   "id": "f199b52e",
   "metadata": {},
   "outputs": [],
   "source": [
    "model.fit(\n",
    "    train_objectives=[(train_dl, train_loss)],\n",
    "    epochs=num_epochs,\n",
    "    evaluator=val_evaluator,\n",
    "    evaluation_steps=eval_steps,\n",
    "    \n",
    "    checkpoint_path=checkpoints_dp,\n",
    "    checkpoint_save_steps=eval_steps,\n",
    "    output_path=output_dp,\n",
    "    save_best_model=True,\n",
    "    \n",
    "    optimizer_params={'lr': 2e-5},\n",
    "    weight_decay= 0.01,\n",
    "    scheduler='WarmupLinear',\n",
    "    warmup_steps=warmup_steps,\n",
    "    use_amp=False,\n",
    "    \n",
    "    steps_per_epoch=300,  # for debug\n",
    ")"
   ]
  },
  {
   "cell_type": "code",
   "execution_count": null,
   "id": "c89ebbe3",
   "metadata": {},
   "outputs": [],
   "source": []
  },
  {
   "cell_type": "markdown",
   "id": "189c2a02",
   "metadata": {},
   "source": [
    "## debug"
   ]
  },
  {
   "cell_type": "code",
   "execution_count": 21,
   "id": "faeea810",
   "metadata": {},
   "outputs": [
    {
     "data": {
      "text/html": [
       "<div>\n",
       "<style scoped>\n",
       "    .dataframe tbody tr th:only-of-type {\n",
       "        vertical-align: middle;\n",
       "    }\n",
       "\n",
       "    .dataframe tbody tr th {\n",
       "        vertical-align: top;\n",
       "    }\n",
       "\n",
       "    .dataframe thead th {\n",
       "        text-align: right;\n",
       "    }\n",
       "</style>\n",
       "<table border=\"1\" class=\"dataframe\">\n",
       "  <thead>\n",
       "    <tr style=\"text-align: right;\">\n",
       "      <th></th>\n",
       "      <th>query</th>\n",
       "      <th>title</th>\n",
       "      <th>article_id</th>\n",
       "      <th>label</th>\n",
       "    </tr>\n",
       "  </thead>\n",
       "  <tbody>\n",
       "    <tr>\n",
       "      <th>0</th>\n",
       "      <td>the governor general who annexed sindh in brit...</td>\n",
       "      <td>charles_james_napier</td>\n",
       "      <td>40657</td>\n",
       "      <td>1</td>\n",
       "    </tr>\n",
       "    <tr>\n",
       "      <th>1</th>\n",
       "      <td>where does the thirteen reasons why take place</td>\n",
       "      <td>13_reasons_why</td>\n",
       "      <td>635</td>\n",
       "      <td>1</td>\n",
       "    </tr>\n",
       "    <tr>\n",
       "      <th>2</th>\n",
       "      <td>what kind of engine does a honda crv have</td>\n",
       "      <td>honda_cr_v</td>\n",
       "      <td>90180</td>\n",
       "      <td>1</td>\n",
       "    </tr>\n",
       "    <tr>\n",
       "      <th>3</th>\n",
       "      <td>does steven king have a cameo in the new it movie</td>\n",
       "      <td>it__2017_movie_</td>\n",
       "      <td>97006</td>\n",
       "      <td>1</td>\n",
       "    </tr>\n",
       "    <tr>\n",
       "      <th>4</th>\n",
       "      <td>how many goals has rooney scored for dc</td>\n",
       "      <td>wayne_rooney</td>\n",
       "      <td>215242</td>\n",
       "      <td>1</td>\n",
       "    </tr>\n",
       "  </tbody>\n",
       "</table>\n",
       "</div>"
      ],
      "text/plain": [
       "                                               query                 title  \\\n",
       "0  the governor general who annexed sindh in brit...  charles_james_napier   \n",
       "1     where does the thirteen reasons why take place        13_reasons_why   \n",
       "2          what kind of engine does a honda crv have            honda_cr_v   \n",
       "3  does steven king have a cameo in the new it movie       it__2017_movie_   \n",
       "4            how many goals has rooney scored for dc          wayne_rooney   \n",
       "\n",
       "   article_id  label  \n",
       "0       40657      1  \n",
       "1         635      1  \n",
       "2       90180      1  \n",
       "3       97006      1  \n",
       "4      215242      1  "
      ]
     },
     "execution_count": 21,
     "metadata": {},
     "output_type": "execute_result"
    }
   ],
   "source": [
    "val_dataset.head()"
   ]
  },
  {
   "cell_type": "code",
   "execution_count": 22,
   "id": "a230a664",
   "metadata": {},
   "outputs": [
    {
     "data": {
      "text/plain": [
       "1    6789\n",
       "0    6789\n",
       "Name: label, dtype: int64"
      ]
     },
     "execution_count": 22,
     "metadata": {},
     "output_type": "execute_result"
    }
   ],
   "source": [
    "val_dataset['label'].value_counts()"
   ]
  },
  {
   "cell_type": "code",
   "execution_count": 23,
   "id": "3e7cb0f1",
   "metadata": {},
   "outputs": [
    {
     "data": {
      "text/plain": [
       "query         object\n",
       "title         object\n",
       "article_id     int64\n",
       "label          int64\n",
       "dtype: object"
      ]
     },
     "execution_count": 23,
     "metadata": {},
     "output_type": "execute_result"
    }
   ],
   "source": [
    "val_dataset.dtypes"
   ]
  },
  {
   "cell_type": "code",
   "execution_count": 24,
   "id": "c0caf831",
   "metadata": {},
   "outputs": [
    {
     "data": {
      "application/vnd.jupyter.widget-view+json": {
       "model_id": "7269fe0abc5c41d6be22d6d4a12a36a8",
       "version_major": 2,
       "version_minor": 0
      },
      "text/plain": [
       "  0%|          | 0/13578 [00:00<?, ?it/s]"
      ]
     },
     "metadata": {},
     "output_type": "display_data"
    }
   ],
   "source": [
    "val_dataset_articles = []\n",
    "for t in tqdm(val_dataset['title']):\n",
    "    val_dataset_articles.append(get_article_text(get_article_path(t, filemap)))"
   ]
  },
  {
   "cell_type": "code",
   "execution_count": null,
   "id": "2f697782",
   "metadata": {},
   "outputs": [],
   "source": []
  },
  {
   "cell_type": "code",
   "execution_count": 26,
   "id": "deb5b637",
   "metadata": {},
   "outputs": [
    {
     "data": {
      "application/vnd.jupyter.widget-view+json": {
       "model_id": "23a83914e44b4fa1b8e443d218d128c2",
       "version_major": 2,
       "version_minor": 0
      },
      "text/plain": [
       "Batches:   0%|          | 0/277 [00:00<?, ?it/s]"
      ]
     },
     "metadata": {},
     "output_type": "display_data"
    },
    {
     "data": {
      "text/plain": [
       "0.8021357742181541"
      ]
     },
     "execution_count": 26,
     "metadata": {},
     "output_type": "execute_result"
    }
   ],
   "source": [
    "val_evaluator(model, output_path='tmp')"
   ]
  },
  {
   "cell_type": "code",
   "execution_count": 32,
   "id": "c779f789",
   "metadata": {},
   "outputs": [
    {
     "data": {
      "text/html": [
       "<div>\n",
       "<style scoped>\n",
       "    .dataframe tbody tr th:only-of-type {\n",
       "        vertical-align: middle;\n",
       "    }\n",
       "\n",
       "    .dataframe tbody tr th {\n",
       "        vertical-align: top;\n",
       "    }\n",
       "\n",
       "    .dataframe thead th {\n",
       "        text-align: right;\n",
       "    }\n",
       "</style>\n",
       "<table border=\"1\" class=\"dataframe\">\n",
       "  <thead>\n",
       "    <tr style=\"text-align: right;\">\n",
       "      <th></th>\n",
       "      <th>epoch</th>\n",
       "      <th>steps</th>\n",
       "      <th>f1_threshold</th>\n",
       "      <th>f1</th>\n",
       "      <th>precision</th>\n",
       "      <th>recall</th>\n",
       "      <th>accuracy</th>\n",
       "      <th>ap</th>\n",
       "    </tr>\n",
       "  </thead>\n",
       "  <tbody>\n",
       "    <tr>\n",
       "      <th>0</th>\n",
       "      <td>-1</td>\n",
       "      <td>-1</td>\n",
       "      <td>0.415949</td>\n",
       "      <td>0.802136</td>\n",
       "      <td>0.83183</td>\n",
       "      <td>0.774488</td>\n",
       "      <td>0.808956</td>\n",
       "      <td>0.900265</td>\n",
       "    </tr>\n",
       "  </tbody>\n",
       "</table>\n",
       "</div>"
      ],
      "text/plain": [
       "   epoch  steps  f1_threshold        f1  precision    recall  accuracy  \\\n",
       "0     -1     -1      0.415949  0.802136    0.83183  0.774488  0.808956   \n",
       "\n",
       "         ap  \n",
       "0  0.900265  "
      ]
     },
     "execution_count": 32,
     "metadata": {},
     "output_type": "execute_result"
    }
   ],
   "source": [
    "pd.read_csv('tmp/validation_evaluator_results.csv')"
   ]
  },
  {
   "cell_type": "code",
   "execution_count": null,
   "id": "1d492a8b",
   "metadata": {},
   "outputs": [],
   "source": []
  },
  {
   "cell_type": "code",
   "execution_count": null,
   "id": "db528b91",
   "metadata": {},
   "outputs": [],
   "source": []
  },
  {
   "cell_type": "code",
   "execution_count": 266,
   "id": "84d56c6e",
   "metadata": {},
   "outputs": [],
   "source": []
  },
  {
   "cell_type": "code",
   "execution_count": null,
   "id": "706d52f5",
   "metadata": {},
   "outputs": [],
   "source": []
  }
 ],
 "metadata": {
  "kernelspec": {
   "display_name": "Python 3 (ipykernel)",
   "language": "python",
   "name": "python3"
  },
  "language_info": {
   "codemirror_mode": {
    "name": "ipython",
    "version": 3
   },
   "file_extension": ".py",
   "mimetype": "text/x-python",
   "name": "python",
   "nbconvert_exporter": "python",
   "pygments_lexer": "ipython3",
   "version": "3.9.5"
  },
  "toc": {
   "base_numbering": 1,
   "nav_menu": {},
   "number_sections": true,
   "sideBar": true,
   "skip_h1_title": false,
   "title_cell": "Table of Contents",
   "title_sidebar": "Contents",
   "toc_cell": false,
   "toc_position": {},
   "toc_section_display": true,
   "toc_window_display": false
  }
 },
 "nbformat": 4,
 "nbformat_minor": 5
}
