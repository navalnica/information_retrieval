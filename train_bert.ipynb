{
 "cells": [
  {
   "cell_type": "code",
   "execution_count": 1,
   "id": "e5f0f059",
   "metadata": {},
   "outputs": [
    {
     "name": "stdout",
     "output_type": "stream",
     "text": [
      "using device: cuda\n"
     ]
    }
   ],
   "source": [
    "import os\n",
    "import re\n",
    "import logging\n",
    "import math\n",
    "import random\n",
    "\n",
    "RANDOM_SEED = 18\n",
    "random.seed(RANDOM_SEED)\n",
    "\n",
    "from typing import List, Union\n",
    "from tqdm.auto import tqdm\n",
    "\n",
    "from sklearn.model_selection import train_test_split\n",
    "import pandas as pd\n",
    "\n",
    "import torch\n",
    "from torch.utils.data import Dataset, DataLoader\n",
    "\n",
    "import sentence_transformers as st\n",
    "import sentence_transformers.losses\n",
    "from sentence_transformers.datasets import NoDuplicatesDataLoader\n",
    "from sentence_transformers.readers import InputExample\n",
    "\n",
    "import matplotlib.pyplot as plt\n",
    "import seaborn as sns\n",
    "sns.set(font_scale=1.1)\n",
    "\n",
    "device = 'cuda' if torch.cuda.is_available() else 'cpu'\n",
    "print(f'using device: {device}')"
   ]
  },
  {
   "cell_type": "code",
   "execution_count": 2,
   "id": "ce8b3843",
   "metadata": {},
   "outputs": [],
   "source": [
    "from bert_utils.data import *\n",
    "from bert_utils.siamese import *"
   ]
  },
  {
   "cell_type": "code",
   "execution_count": 3,
   "id": "16a631c4",
   "metadata": {},
   "outputs": [],
   "source": [
    "%load_ext autoreload\n",
    "%autoreload 2"
   ]
  },
  {
   "cell_type": "code",
   "execution_count": null,
   "id": "b47035fc",
   "metadata": {},
   "outputs": [],
   "source": []
  },
  {
   "cell_type": "markdown",
   "id": "21f39bcc",
   "metadata": {},
   "source": [
    "## TODO:\n",
    "\n",
    "* rerank bm25 predictions with siamese net\n",
    "* build pipeline for Cross-Encoder\n",
    "\n",
    "----\n",
    "* siamese net:\n",
    "    * train:\n",
    "        * uses MultipleNegativeRankingLoss. we provide only positive examples.\n",
    "          \n",
    "          for i, all the rest examples (j != i) from the batch are considered as negative examples.\n",
    "          \n",
    "          thus we don't need to sample negative examples explicitly.\n",
    "          \n",
    "          and there is no need to compute embeddings for negative examples because we reuse\n",
    "          embeddings for positive examples when treating them as negatives.\n",
    "          \n",
    "        * NoDuplicatesDataloader is not parallel (does it impact training speed?)\n",
    "\n",
    "    * evaluation:\n",
    "        * sample negative cases randomly\n",
    "        \n",
    "        \n",
    "* cross-encoder:\n",
    "    * evaluation:\n",
    "        * ideally: rerank siamese predictions -> i.e. compute classification metrices for K * |q| examples\n",
    "        * for simplicity (no connection with siamese net), let's sample negative examples randomly\n",
    "      \n",
    "----\n",
    "\n",
    "Notes:\n",
    "* one of main bottlenecks is reading texts from disk. \n",
    "  it takes ~1.5 min to read ~11k articles (size of evaluation set with negative examples) from ssd"
   ]
  },
  {
   "cell_type": "code",
   "execution_count": null,
   "id": "4fcea214",
   "metadata": {},
   "outputs": [],
   "source": []
  },
  {
   "cell_type": "markdown",
   "id": "d59633f6",
   "metadata": {},
   "source": [
    "## data"
   ]
  },
  {
   "cell_type": "code",
   "execution_count": 4,
   "id": "b787b7b4",
   "metadata": {},
   "outputs": [],
   "source": [
    "def process_title(title: pd.Series):\n",
    "    title = title.str.lower().str.strip()\n",
    "    title = title.str.replace(r'([^\\w\\s])|_|-', '_', regex=True)\n",
    "    return title"
   ]
  },
  {
   "cell_type": "code",
   "execution_count": null,
   "id": "648e59d7",
   "metadata": {},
   "outputs": [],
   "source": []
  },
  {
   "cell_type": "code",
   "execution_count": 5,
   "id": "6f5d6604",
   "metadata": {},
   "outputs": [
    {
     "name": "stdout",
     "output_type": "stream",
     "text": [
      "(223619, 4)\n"
     ]
    }
   ],
   "source": [
    "data_root_dp = '/media/rtn/Windows 10/work/univier/wiki_extract/wiki_parsed'\n",
    "articles_dp = data_root_dp\n",
    "\n",
    "filemap = pd.read_csv(os.path.join(data_root_dp, 'filepaths.csv'))\n",
    "assert filemap.duplicated('filename').sum() == 0\n",
    "\n",
    "filemap['article_id'] = list(range(filemap.shape[0]))\n",
    "article_ids = set(filemap['article_id'])\n",
    "\n",
    "print(filemap.shape)"
   ]
  },
  {
   "cell_type": "code",
   "execution_count": 6,
   "id": "4d92aa1e",
   "metadata": {},
   "outputs": [
    {
     "data": {
      "text/plain": [
       "'Poetry is a type of art form and a type of literature. Poetry uses the qualities of words, in different ways, to be artistic. Poetry can be as short as a few words, or as long as a book. A poem as short as one line is called a monostich. A poem that is as long as a book is an epic. There are many \"poetic forms\" (forms of poetry). Some of forms are: Sonnet, Haiku, Ballad, Stev, Prose poem, Ode, Free verse, Blank verse, thematic, limerick and nursery rhymes. Poetry can be used to describe (comparing, talking about, or expressing emotion) many things. It can make sense or be nonsense, it can rhyme or not. It can have many shapes and sizes; it can be serious or funny. \"To say something poetically\" means to give information in an artistic way. A more modern approach is digital poetry. Computers and webtechnology is used to express poetry and make it interactive. So called interdisciplinary poetry (wich means combination of different forms of poetry) are made possible by linking the poetic texts with audio, video or web-animation (e.g. with CSS) or among themselves via hyperlinks. Modern artists use digital poetry to not only express artistic intention, but also to design a layout around their texts. An example for this use of interdisciplinary art, which combines abstract text and abstract visuals is the german project \"Schwarzer Flamingo\". It uses digital poetry to collect pieces of written art but also to give different artists a plattform. So some projects of digital art can be described as a form of an artwork as well as an exhibition.'"
      ]
     },
     "execution_count": 6,
     "metadata": {},
     "output_type": "execute_result"
    }
   ],
   "source": [
    "get_article_text(get_article_path('poetry', filemap))"
   ]
  },
  {
   "cell_type": "code",
   "execution_count": null,
   "id": "9aeb69b9",
   "metadata": {},
   "outputs": [],
   "source": []
  },
  {
   "cell_type": "code",
   "execution_count": 7,
   "id": "7681e6da",
   "metadata": {},
   "outputs": [
    {
     "name": "stdout",
     "output_type": "stream",
     "text": [
      "(200, 2)\n"
     ]
    },
    {
     "data": {
      "text/html": [
       "<div>\n",
       "<style scoped>\n",
       "    .dataframe tbody tr th:only-of-type {\n",
       "        vertical-align: middle;\n",
       "    }\n",
       "\n",
       "    .dataframe tbody tr th {\n",
       "        vertical-align: top;\n",
       "    }\n",
       "\n",
       "    .dataframe thead th {\n",
       "        text-align: right;\n",
       "    }\n",
       "</style>\n",
       "<table border=\"1\" class=\"dataframe\">\n",
       "  <thead>\n",
       "    <tr style=\"text-align: right;\">\n",
       "      <th></th>\n",
       "      <th>query</th>\n",
       "      <th>title</th>\n",
       "    </tr>\n",
       "  </thead>\n",
       "  <tbody>\n",
       "    <tr>\n",
       "      <th>0</th>\n",
       "      <td>animals that have shells and live in water</td>\n",
       "      <td>shell__zoology_</td>\n",
       "    </tr>\n",
       "    <tr>\n",
       "      <th>1</th>\n",
       "      <td>how many different types of scorpions are there</td>\n",
       "      <td>scorpion</td>\n",
       "    </tr>\n",
       "    <tr>\n",
       "      <th>2</th>\n",
       "      <td>describe the structure of a scientific name fo...</td>\n",
       "      <td>binomial_nomenclature</td>\n",
       "    </tr>\n",
       "  </tbody>\n",
       "</table>\n",
       "</div>"
      ],
      "text/plain": [
       "                                               query                  title\n",
       "0         animals that have shells and live in water        shell__zoology_\n",
       "1    how many different types of scorpions are there               scorpion\n",
       "2  describe the structure of a scientific name fo...  binomial_nomenclature"
      ]
     },
     "execution_count": 7,
     "metadata": {},
     "output_type": "execute_result"
    }
   ],
   "source": [
    "labels_test = pd.read_csv('data/queries.tsv', sep='\\t', header=None)\n",
    "labels_test.columns = ['query', 'title']\n",
    "labels_test['title'] = process_title(labels_test['title'])\n",
    "\n",
    "print(labels_test.shape)\n",
    "labels_test.head(3)"
   ]
  },
  {
   "cell_type": "code",
   "execution_count": 8,
   "id": "4110bee3",
   "metadata": {},
   "outputs": [
    {
     "name": "stdout",
     "output_type": "stream",
     "text": [
      "(50000, 2)\n"
     ]
    },
    {
     "data": {
      "text/html": [
       "<div>\n",
       "<style scoped>\n",
       "    .dataframe tbody tr th:only-of-type {\n",
       "        vertical-align: middle;\n",
       "    }\n",
       "\n",
       "    .dataframe tbody tr th {\n",
       "        vertical-align: top;\n",
       "    }\n",
       "\n",
       "    .dataframe thead th {\n",
       "        text-align: right;\n",
       "    }\n",
       "</style>\n",
       "<table border=\"1\" class=\"dataframe\">\n",
       "  <thead>\n",
       "    <tr style=\"text-align: right;\">\n",
       "      <th></th>\n",
       "      <th>query</th>\n",
       "      <th>title</th>\n",
       "    </tr>\n",
       "  </thead>\n",
       "  <tbody>\n",
       "    <tr>\n",
       "      <th>0</th>\n",
       "      <td>where does the most metabolic activity in the ...</td>\n",
       "      <td>cytoplasm</td>\n",
       "    </tr>\n",
       "    <tr>\n",
       "      <th>1</th>\n",
       "      <td>what kind of dog played in turner and hooch</td>\n",
       "      <td>dogue_de_bordeaux</td>\n",
       "    </tr>\n",
       "    <tr>\n",
       "      <th>2</th>\n",
       "      <td>when is there gonna be an eclipse 2017</td>\n",
       "      <td>solar_eclipse_of_august_21__2017</td>\n",
       "    </tr>\n",
       "  </tbody>\n",
       "</table>\n",
       "</div>"
      ],
      "text/plain": [
       "                                               query  \\\n",
       "0  where does the most metabolic activity in the ...   \n",
       "1        what kind of dog played in turner and hooch   \n",
       "2             when is there gonna be an eclipse 2017   \n",
       "\n",
       "                              title  \n",
       "0                         cytoplasm  \n",
       "1                 dogue_de_bordeaux  \n",
       "2  solar_eclipse_of_august_21__2017  "
      ]
     },
     "execution_count": 8,
     "metadata": {},
     "output_type": "execute_result"
    }
   ],
   "source": [
    "labels_train_raw = pd.read_csv('data/train.tsv', sep='\\t', header=None)\n",
    "labels_train_raw.columns = ['query', 'title']\n",
    "labels_train_raw['title'] = process_title(labels_train_raw['title'])\n",
    "\n",
    "print(labels_train_raw.shape)\n",
    "labels_train_raw.head(3)"
   ]
  },
  {
   "cell_type": "code",
   "execution_count": null,
   "id": "1f4c1ab3",
   "metadata": {},
   "outputs": [],
   "source": []
  },
  {
   "cell_type": "code",
   "execution_count": 9,
   "id": "b58800bb",
   "metadata": {},
   "outputs": [
    {
     "data": {
      "text/html": [
       "<div>\n",
       "<style scoped>\n",
       "    .dataframe tbody tr th:only-of-type {\n",
       "        vertical-align: middle;\n",
       "    }\n",
       "\n",
       "    .dataframe tbody tr th {\n",
       "        vertical-align: top;\n",
       "    }\n",
       "\n",
       "    .dataframe thead th {\n",
       "        text-align: right;\n",
       "    }\n",
       "</style>\n",
       "<table border=\"1\" class=\"dataframe\">\n",
       "  <thead>\n",
       "    <tr style=\"text-align: right;\">\n",
       "      <th></th>\n",
       "      <th>filename</th>\n",
       "      <th>path</th>\n",
       "      <th>html_path</th>\n",
       "      <th>article_id</th>\n",
       "    </tr>\n",
       "  </thead>\n",
       "  <tbody>\n",
       "    <tr>\n",
       "      <th>0</th>\n",
       "      <td>000_emergency</td>\n",
       "      <td>/media/rtn/Windows 10/work/univier/wiki_extrac...</td>\n",
       "      <td>/media/rtn/Windows 10/work/univier/wiki_extrac...</td>\n",
       "      <td>0</td>\n",
       "    </tr>\n",
       "    <tr>\n",
       "      <th>1</th>\n",
       "      <td>0s_bc</td>\n",
       "      <td>/media/rtn/Windows 10/work/univier/wiki_extrac...</td>\n",
       "      <td>/media/rtn/Windows 10/work/univier/wiki_extrac...</td>\n",
       "      <td>1</td>\n",
       "    </tr>\n",
       "    <tr>\n",
       "      <th>2</th>\n",
       "      <td>0_0_0</td>\n",
       "      <td>/media/rtn/Windows 10/work/univier/wiki_extrac...</td>\n",
       "      <td>/media/rtn/Windows 10/work/univier/wiki_extrac...</td>\n",
       "      <td>2</td>\n",
       "    </tr>\n",
       "    <tr>\n",
       "      <th>3</th>\n",
       "      <td>0_4_0</td>\n",
       "      <td>/media/rtn/Windows 10/work/univier/wiki_extrac...</td>\n",
       "      <td>/media/rtn/Windows 10/work/univier/wiki_extrac...</td>\n",
       "      <td>3</td>\n",
       "    </tr>\n",
       "    <tr>\n",
       "      <th>4</th>\n",
       "      <td>0_6_0</td>\n",
       "      <td>/media/rtn/Windows 10/work/univier/wiki_extrac...</td>\n",
       "      <td>/media/rtn/Windows 10/work/univier/wiki_extrac...</td>\n",
       "      <td>4</td>\n",
       "    </tr>\n",
       "  </tbody>\n",
       "</table>\n",
       "</div>"
      ],
      "text/plain": [
       "        filename                                               path  \\\n",
       "0  000_emergency  /media/rtn/Windows 10/work/univier/wiki_extrac...   \n",
       "1          0s_bc  /media/rtn/Windows 10/work/univier/wiki_extrac...   \n",
       "2          0_0_0  /media/rtn/Windows 10/work/univier/wiki_extrac...   \n",
       "3          0_4_0  /media/rtn/Windows 10/work/univier/wiki_extrac...   \n",
       "4          0_6_0  /media/rtn/Windows 10/work/univier/wiki_extrac...   \n",
       "\n",
       "                                           html_path  article_id  \n",
       "0  /media/rtn/Windows 10/work/univier/wiki_extrac...           0  \n",
       "1  /media/rtn/Windows 10/work/univier/wiki_extrac...           1  \n",
       "2  /media/rtn/Windows 10/work/univier/wiki_extrac...           2  \n",
       "3  /media/rtn/Windows 10/work/univier/wiki_extrac...           3  \n",
       "4  /media/rtn/Windows 10/work/univier/wiki_extrac...           4  "
      ]
     },
     "execution_count": 9,
     "metadata": {},
     "output_type": "execute_result"
    }
   ],
   "source": [
    "filemap.head()"
   ]
  },
  {
   "cell_type": "code",
   "execution_count": null,
   "id": "650dec9c",
   "metadata": {},
   "outputs": [],
   "source": []
  },
  {
   "cell_type": "markdown",
   "id": "2cec1bf9",
   "metadata": {},
   "source": [
    "### filter train, test samples"
   ]
  },
  {
   "cell_type": "code",
   "execution_count": 10,
   "id": "5acfc115",
   "metadata": {},
   "outputs": [
    {
     "name": "stdout",
     "output_type": "stream",
     "text": [
      "init shapes: (223619, 50000)\n",
      "unique elements: (223619, 16731)\n",
      "s1 & s2: 15430\n",
      "s1 ^ s2: 209490\n",
      "s1 - s2: 208189\n",
      "s2 - s1: 1301\n"
     ]
    }
   ],
   "source": [
    "two_sets_stats(filemap['filename'], labels_train_raw['title'])"
   ]
  },
  {
   "cell_type": "code",
   "execution_count": 11,
   "id": "1b172bf2",
   "metadata": {},
   "outputs": [
    {
     "name": "stdout",
     "output_type": "stream",
     "text": [
      "init shapes: (223619, 200)\n",
      "unique elements: (223619, 142)\n",
      "s1 & s2: 137\n",
      "s1 ^ s2: 223487\n",
      "s1 - s2: 223482\n",
      "s2 - s1: 5\n"
     ]
    }
   ],
   "source": [
    "two_sets_stats(filemap['filename'], labels_test['title'])"
   ]
  },
  {
   "cell_type": "code",
   "execution_count": 12,
   "id": "a037b991",
   "metadata": {},
   "outputs": [
    {
     "name": "stdout",
     "output_type": "stream",
     "text": [
      "45260\n",
      "194\n"
     ]
    }
   ],
   "source": [
    "# labels_train_raw = labels_train_raw[labels_train_raw['title'].isin(filemap['filename'])]\n",
    "# labels_test = labels_test[labels_test['title'].isin(filemap['filename'])]\n",
    "\n",
    "labels_train_raw = labels_train_raw.merge(\n",
    "    filemap[['filename', 'article_id']], \n",
    "    left_on='title', right_on='filename', how='inner').drop(columns='filename')\n",
    "\n",
    "labels_test = labels_test.merge(\n",
    "    filemap[['filename', 'article_id']], \n",
    "    left_on='title', right_on='filename', how='inner').drop(columns='filename')\n",
    "\n",
    "print(labels_train_raw.shape[0])\n",
    "print(labels_test.shape[0])"
   ]
  },
  {
   "cell_type": "code",
   "execution_count": null,
   "id": "031cfe56",
   "metadata": {},
   "outputs": [],
   "source": []
  },
  {
   "cell_type": "code",
   "execution_count": 13,
   "id": "fb954d4b",
   "metadata": {},
   "outputs": [
    {
     "data": {
      "text/html": [
       "<div>\n",
       "<style scoped>\n",
       "    .dataframe tbody tr th:only-of-type {\n",
       "        vertical-align: middle;\n",
       "    }\n",
       "\n",
       "    .dataframe tbody tr th {\n",
       "        vertical-align: top;\n",
       "    }\n",
       "\n",
       "    .dataframe thead th {\n",
       "        text-align: right;\n",
       "    }\n",
       "</style>\n",
       "<table border=\"1\" class=\"dataframe\">\n",
       "  <thead>\n",
       "    <tr style=\"text-align: right;\">\n",
       "      <th></th>\n",
       "      <th>query</th>\n",
       "      <th>title</th>\n",
       "      <th>article_id</th>\n",
       "    </tr>\n",
       "  </thead>\n",
       "  <tbody>\n",
       "    <tr>\n",
       "      <th>0</th>\n",
       "      <td>where does the most metabolic activity in the ...</td>\n",
       "      <td>cytoplasm</td>\n",
       "      <td>52039</td>\n",
       "    </tr>\n",
       "    <tr>\n",
       "      <th>1</th>\n",
       "      <td>what is the structure that contains ions subst...</td>\n",
       "      <td>cytoplasm</td>\n",
       "      <td>52039</td>\n",
       "    </tr>\n",
       "  </tbody>\n",
       "</table>\n",
       "</div>"
      ],
      "text/plain": [
       "                                               query      title  article_id\n",
       "0  where does the most metabolic activity in the ...  cytoplasm       52039\n",
       "1  what is the structure that contains ions subst...  cytoplasm       52039"
      ]
     },
     "execution_count": 13,
     "metadata": {},
     "output_type": "execute_result"
    }
   ],
   "source": [
    "labels_train_raw.head(2)"
   ]
  },
  {
   "cell_type": "code",
   "execution_count": 14,
   "id": "3376a021",
   "metadata": {},
   "outputs": [
    {
     "data": {
      "text/html": [
       "<div>\n",
       "<style scoped>\n",
       "    .dataframe tbody tr th:only-of-type {\n",
       "        vertical-align: middle;\n",
       "    }\n",
       "\n",
       "    .dataframe tbody tr th {\n",
       "        vertical-align: top;\n",
       "    }\n",
       "\n",
       "    .dataframe thead th {\n",
       "        text-align: right;\n",
       "    }\n",
       "</style>\n",
       "<table border=\"1\" class=\"dataframe\">\n",
       "  <thead>\n",
       "    <tr style=\"text-align: right;\">\n",
       "      <th></th>\n",
       "      <th>query</th>\n",
       "      <th>title</th>\n",
       "      <th>article_id</th>\n",
       "    </tr>\n",
       "  </thead>\n",
       "  <tbody>\n",
       "    <tr>\n",
       "      <th>0</th>\n",
       "      <td>animals that have shells and live in water</td>\n",
       "      <td>shell__zoology_</td>\n",
       "      <td>180649</td>\n",
       "    </tr>\n",
       "    <tr>\n",
       "      <th>1</th>\n",
       "      <td>how many different types of scorpions are there</td>\n",
       "      <td>scorpion</td>\n",
       "      <td>177775</td>\n",
       "    </tr>\n",
       "  </tbody>\n",
       "</table>\n",
       "</div>"
      ],
      "text/plain": [
       "                                             query            title  \\\n",
       "0       animals that have shells and live in water  shell__zoology_   \n",
       "1  how many different types of scorpions are there         scorpion   \n",
       "\n",
       "   article_id  \n",
       "0      180649  \n",
       "1      177775  "
      ]
     },
     "execution_count": 14,
     "metadata": {},
     "output_type": "execute_result"
    }
   ],
   "source": [
    "labels_test.head(2)"
   ]
  },
  {
   "cell_type": "code",
   "execution_count": null,
   "id": "caa576c2",
   "metadata": {},
   "outputs": [],
   "source": []
  },
  {
   "cell_type": "code",
   "execution_count": null,
   "id": "b67f24f0",
   "metadata": {},
   "outputs": [],
   "source": []
  },
  {
   "cell_type": "markdown",
   "id": "8e2739ed",
   "metadata": {},
   "source": [
    "## siamese model"
   ]
  },
  {
   "cell_type": "code",
   "execution_count": null,
   "id": "719cbc9e",
   "metadata": {},
   "outputs": [],
   "source": []
  },
  {
   "cell_type": "markdown",
   "id": "1587bf99",
   "metadata": {},
   "source": [
    "### prepare data"
   ]
  },
  {
   "cell_type": "code",
   "execution_count": 15,
   "id": "ad96cf0a",
   "metadata": {},
   "outputs": [
    {
     "name": "stdout",
     "output_type": "stream",
     "text": [
      "(38471, 3)\n",
      "(6789, 3)\n"
     ]
    }
   ],
   "source": [
    "assert labels_train_raw['query'].duplicated().sum() == 0  # else we should split into (train, val) by queries\n",
    "\n",
    "labels_train, labels_val = train_test_split(\n",
    "    labels_train_raw, random_state=RANDOM_SEED, test_size=0.15, shuffle=True)\n",
    "\n",
    "print(labels_train.shape)\n",
    "print(labels_val.shape)"
   ]
  },
  {
   "cell_type": "code",
   "execution_count": null,
   "id": "972368b2",
   "metadata": {},
   "outputs": [],
   "source": []
  },
  {
   "cell_type": "code",
   "execution_count": 16,
   "id": "7d39d4eb",
   "metadata": {},
   "outputs": [
    {
     "name": "stdout",
     "output_type": "stream",
     "text": [
      "(13578, 4)\n"
     ]
    }
   ],
   "source": [
    "val_dataset = add_negative_samples_to_val_set(\n",
    "    labels_val=labels_val, val_neg_to_pos_factor=1, \n",
    "    all_article_ids=article_ids, filemap=filemap, \n",
    ")\n",
    "print(val_dataset.shape)"
   ]
  },
  {
   "cell_type": "code",
   "execution_count": 17,
   "id": "b9009266",
   "metadata": {},
   "outputs": [
    {
     "data": {
      "text/html": [
       "<div>\n",
       "<style scoped>\n",
       "    .dataframe tbody tr th:only-of-type {\n",
       "        vertical-align: middle;\n",
       "    }\n",
       "\n",
       "    .dataframe tbody tr th {\n",
       "        vertical-align: top;\n",
       "    }\n",
       "\n",
       "    .dataframe thead th {\n",
       "        text-align: right;\n",
       "    }\n",
       "</style>\n",
       "<table border=\"1\" class=\"dataframe\">\n",
       "  <thead>\n",
       "    <tr style=\"text-align: right;\">\n",
       "      <th></th>\n",
       "      <th>query</th>\n",
       "      <th>title</th>\n",
       "      <th>article_id</th>\n",
       "      <th>label</th>\n",
       "    </tr>\n",
       "  </thead>\n",
       "  <tbody>\n",
       "    <tr>\n",
       "      <th>0</th>\n",
       "      <td>the governor general who annexed sindh in brit...</td>\n",
       "      <td>charles_james_napier</td>\n",
       "      <td>40657</td>\n",
       "      <td>1</td>\n",
       "    </tr>\n",
       "    <tr>\n",
       "      <th>1</th>\n",
       "      <td>where does the thirteen reasons why take place</td>\n",
       "      <td>13_reasons_why</td>\n",
       "      <td>635</td>\n",
       "      <td>1</td>\n",
       "    </tr>\n",
       "  </tbody>\n",
       "</table>\n",
       "</div>"
      ],
      "text/plain": [
       "                                               query                 title  \\\n",
       "0  the governor general who annexed sindh in brit...  charles_james_napier   \n",
       "1     where does the thirteen reasons why take place        13_reasons_why   \n",
       "\n",
       "   article_id  label  \n",
       "0       40657      1  \n",
       "1         635      1  "
      ]
     },
     "execution_count": 17,
     "metadata": {},
     "output_type": "execute_result"
    }
   ],
   "source": [
    "val_dataset.head(2)"
   ]
  },
  {
   "cell_type": "code",
   "execution_count": 102,
   "id": "329a417f",
   "metadata": {},
   "outputs": [
    {
     "data": {
      "text/plain": [
       "1    6789\n",
       "0    6789\n",
       "Name: label, dtype: int64"
      ]
     },
     "execution_count": 102,
     "metadata": {},
     "output_type": "execute_result"
    }
   ],
   "source": [
    "val_dataset['label'].value_counts()"
   ]
  },
  {
   "cell_type": "code",
   "execution_count": 18,
   "id": "ec4c00c3",
   "metadata": {},
   "outputs": [
    {
     "data": {
      "application/vnd.jupyter.widget-view+json": {
       "model_id": "fccba3510a1147c9b48e8deeca818b29",
       "version_major": 2,
       "version_minor": 0
      },
      "text/plain": [
       "  0%|          | 0/13578 [00:00<?, ?it/s]"
      ]
     },
     "metadata": {},
     "output_type": "display_data"
    }
   ],
   "source": [
    "# load all aricles for val_dataset beforehand\n",
    "val_dataset_articles = []\n",
    "for t in tqdm(val_dataset['title']):\n",
    "    val_dataset_articles.append(get_article_text(get_article_path(t, filemap)))"
   ]
  },
  {
   "cell_type": "code",
   "execution_count": null,
   "id": "1aebfbc8",
   "metadata": {},
   "outputs": [],
   "source": []
  },
  {
   "cell_type": "code",
   "execution_count": 19,
   "id": "ccb7b99e",
   "metadata": {},
   "outputs": [
    {
     "name": "stdout",
     "output_type": "stream",
     "text": [
      "15430\n",
      "14136\n",
      "11162\n"
     ]
    }
   ],
   "source": [
    "print(labels_train_raw['title'].nunique())\n",
    "print(labels_train['title'].nunique())\n",
    "print(val_dataset['title'].nunique())"
   ]
  },
  {
   "cell_type": "code",
   "execution_count": null,
   "id": "c9189930",
   "metadata": {},
   "outputs": [],
   "source": []
  },
  {
   "cell_type": "code",
   "execution_count": 20,
   "id": "1b67ca0c",
   "metadata": {},
   "outputs": [],
   "source": [
    "train_dataset = WikiQADataset(labels_train, filemap=filemap)"
   ]
  },
  {
   "cell_type": "code",
   "execution_count": 21,
   "id": "b2fbbf81",
   "metadata": {},
   "outputs": [
    {
     "data": {
      "text/plain": [
       "['how do they draw teams for the world cup',\n",
       " 'The knockout stage of the 2018 FIFA World Cup is the second stage of the competition, just after the group stage. It began on 30 June with the round of 16 and ended on 15 July with the final match, held at the Luzhniki Stadium in Moscow. The top two teams from each group (16 in total) would advance to the knockout stage to compete in a single-elimination. In the knockout stage, if a match is level at the end of 90 minutes of normal playing time, extra time would be played (two periods of 15 minutes each), where each team is allowed to make a fourth substitution. If still tied after extra time, the match would be decided by a penalty shoot-out to determine the winners. A third place play-off will also be played between the two losing teams of the semi-finals. The top two placed teams from each of the eight groups will qualify for the knockout stage.']"
      ]
     },
     "execution_count": 21,
     "metadata": {},
     "output_type": "execute_result"
    }
   ],
   "source": [
    "train_dataset[2].texts"
   ]
  },
  {
   "cell_type": "code",
   "execution_count": null,
   "id": "def5b8c5",
   "metadata": {},
   "outputs": [],
   "source": []
  },
  {
   "cell_type": "markdown",
   "id": "af38f375",
   "metadata": {},
   "source": [
    "### train siamese model"
   ]
  },
  {
   "cell_type": "code",
   "execution_count": 22,
   "id": "f4e585ea",
   "metadata": {},
   "outputs": [],
   "source": [
    "# TODO: has max_seq_length: 128. can change to other model\n",
    "model = st.SentenceTransformer('distilbert-base-nli-mean-tokens')\n",
    "model.to(device);"
   ]
  },
  {
   "cell_type": "code",
   "execution_count": null,
   "id": "d1780608",
   "metadata": {},
   "outputs": [],
   "source": []
  },
  {
   "cell_type": "code",
   "execution_count": 23,
   "id": "c1a8053a",
   "metadata": {},
   "outputs": [
    {
     "name": "stdout",
     "output_type": "stream",
     "text": [
      "num_epochs: 5\n",
      "train_batch_size: 16\n",
      "val_batch_size: 64\n",
      "warmup steps: 1202\n",
      "len(train_dl): 2404\n",
      "eval_steps: 480\n",
      "checkpoints_dp:\t\"/media/rtn/data/fajly2/nn/bert/siam/checkpoints\"\n",
      "output_dp:\t\"/media/rtn/data/fajly2/nn/bert/siam/output\"\n"
     ]
    }
   ],
   "source": [
    "num_epochs = 5\n",
    "train_batch_size = 16\n",
    "val_batch_size = 64\n",
    "train_dl = CustomNoDuplicatesDataLoader(train_dataset, batch_size=train_batch_size)\n",
    "warmup_steps = math.ceil(len(train_dl) * num_epochs * 0.1)\n",
    "eval_steps = int(len(train_dl) * 0.2)\n",
    "\n",
    "out_root_dp = '/media/rtn/data/fajly2/nn/bert'\n",
    "checkpoints_dp = os.path.join(out_root_dp, 'siam', 'checkpoints')\n",
    "output_dp = os.path.join(out_root_dp, 'siam', 'output')\n",
    "\n",
    "print(f\"num_epochs: {num_epochs}\")\n",
    "print(f'train_batch_size: {train_batch_size}')\n",
    "print(f'val_batch_size: {val_batch_size}')\n",
    "print(f\"warmup steps: {warmup_steps}\")\n",
    "print(f'len(train_dl): {len(train_dl)}')\n",
    "print(f'eval_steps: {eval_steps}')\n",
    "\n",
    "print(f'checkpoints_dp:\\t\"{checkpoints_dp}\"')\n",
    "print(f'output_dp:\\t\"{output_dp}\"')"
   ]
  },
  {
   "cell_type": "code",
   "execution_count": null,
   "id": "0a83add0",
   "metadata": {},
   "outputs": [],
   "source": []
  },
  {
   "cell_type": "code",
   "execution_count": 24,
   "id": "a0e0a462",
   "metadata": {},
   "outputs": [],
   "source": [
    "train_loss = st.losses.MultipleNegativesRankingLoss(model=model)"
   ]
  },
  {
   "cell_type": "code",
   "execution_count": 25,
   "id": "749669df",
   "metadata": {},
   "outputs": [],
   "source": [
    "val_evaluator = CustomBinaryClassificationEvaluator(\n",
    "    sentences1=val_dataset['query'].tolist(),\n",
    "    sentences2=val_dataset_articles,\n",
    "    labels=val_dataset['label'].tolist(),\n",
    "    batch_size=val_batch_size\n",
    ")"
   ]
  },
  {
   "cell_type": "code",
   "execution_count": 26,
   "id": "80a88df4",
   "metadata": {},
   "outputs": [
    {
     "data": {
      "application/vnd.jupyter.widget-view+json": {
       "model_id": "f2272685fc934ef0b01ec0e8fb24058f",
       "version_major": 2,
       "version_minor": 0
      },
      "text/plain": [
       "Epoch:   0%|          | 0/5 [00:00<?, ?it/s]"
      ]
     },
     "metadata": {},
     "output_type": "display_data"
    },
    {
     "data": {
      "application/vnd.jupyter.widget-view+json": {
       "model_id": "6364a9a5d7914cc1a7ee5b0668c9a753",
       "version_major": 2,
       "version_minor": 0
      },
      "text/plain": [
       "Iteration:   0%|          | 0/2404 [00:00<?, ?it/s]"
      ]
     },
     "metadata": {},
     "output_type": "display_data"
    },
    {
     "data": {
      "application/vnd.jupyter.widget-view+json": {
       "model_id": "70645019765a40b9a802edd5db824f16",
       "version_major": 2,
       "version_minor": 0
      },
      "text/plain": [
       "Batches:   0%|          | 0/277 [00:00<?, ?it/s]"
      ]
     },
     "metadata": {},
     "output_type": "display_data"
    },
    {
     "data": {
      "application/vnd.jupyter.widget-view+json": {
       "model_id": "775a6a8d62ad42b2813d02e161dd78dd",
       "version_major": 2,
       "version_minor": 0
      },
      "text/plain": [
       "Batches:   0%|          | 0/277 [00:00<?, ?it/s]"
      ]
     },
     "metadata": {},
     "output_type": "display_data"
    },
    {
     "data": {
      "application/vnd.jupyter.widget-view+json": {
       "model_id": "3cffeaa141684443b2fe1fd44893a548",
       "version_major": 2,
       "version_minor": 0
      },
      "text/plain": [
       "Batches:   0%|          | 0/277 [00:00<?, ?it/s]"
      ]
     },
     "metadata": {},
     "output_type": "display_data"
    },
    {
     "data": {
      "application/vnd.jupyter.widget-view+json": {
       "model_id": "327017e4752a4758928359e51ebedee4",
       "version_major": 2,
       "version_minor": 0
      },
      "text/plain": [
       "Batches:   0%|          | 0/277 [00:00<?, ?it/s]"
      ]
     },
     "metadata": {},
     "output_type": "display_data"
    },
    {
     "data": {
      "application/vnd.jupyter.widget-view+json": {
       "model_id": "4980c094660e49de936582f59427663a",
       "version_major": 2,
       "version_minor": 0
      },
      "text/plain": [
       "Batches:   0%|          | 0/277 [00:00<?, ?it/s]"
      ]
     },
     "metadata": {},
     "output_type": "display_data"
    },
    {
     "data": {
      "application/vnd.jupyter.widget-view+json": {
       "model_id": "1bae594df5354861b84f0a7eee4049b4",
       "version_major": 2,
       "version_minor": 0
      },
      "text/plain": [
       "Batches:   0%|          | 0/277 [00:00<?, ?it/s]"
      ]
     },
     "metadata": {},
     "output_type": "display_data"
    },
    {
     "data": {
      "application/vnd.jupyter.widget-view+json": {
       "model_id": "4aaa694fb7c44a6fb4a443fe4e88a36a",
       "version_major": 2,
       "version_minor": 0
      },
      "text/plain": [
       "Iteration:   0%|          | 0/2404 [00:00<?, ?it/s]"
      ]
     },
     "metadata": {},
     "output_type": "display_data"
    },
    {
     "data": {
      "application/vnd.jupyter.widget-view+json": {
       "model_id": "5f663a54dd6949cd8864ecafe992b242",
       "version_major": 2,
       "version_minor": 0
      },
      "text/plain": [
       "Batches:   0%|          | 0/277 [00:00<?, ?it/s]"
      ]
     },
     "metadata": {},
     "output_type": "display_data"
    },
    {
     "data": {
      "application/vnd.jupyter.widget-view+json": {
       "model_id": "0405e39c544f4e1680bde26390e5eb3e",
       "version_major": 2,
       "version_minor": 0
      },
      "text/plain": [
       "Batches:   0%|          | 0/277 [00:00<?, ?it/s]"
      ]
     },
     "metadata": {},
     "output_type": "display_data"
    },
    {
     "data": {
      "application/vnd.jupyter.widget-view+json": {
       "model_id": "347bc51ec01a4809a4492900177158e6",
       "version_major": 2,
       "version_minor": 0
      },
      "text/plain": [
       "Batches:   0%|          | 0/277 [00:00<?, ?it/s]"
      ]
     },
     "metadata": {},
     "output_type": "display_data"
    },
    {
     "data": {
      "application/vnd.jupyter.widget-view+json": {
       "model_id": "93a99b8a05184323b93dc5859bfd9e09",
       "version_major": 2,
       "version_minor": 0
      },
      "text/plain": [
       "Batches:   0%|          | 0/277 [00:00<?, ?it/s]"
      ]
     },
     "metadata": {},
     "output_type": "display_data"
    },
    {
     "data": {
      "application/vnd.jupyter.widget-view+json": {
       "model_id": "0015f0b953824c86884edd86eeed9821",
       "version_major": 2,
       "version_minor": 0
      },
      "text/plain": [
       "Batches:   0%|          | 0/277 [00:00<?, ?it/s]"
      ]
     },
     "metadata": {},
     "output_type": "display_data"
    },
    {
     "data": {
      "application/vnd.jupyter.widget-view+json": {
       "model_id": "b835dfd416a34bf488bb630a15200d80",
       "version_major": 2,
       "version_minor": 0
      },
      "text/plain": [
       "Batches:   0%|          | 0/277 [00:00<?, ?it/s]"
      ]
     },
     "metadata": {},
     "output_type": "display_data"
    },
    {
     "data": {
      "application/vnd.jupyter.widget-view+json": {
       "model_id": "fc4f329948084944a074b28e15fe834c",
       "version_major": 2,
       "version_minor": 0
      },
      "text/plain": [
       "Iteration:   0%|          | 0/2404 [00:00<?, ?it/s]"
      ]
     },
     "metadata": {},
     "output_type": "display_data"
    },
    {
     "data": {
      "application/vnd.jupyter.widget-view+json": {
       "model_id": "ef12342690164aedae7a21085a21464f",
       "version_major": 2,
       "version_minor": 0
      },
      "text/plain": [
       "Batches:   0%|          | 0/277 [00:00<?, ?it/s]"
      ]
     },
     "metadata": {},
     "output_type": "display_data"
    },
    {
     "data": {
      "application/vnd.jupyter.widget-view+json": {
       "model_id": "f3eb96fe8b4f40fe84498b3286a14233",
       "version_major": 2,
       "version_minor": 0
      },
      "text/plain": [
       "Batches:   0%|          | 0/277 [00:00<?, ?it/s]"
      ]
     },
     "metadata": {},
     "output_type": "display_data"
    },
    {
     "data": {
      "application/vnd.jupyter.widget-view+json": {
       "model_id": "e2b399dd395944a799b1d5e4a202eb4f",
       "version_major": 2,
       "version_minor": 0
      },
      "text/plain": [
       "Batches:   0%|          | 0/277 [00:00<?, ?it/s]"
      ]
     },
     "metadata": {},
     "output_type": "display_data"
    },
    {
     "data": {
      "application/vnd.jupyter.widget-view+json": {
       "model_id": "7f913bee91a6420c99c4692a63fe0f40",
       "version_major": 2,
       "version_minor": 0
      },
      "text/plain": [
       "Batches:   0%|          | 0/277 [00:00<?, ?it/s]"
      ]
     },
     "metadata": {},
     "output_type": "display_data"
    },
    {
     "data": {
      "application/vnd.jupyter.widget-view+json": {
       "model_id": "04b6a56bd21e45f5a8aaca75fe3e64a1",
       "version_major": 2,
       "version_minor": 0
      },
      "text/plain": [
       "Batches:   0%|          | 0/277 [00:00<?, ?it/s]"
      ]
     },
     "metadata": {},
     "output_type": "display_data"
    },
    {
     "data": {
      "application/vnd.jupyter.widget-view+json": {
       "model_id": "d3ffcfb72d4a4d9aaca04b0fda1b30ba",
       "version_major": 2,
       "version_minor": 0
      },
      "text/plain": [
       "Batches:   0%|          | 0/277 [00:00<?, ?it/s]"
      ]
     },
     "metadata": {},
     "output_type": "display_data"
    },
    {
     "data": {
      "application/vnd.jupyter.widget-view+json": {
       "model_id": "0161509667854358b5dc1914306ebcca",
       "version_major": 2,
       "version_minor": 0
      },
      "text/plain": [
       "Iteration:   0%|          | 0/2404 [00:00<?, ?it/s]"
      ]
     },
     "metadata": {},
     "output_type": "display_data"
    },
    {
     "data": {
      "application/vnd.jupyter.widget-view+json": {
       "model_id": "a29a7544f61f4af69478c820abc0cf67",
       "version_major": 2,
       "version_minor": 0
      },
      "text/plain": [
       "Batches:   0%|          | 0/277 [00:00<?, ?it/s]"
      ]
     },
     "metadata": {},
     "output_type": "display_data"
    },
    {
     "data": {
      "application/vnd.jupyter.widget-view+json": {
       "model_id": "63616dcfa6ab46e088655de7ff36b70e",
       "version_major": 2,
       "version_minor": 0
      },
      "text/plain": [
       "Batches:   0%|          | 0/277 [00:00<?, ?it/s]"
      ]
     },
     "metadata": {},
     "output_type": "display_data"
    },
    {
     "data": {
      "application/vnd.jupyter.widget-view+json": {
       "model_id": "56839b6836914fcf9270404ef29967e9",
       "version_major": 2,
       "version_minor": 0
      },
      "text/plain": [
       "Batches:   0%|          | 0/277 [00:00<?, ?it/s]"
      ]
     },
     "metadata": {},
     "output_type": "display_data"
    },
    {
     "data": {
      "application/vnd.jupyter.widget-view+json": {
       "model_id": "3a5029acd45049b5b2b0f799cc7b3b1a",
       "version_major": 2,
       "version_minor": 0
      },
      "text/plain": [
       "Batches:   0%|          | 0/277 [00:00<?, ?it/s]"
      ]
     },
     "metadata": {},
     "output_type": "display_data"
    },
    {
     "data": {
      "application/vnd.jupyter.widget-view+json": {
       "model_id": "faafc9c5773e4122a3e322fb59c7bc57",
       "version_major": 2,
       "version_minor": 0
      },
      "text/plain": [
       "Batches:   0%|          | 0/277 [00:00<?, ?it/s]"
      ]
     },
     "metadata": {},
     "output_type": "display_data"
    },
    {
     "data": {
      "application/vnd.jupyter.widget-view+json": {
       "model_id": "9dd14234e49340faa7637e9653cabc2b",
       "version_major": 2,
       "version_minor": 0
      },
      "text/plain": [
       "Batches:   0%|          | 0/277 [00:00<?, ?it/s]"
      ]
     },
     "metadata": {},
     "output_type": "display_data"
    },
    {
     "data": {
      "application/vnd.jupyter.widget-view+json": {
       "model_id": "e8ee80cb828f48f6987e201747c27f75",
       "version_major": 2,
       "version_minor": 0
      },
      "text/plain": [
       "Iteration:   0%|          | 0/2404 [00:00<?, ?it/s]"
      ]
     },
     "metadata": {},
     "output_type": "display_data"
    },
    {
     "data": {
      "application/vnd.jupyter.widget-view+json": {
       "model_id": "99916a8bd1804a1c81a4c9154a244a60",
       "version_major": 2,
       "version_minor": 0
      },
      "text/plain": [
       "Batches:   0%|          | 0/277 [00:00<?, ?it/s]"
      ]
     },
     "metadata": {},
     "output_type": "display_data"
    },
    {
     "data": {
      "application/vnd.jupyter.widget-view+json": {
       "model_id": "92b7fc94f7af494596793eb8b81fdcec",
       "version_major": 2,
       "version_minor": 0
      },
      "text/plain": [
       "Batches:   0%|          | 0/277 [00:00<?, ?it/s]"
      ]
     },
     "metadata": {},
     "output_type": "display_data"
    },
    {
     "data": {
      "application/vnd.jupyter.widget-view+json": {
       "model_id": "2681fc32c8e8445ebb84ffdf40715221",
       "version_major": 2,
       "version_minor": 0
      },
      "text/plain": [
       "Batches:   0%|          | 0/277 [00:00<?, ?it/s]"
      ]
     },
     "metadata": {},
     "output_type": "display_data"
    },
    {
     "data": {
      "application/vnd.jupyter.widget-view+json": {
       "model_id": "d7f58ae7dc59497dbcf11d77745932e8",
       "version_major": 2,
       "version_minor": 0
      },
      "text/plain": [
       "Batches:   0%|          | 0/277 [00:00<?, ?it/s]"
      ]
     },
     "metadata": {},
     "output_type": "display_data"
    },
    {
     "data": {
      "application/vnd.jupyter.widget-view+json": {
       "model_id": "7d6036d78e3549ab816a80237ab0b542",
       "version_major": 2,
       "version_minor": 0
      },
      "text/plain": [
       "Batches:   0%|          | 0/277 [00:00<?, ?it/s]"
      ]
     },
     "metadata": {},
     "output_type": "display_data"
    },
    {
     "data": {
      "application/vnd.jupyter.widget-view+json": {
       "model_id": "a9601bf8db1842c685bb07aacaeb97cc",
       "version_major": 2,
       "version_minor": 0
      },
      "text/plain": [
       "Batches:   0%|          | 0/277 [00:00<?, ?it/s]"
      ]
     },
     "metadata": {},
     "output_type": "display_data"
    }
   ],
   "source": [
    "model.fit(\n",
    "    train_objectives=[(train_dl, train_loss)],\n",
    "    epochs=num_epochs,\n",
    "    evaluator=val_evaluator,\n",
    "    evaluation_steps=eval_steps,\n",
    "    \n",
    "    checkpoint_path=checkpoints_dp,\n",
    "    checkpoint_save_steps=eval_steps,\n",
    "    output_path=output_dp,\n",
    "    save_best_model=True,\n",
    "    \n",
    "    optimizer_params={'lr': 2e-5},\n",
    "    weight_decay= 0.01,\n",
    "    scheduler='WarmupLinear',\n",
    "    warmup_steps=warmup_steps,\n",
    "    use_amp=False,\n",
    "    \n",
    "#     steps_per_epoch=300,  # for debug\n",
    ")"
   ]
  },
  {
   "cell_type": "code",
   "execution_count": null,
   "id": "0be4d074",
   "metadata": {},
   "outputs": [],
   "source": []
  },
  {
   "cell_type": "markdown",
   "id": "daa4044f",
   "metadata": {},
   "source": [
    "### read val metrics"
   ]
  },
  {
   "cell_type": "code",
   "execution_count": 95,
   "id": "3ea9944a",
   "metadata": {},
   "outputs": [
    {
     "data": {
      "text/html": [
       "<div>\n",
       "<style scoped>\n",
       "    .dataframe tbody tr th:only-of-type {\n",
       "        vertical-align: middle;\n",
       "    }\n",
       "\n",
       "    .dataframe tbody tr th {\n",
       "        vertical-align: top;\n",
       "    }\n",
       "\n",
       "    .dataframe thead th {\n",
       "        text-align: right;\n",
       "    }\n",
       "</style>\n",
       "<table border=\"1\" class=\"dataframe\">\n",
       "  <thead>\n",
       "    <tr style=\"text-align: right;\">\n",
       "      <th></th>\n",
       "      <th>epoch</th>\n",
       "      <th>steps_epoch_raw</th>\n",
       "      <th>f1_threshold</th>\n",
       "      <th>f1</th>\n",
       "      <th>precision</th>\n",
       "      <th>recall</th>\n",
       "      <th>accuracy</th>\n",
       "      <th>ap</th>\n",
       "      <th>steps_epoch</th>\n",
       "      <th>steps</th>\n",
       "    </tr>\n",
       "  </thead>\n",
       "  <tbody>\n",
       "    <tr>\n",
       "      <th>0</th>\n",
       "      <td>0</td>\n",
       "      <td>480</td>\n",
       "      <td>0.381776</td>\n",
       "      <td>0.957860</td>\n",
       "      <td>0.966697</td>\n",
       "      <td>0.949183</td>\n",
       "      <td>0.958241</td>\n",
       "      <td>0.991282</td>\n",
       "      <td>480</td>\n",
       "      <td>480</td>\n",
       "    </tr>\n",
       "    <tr>\n",
       "      <th>1</th>\n",
       "      <td>0</td>\n",
       "      <td>960</td>\n",
       "      <td>0.336423</td>\n",
       "      <td>0.970414</td>\n",
       "      <td>0.974595</td>\n",
       "      <td>0.966269</td>\n",
       "      <td>0.970541</td>\n",
       "      <td>0.995059</td>\n",
       "      <td>960</td>\n",
       "      <td>960</td>\n",
       "    </tr>\n",
       "    <tr>\n",
       "      <th>2</th>\n",
       "      <td>0</td>\n",
       "      <td>1440</td>\n",
       "      <td>0.314055</td>\n",
       "      <td>0.971833</td>\n",
       "      <td>0.972981</td>\n",
       "      <td>0.970688</td>\n",
       "      <td>0.971866</td>\n",
       "      <td>0.995643</td>\n",
       "      <td>1440</td>\n",
       "      <td>1440</td>\n",
       "    </tr>\n",
       "    <tr>\n",
       "      <th>3</th>\n",
       "      <td>0</td>\n",
       "      <td>1920</td>\n",
       "      <td>0.296106</td>\n",
       "      <td>0.974109</td>\n",
       "      <td>0.975621</td>\n",
       "      <td>0.972603</td>\n",
       "      <td>0.974149</td>\n",
       "      <td>0.995784</td>\n",
       "      <td>1920</td>\n",
       "      <td>1920</td>\n",
       "    </tr>\n",
       "    <tr>\n",
       "      <th>4</th>\n",
       "      <td>0</td>\n",
       "      <td>2400</td>\n",
       "      <td>0.306701</td>\n",
       "      <td>0.974021</td>\n",
       "      <td>0.978875</td>\n",
       "      <td>0.969215</td>\n",
       "      <td>0.974149</td>\n",
       "      <td>0.996078</td>\n",
       "      <td>2400</td>\n",
       "      <td>2400</td>\n",
       "    </tr>\n",
       "    <tr>\n",
       "      <th>5</th>\n",
       "      <td>0</td>\n",
       "      <td>-1</td>\n",
       "      <td>0.305364</td>\n",
       "      <td>0.973717</td>\n",
       "      <td>0.978863</td>\n",
       "      <td>0.968626</td>\n",
       "      <td>0.973855</td>\n",
       "      <td>0.996044</td>\n",
       "      <td>2404</td>\n",
       "      <td>2404</td>\n",
       "    </tr>\n",
       "    <tr>\n",
       "      <th>6</th>\n",
       "      <td>1</td>\n",
       "      <td>480</td>\n",
       "      <td>0.301013</td>\n",
       "      <td>0.975646</td>\n",
       "      <td>0.980655</td>\n",
       "      <td>0.970688</td>\n",
       "      <td>0.975770</td>\n",
       "      <td>0.996214</td>\n",
       "      <td>480</td>\n",
       "      <td>2884</td>\n",
       "    </tr>\n",
       "    <tr>\n",
       "      <th>7</th>\n",
       "      <td>1</td>\n",
       "      <td>960</td>\n",
       "      <td>0.275420</td>\n",
       "      <td>0.975368</td>\n",
       "      <td>0.979643</td>\n",
       "      <td>0.971130</td>\n",
       "      <td>0.975475</td>\n",
       "      <td>0.996194</td>\n",
       "      <td>960</td>\n",
       "      <td>3364</td>\n",
       "    </tr>\n",
       "    <tr>\n",
       "      <th>8</th>\n",
       "      <td>1</td>\n",
       "      <td>1440</td>\n",
       "      <td>0.289259</td>\n",
       "      <td>0.977515</td>\n",
       "      <td>0.981726</td>\n",
       "      <td>0.973339</td>\n",
       "      <td>0.977611</td>\n",
       "      <td>0.996546</td>\n",
       "      <td>1440</td>\n",
       "      <td>3844</td>\n",
       "    </tr>\n",
       "    <tr>\n",
       "      <th>9</th>\n",
       "      <td>1</td>\n",
       "      <td>1920</td>\n",
       "      <td>0.267868</td>\n",
       "      <td>0.976799</td>\n",
       "      <td>0.976871</td>\n",
       "      <td>0.976727</td>\n",
       "      <td>0.976801</td>\n",
       "      <td>0.996304</td>\n",
       "      <td>1920</td>\n",
       "      <td>4324</td>\n",
       "    </tr>\n",
       "    <tr>\n",
       "      <th>10</th>\n",
       "      <td>1</td>\n",
       "      <td>2400</td>\n",
       "      <td>0.286725</td>\n",
       "      <td>0.977978</td>\n",
       "      <td>0.981314</td>\n",
       "      <td>0.974665</td>\n",
       "      <td>0.978053</td>\n",
       "      <td>0.996452</td>\n",
       "      <td>2400</td>\n",
       "      <td>4804</td>\n",
       "    </tr>\n",
       "    <tr>\n",
       "      <th>11</th>\n",
       "      <td>1</td>\n",
       "      <td>-1</td>\n",
       "      <td>0.285694</td>\n",
       "      <td>0.977985</td>\n",
       "      <td>0.981029</td>\n",
       "      <td>0.974959</td>\n",
       "      <td>0.978053</td>\n",
       "      <td>0.996456</td>\n",
       "      <td>2404</td>\n",
       "      <td>4808</td>\n",
       "    </tr>\n",
       "    <tr>\n",
       "      <th>12</th>\n",
       "      <td>2</td>\n",
       "      <td>480</td>\n",
       "      <td>0.267604</td>\n",
       "      <td>0.978201</td>\n",
       "      <td>0.981465</td>\n",
       "      <td>0.974959</td>\n",
       "      <td>0.978274</td>\n",
       "      <td>0.996395</td>\n",
       "      <td>480</td>\n",
       "      <td>5288</td>\n",
       "    </tr>\n",
       "    <tr>\n",
       "      <th>13</th>\n",
       "      <td>2</td>\n",
       "      <td>960</td>\n",
       "      <td>0.253985</td>\n",
       "      <td>0.976380</td>\n",
       "      <td>0.978547</td>\n",
       "      <td>0.974223</td>\n",
       "      <td>0.976432</td>\n",
       "      <td>0.996211</td>\n",
       "      <td>960</td>\n",
       "      <td>5768</td>\n",
       "    </tr>\n",
       "    <tr>\n",
       "      <th>14</th>\n",
       "      <td>2</td>\n",
       "      <td>1440</td>\n",
       "      <td>0.254104</td>\n",
       "      <td>0.977080</td>\n",
       "      <td>0.977729</td>\n",
       "      <td>0.976432</td>\n",
       "      <td>0.977095</td>\n",
       "      <td>0.996359</td>\n",
       "      <td>1440</td>\n",
       "      <td>6248</td>\n",
       "    </tr>\n",
       "    <tr>\n",
       "      <th>15</th>\n",
       "      <td>2</td>\n",
       "      <td>1920</td>\n",
       "      <td>0.271051</td>\n",
       "      <td>0.977867</td>\n",
       "      <td>0.982887</td>\n",
       "      <td>0.972897</td>\n",
       "      <td>0.977979</td>\n",
       "      <td>0.996313</td>\n",
       "      <td>1920</td>\n",
       "      <td>6728</td>\n",
       "    </tr>\n",
       "    <tr>\n",
       "      <th>16</th>\n",
       "      <td>2</td>\n",
       "      <td>2400</td>\n",
       "      <td>0.279679</td>\n",
       "      <td>0.978657</td>\n",
       "      <td>0.984787</td>\n",
       "      <td>0.972603</td>\n",
       "      <td>0.978789</td>\n",
       "      <td>0.996412</td>\n",
       "      <td>2400</td>\n",
       "      <td>7208</td>\n",
       "    </tr>\n",
       "    <tr>\n",
       "      <th>17</th>\n",
       "      <td>2</td>\n",
       "      <td>-1</td>\n",
       "      <td>0.279577</td>\n",
       "      <td>0.978660</td>\n",
       "      <td>0.984643</td>\n",
       "      <td>0.972750</td>\n",
       "      <td>0.978789</td>\n",
       "      <td>0.996402</td>\n",
       "      <td>2404</td>\n",
       "      <td>7212</td>\n",
       "    </tr>\n",
       "    <tr>\n",
       "      <th>18</th>\n",
       "      <td>3</td>\n",
       "      <td>480</td>\n",
       "      <td>0.275769</td>\n",
       "      <td>0.978559</td>\n",
       "      <td>0.985800</td>\n",
       "      <td>0.971424</td>\n",
       "      <td>0.978716</td>\n",
       "      <td>0.996407</td>\n",
       "      <td>480</td>\n",
       "      <td>7692</td>\n",
       "    </tr>\n",
       "    <tr>\n",
       "      <th>19</th>\n",
       "      <td>3</td>\n",
       "      <td>960</td>\n",
       "      <td>0.267420</td>\n",
       "      <td>0.977926</td>\n",
       "      <td>0.983609</td>\n",
       "      <td>0.972308</td>\n",
       "      <td>0.978053</td>\n",
       "      <td>0.996281</td>\n",
       "      <td>960</td>\n",
       "      <td>8172</td>\n",
       "    </tr>\n",
       "    <tr>\n",
       "      <th>20</th>\n",
       "      <td>3</td>\n",
       "      <td>1440</td>\n",
       "      <td>0.253408</td>\n",
       "      <td>0.978491</td>\n",
       "      <td>0.982047</td>\n",
       "      <td>0.974959</td>\n",
       "      <td>0.978568</td>\n",
       "      <td>0.996354</td>\n",
       "      <td>1440</td>\n",
       "      <td>8652</td>\n",
       "    </tr>\n",
       "    <tr>\n",
       "      <th>21</th>\n",
       "      <td>3</td>\n",
       "      <td>1920</td>\n",
       "      <td>0.249773</td>\n",
       "      <td>0.978237</td>\n",
       "      <td>0.979899</td>\n",
       "      <td>0.976580</td>\n",
       "      <td>0.978274</td>\n",
       "      <td>0.996338</td>\n",
       "      <td>1920</td>\n",
       "      <td>9132</td>\n",
       "    </tr>\n",
       "    <tr>\n",
       "      <th>22</th>\n",
       "      <td>3</td>\n",
       "      <td>2400</td>\n",
       "      <td>0.257987</td>\n",
       "      <td>0.978021</td>\n",
       "      <td>0.982748</td>\n",
       "      <td>0.973339</td>\n",
       "      <td>0.978126</td>\n",
       "      <td>0.996403</td>\n",
       "      <td>2400</td>\n",
       "      <td>9612</td>\n",
       "    </tr>\n",
       "    <tr>\n",
       "      <th>23</th>\n",
       "      <td>3</td>\n",
       "      <td>-1</td>\n",
       "      <td>0.272856</td>\n",
       "      <td>0.977979</td>\n",
       "      <td>0.984622</td>\n",
       "      <td>0.971424</td>\n",
       "      <td>0.978126</td>\n",
       "      <td>0.996398</td>\n",
       "      <td>2404</td>\n",
       "      <td>9616</td>\n",
       "    </tr>\n",
       "    <tr>\n",
       "      <th>24</th>\n",
       "      <td>4</td>\n",
       "      <td>480</td>\n",
       "      <td>0.256537</td>\n",
       "      <td>0.977712</td>\n",
       "      <td>0.983026</td>\n",
       "      <td>0.972455</td>\n",
       "      <td>0.977832</td>\n",
       "      <td>0.996240</td>\n",
       "      <td>480</td>\n",
       "      <td>10096</td>\n",
       "    </tr>\n",
       "    <tr>\n",
       "      <th>25</th>\n",
       "      <td>4</td>\n",
       "      <td>960</td>\n",
       "      <td>0.255499</td>\n",
       "      <td>0.977876</td>\n",
       "      <td>0.982456</td>\n",
       "      <td>0.973339</td>\n",
       "      <td>0.977979</td>\n",
       "      <td>0.996301</td>\n",
       "      <td>960</td>\n",
       "      <td>10576</td>\n",
       "    </tr>\n",
       "    <tr>\n",
       "      <th>26</th>\n",
       "      <td>4</td>\n",
       "      <td>1440</td>\n",
       "      <td>0.250081</td>\n",
       "      <td>0.978192</td>\n",
       "      <td>0.981894</td>\n",
       "      <td>0.974518</td>\n",
       "      <td>0.978274</td>\n",
       "      <td>0.996396</td>\n",
       "      <td>1440</td>\n",
       "      <td>11056</td>\n",
       "    </tr>\n",
       "    <tr>\n",
       "      <th>27</th>\n",
       "      <td>4</td>\n",
       "      <td>1920</td>\n",
       "      <td>0.247936</td>\n",
       "      <td>0.978267</td>\n",
       "      <td>0.981896</td>\n",
       "      <td>0.974665</td>\n",
       "      <td>0.978347</td>\n",
       "      <td>0.996357</td>\n",
       "      <td>1920</td>\n",
       "      <td>11536</td>\n",
       "    </tr>\n",
       "    <tr>\n",
       "      <th>28</th>\n",
       "      <td>4</td>\n",
       "      <td>2400</td>\n",
       "      <td>0.253777</td>\n",
       "      <td>0.978396</td>\n",
       "      <td>0.982905</td>\n",
       "      <td>0.973928</td>\n",
       "      <td>0.978495</td>\n",
       "      <td>0.996370</td>\n",
       "      <td>2400</td>\n",
       "      <td>12016</td>\n",
       "    </tr>\n",
       "    <tr>\n",
       "      <th>29</th>\n",
       "      <td>4</td>\n",
       "      <td>-1</td>\n",
       "      <td>0.253778</td>\n",
       "      <td>0.978396</td>\n",
       "      <td>0.982905</td>\n",
       "      <td>0.973928</td>\n",
       "      <td>0.978495</td>\n",
       "      <td>0.996370</td>\n",
       "      <td>2404</td>\n",
       "      <td>12020</td>\n",
       "    </tr>\n",
       "  </tbody>\n",
       "</table>\n",
       "</div>"
      ],
      "text/plain": [
       "    epoch  steps_epoch_raw  f1_threshold        f1  precision    recall  \\\n",
       "0       0              480      0.381776  0.957860   0.966697  0.949183   \n",
       "1       0              960      0.336423  0.970414   0.974595  0.966269   \n",
       "2       0             1440      0.314055  0.971833   0.972981  0.970688   \n",
       "3       0             1920      0.296106  0.974109   0.975621  0.972603   \n",
       "4       0             2400      0.306701  0.974021   0.978875  0.969215   \n",
       "5       0               -1      0.305364  0.973717   0.978863  0.968626   \n",
       "6       1              480      0.301013  0.975646   0.980655  0.970688   \n",
       "7       1              960      0.275420  0.975368   0.979643  0.971130   \n",
       "8       1             1440      0.289259  0.977515   0.981726  0.973339   \n",
       "9       1             1920      0.267868  0.976799   0.976871  0.976727   \n",
       "10      1             2400      0.286725  0.977978   0.981314  0.974665   \n",
       "11      1               -1      0.285694  0.977985   0.981029  0.974959   \n",
       "12      2              480      0.267604  0.978201   0.981465  0.974959   \n",
       "13      2              960      0.253985  0.976380   0.978547  0.974223   \n",
       "14      2             1440      0.254104  0.977080   0.977729  0.976432   \n",
       "15      2             1920      0.271051  0.977867   0.982887  0.972897   \n",
       "16      2             2400      0.279679  0.978657   0.984787  0.972603   \n",
       "17      2               -1      0.279577  0.978660   0.984643  0.972750   \n",
       "18      3              480      0.275769  0.978559   0.985800  0.971424   \n",
       "19      3              960      0.267420  0.977926   0.983609  0.972308   \n",
       "20      3             1440      0.253408  0.978491   0.982047  0.974959   \n",
       "21      3             1920      0.249773  0.978237   0.979899  0.976580   \n",
       "22      3             2400      0.257987  0.978021   0.982748  0.973339   \n",
       "23      3               -1      0.272856  0.977979   0.984622  0.971424   \n",
       "24      4              480      0.256537  0.977712   0.983026  0.972455   \n",
       "25      4              960      0.255499  0.977876   0.982456  0.973339   \n",
       "26      4             1440      0.250081  0.978192   0.981894  0.974518   \n",
       "27      4             1920      0.247936  0.978267   0.981896  0.974665   \n",
       "28      4             2400      0.253777  0.978396   0.982905  0.973928   \n",
       "29      4               -1      0.253778  0.978396   0.982905  0.973928   \n",
       "\n",
       "    accuracy        ap  steps_epoch  steps  \n",
       "0   0.958241  0.991282          480    480  \n",
       "1   0.970541  0.995059          960    960  \n",
       "2   0.971866  0.995643         1440   1440  \n",
       "3   0.974149  0.995784         1920   1920  \n",
       "4   0.974149  0.996078         2400   2400  \n",
       "5   0.973855  0.996044         2404   2404  \n",
       "6   0.975770  0.996214          480   2884  \n",
       "7   0.975475  0.996194          960   3364  \n",
       "8   0.977611  0.996546         1440   3844  \n",
       "9   0.976801  0.996304         1920   4324  \n",
       "10  0.978053  0.996452         2400   4804  \n",
       "11  0.978053  0.996456         2404   4808  \n",
       "12  0.978274  0.996395          480   5288  \n",
       "13  0.976432  0.996211          960   5768  \n",
       "14  0.977095  0.996359         1440   6248  \n",
       "15  0.977979  0.996313         1920   6728  \n",
       "16  0.978789  0.996412         2400   7208  \n",
       "17  0.978789  0.996402         2404   7212  \n",
       "18  0.978716  0.996407          480   7692  \n",
       "19  0.978053  0.996281          960   8172  \n",
       "20  0.978568  0.996354         1440   8652  \n",
       "21  0.978274  0.996338         1920   9132  \n",
       "22  0.978126  0.996403         2400   9612  \n",
       "23  0.978126  0.996398         2404   9616  \n",
       "24  0.977832  0.996240          480  10096  \n",
       "25  0.977979  0.996301          960  10576  \n",
       "26  0.978274  0.996396         1440  11056  \n",
       "27  0.978347  0.996357         1920  11536  \n",
       "28  0.978495  0.996370         2400  12016  \n",
       "29  0.978495  0.996370         2404  12020  "
      ]
     },
     "execution_count": 95,
     "metadata": {},
     "output_type": "execute_result"
    }
   ],
   "source": [
    "val_metrics = pd.read_csv(os.path.join(output_dp, 'eval', 'validation_evaluator_results.csv'))\n",
    "\n",
    "train_dl_len = 2404\n",
    "val_metrics.rename(columns={'steps': 'steps_epoch_raw'}, inplace=True)\n",
    "val_metrics['steps_epoch'] = val_metrics['steps_epoch_raw'].where(\n",
    "    val_metrics['steps_epoch_raw'] != -1, train_dl_len)\n",
    "val_metrics['steps'] = (val_metrics['epoch'] * train_dl_len) + val_metrics['steps_epoch']\n",
    "val_metrics"
   ]
  },
  {
   "cell_type": "code",
   "execution_count": 96,
   "id": "89eb9df3",
   "metadata": {},
   "outputs": [
    {
     "data": {
      "text/html": [
       "<div>\n",
       "<style scoped>\n",
       "    .dataframe tbody tr th:only-of-type {\n",
       "        vertical-align: middle;\n",
       "    }\n",
       "\n",
       "    .dataframe tbody tr th {\n",
       "        vertical-align: top;\n",
       "    }\n",
       "\n",
       "    .dataframe thead th {\n",
       "        text-align: right;\n",
       "    }\n",
       "</style>\n",
       "<table border=\"1\" class=\"dataframe\">\n",
       "  <thead>\n",
       "    <tr style=\"text-align: right;\">\n",
       "      <th></th>\n",
       "      <th>epoch</th>\n",
       "      <th>steps_epoch_raw</th>\n",
       "      <th>f1_threshold</th>\n",
       "      <th>f1</th>\n",
       "      <th>precision</th>\n",
       "      <th>recall</th>\n",
       "      <th>accuracy</th>\n",
       "      <th>ap</th>\n",
       "      <th>steps_epoch</th>\n",
       "      <th>steps</th>\n",
       "    </tr>\n",
       "  </thead>\n",
       "  <tbody>\n",
       "    <tr>\n",
       "      <th>17</th>\n",
       "      <td>2</td>\n",
       "      <td>-1</td>\n",
       "      <td>0.279577</td>\n",
       "      <td>0.97866</td>\n",
       "      <td>0.984643</td>\n",
       "      <td>0.97275</td>\n",
       "      <td>0.978789</td>\n",
       "      <td>0.996402</td>\n",
       "      <td>2404</td>\n",
       "      <td>7212</td>\n",
       "    </tr>\n",
       "  </tbody>\n",
       "</table>\n",
       "</div>"
      ],
      "text/plain": [
       "    epoch  steps_epoch_raw  f1_threshold       f1  precision   recall  \\\n",
       "17      2               -1      0.279577  0.97866   0.984643  0.97275   \n",
       "\n",
       "    accuracy        ap  steps_epoch  steps  \n",
       "17  0.978789  0.996402         2404   7212  "
      ]
     },
     "execution_count": 96,
     "metadata": {},
     "output_type": "execute_result"
    }
   ],
   "source": [
    "best_val_stats = val_metrics.loc[[val_metrics['f1'].idxmax()]]\n",
    "best_val_stats"
   ]
  },
  {
   "cell_type": "code",
   "execution_count": 97,
   "id": "f81bdf8f",
   "metadata": {},
   "outputs": [
    {
     "data": {
      "image/png": "[encoded data removed]",
      "text/plain": [
       "<Figure size 1650x1100 with 4 Axes>"
      ]
     },
     "metadata": {},
     "output_type": "display_data"
    }
   ],
   "source": [
    "fig, ax = plt.subplots(2, 2, figsize=(15, 10), sharex=True, sharey=True, dpi=110)\n",
    "cols = ['precision', 'recall', 'f1', 'accuracy']\n",
    "for a, col in zip(ax.flatten(), cols):\n",
    "    a.plot(val_metrics['steps'], val_metrics[col], 'o-');\n",
    "    best_iteration_val = best_val_stats[col].iloc[0]\n",
    "    a.axvline(best_val_stats['steps'].iloc[0], c='magenta', alpha=0.5, \n",
    "              label=f'best iteration. {col}: {best_iteration_val :.3f}')\n",
    "    a.legend(loc='lower right');\n",
    "    a.set_title(col)\n",
    "    a.set_xlabel('steps');\n",
    "fig.suptitle('validation metrices');"
   ]
  },
  {
   "cell_type": "code",
   "execution_count": null,
   "id": "071b82fc",
   "metadata": {},
   "outputs": [],
   "source": []
  },
  {
   "cell_type": "markdown",
   "id": "11c648c8",
   "metadata": {},
   "source": [
    "### predict with best model\n",
    "* sbert has 2 different counters: `training_steps` and `global_step`.\n",
    "  they are counted differntly and are used for model evaluation and save respectively.\n",
    "  that's why val metrics were reported for model states different than those saved to disk.\n",
    "  \n",
    "  for simplicity load best model here not from checkpoints but from dir with best model. \n",
    "  \n",
    "  best model was selected by `f1` score in evaluator."
   ]
  },
  {
   "cell_type": "code",
   "execution_count": 101,
   "id": "30af4022",
   "metadata": {},
   "outputs": [
    {
     "name": "stdout",
     "output_type": "stream",
     "text": [
      "loading from: \"/media/rtn/data/fajly2/nn/bert/siam/output\"\n"
     ]
    }
   ],
   "source": [
    "print(f'loading from: \"{output_dp}\"')\n",
    "model = st.SentenceTransformer(output_dp)"
   ]
  },
  {
   "cell_type": "code",
   "execution_count": null,
   "id": "e766ad39",
   "metadata": {},
   "outputs": [],
   "source": []
  },
  {
   "cell_type": "code",
   "execution_count": null,
   "id": "33ae6d58",
   "metadata": {},
   "outputs": [],
   "source": []
  },
  {
   "cell_type": "markdown",
   "id": "80cf3e95",
   "metadata": {},
   "source": [
    "## debug"
   ]
  },
  {
   "cell_type": "code",
   "execution_count": null,
   "id": "3a26106c",
   "metadata": {},
   "outputs": [],
   "source": []
  },
  {
   "cell_type": "code",
   "execution_count": null,
   "id": "db528b91",
   "metadata": {},
   "outputs": [],
   "source": []
  },
  {
   "cell_type": "code",
   "execution_count": 266,
   "id": "84d56c6e",
   "metadata": {},
   "outputs": [],
   "source": []
  },
  {
   "cell_type": "code",
   "execution_count": null,
   "id": "706d52f5",
   "metadata": {},
   "outputs": [],
   "source": []
  }
 ],
 "metadata": {
  "kernelspec": {
   "display_name": "Python 3 (ipykernel)",
   "language": "python",
   "name": "python3"
  },
  "language_info": {
   "codemirror_mode": {
    "name": "ipython",
    "version": 3
   },
   "file_extension": ".py",
   "mimetype": "text/x-python",
   "name": "python",
   "nbconvert_exporter": "python",
   "pygments_lexer": "ipython3",
   "version": "3.9.5"
  },
  "toc": {
   "base_numbering": 1,
   "nav_menu": {},
   "number_sections": true,
   "sideBar": true,
   "skip_h1_title": false,
   "title_cell": "Table of Contents",
   "title_sidebar": "Contents",
   "toc_cell": false,
   "toc_position": {},
   "toc_section_display": true,
   "toc_window_display": false
  }
 },
 "nbformat": 4,
 "nbformat_minor": 5
}
