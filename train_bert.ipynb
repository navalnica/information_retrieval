{
 "cells": [
  {
   "cell_type": "markdown",
   "id": "7840a589",
   "metadata": {},
   "source": [
    "## HW 6. Reranking BM25 predictions using Bert-based networks\n",
    "\n",
    "We use [sentence-transformers](https://www.sbert.net) library \n",
    "to build Bi-Encoder (siamese) and Cross-Encoders networks. \n",
    "The library is a wrapper around `transformers` library.\n",
    "\n",
    "__Metrics for reranking top-50 BM25 predictions:__\n",
    "\n",
    "\n",
    "|model|accuracy@1|accuracy@10|MRR@10|Time to generate predictions|\n",
    "|:-|--|-|--|-|\n",
    "|BM25. Original metrices|22.7%|50.5%|31.3%||\n",
    "|siamese net|44.8%|64.9%|52.0%|1.5s|\n",
    "|cross-encoder|27.84%|60.31%|39.44%|25s|\n",
    "\n",
    "Detailed metrices for various N can be seen in corresponding model sections\n",
    "\n",
    "Best possible value for reranking:\n",
    "* `BM25 accuracy@50 = 67.5%`\n",
    "\n",
    "    i.e. BM25 top-50 predictions for only 67.5% of queries contain true title. \n",
    "    \n",
    "    And that is the maximum value we can achieve with perfect reranking"
   ]
  },
  {
   "cell_type": "code",
   "execution_count": null,
   "id": "48a40660",
   "metadata": {},
   "outputs": [],
   "source": []
  },
  {
   "cell_type": "code",
   "execution_count": 1,
   "id": "e5f0f059",
   "metadata": {},
   "outputs": [
    {
     "name": "stdout",
     "output_type": "stream",
     "text": [
      "using device: cuda\n"
     ]
    }
   ],
   "source": [
    "import os\n",
    "import re\n",
    "import time\n",
    "import pickle\n",
    "import logging\n",
    "import math\n",
    "import random\n",
    "\n",
    "RANDOM_SEED = 18\n",
    "random.seed(RANDOM_SEED)\n",
    "\n",
    "from typing import List, Union\n",
    "from tqdm.auto import tqdm\n",
    "\n",
    "from sklearn.model_selection import train_test_split\n",
    "import pandas as pd\n",
    "\n",
    "import torch\n",
    "from torch.utils.data import Dataset, DataLoader\n",
    "\n",
    "import sentence_transformers as st\n",
    "import sentence_transformers.losses\n",
    "from sentence_transformers.datasets import NoDuplicatesDataLoader\n",
    "from sentence_transformers.readers import InputExample\n",
    "\n",
    "import matplotlib.pyplot as plt\n",
    "import seaborn as sns\n",
    "sns.set(font_scale=1.1)\n",
    "\n",
    "device = 'cuda' if torch.cuda.is_available() else 'cpu'\n",
    "print(f'using device: {device}')"
   ]
  },
  {
   "cell_type": "code",
   "execution_count": 114,
   "id": "ce8b3843",
   "metadata": {},
   "outputs": [],
   "source": [
    "from bert_utils.data import *\n",
    "from bert_utils.siamese import *\n",
    "from bert_utils.cross_encoder import CustomCEBinaryClassificationEvaluator\n",
    "from utils import *\n",
    "from metrices import *"
   ]
  },
  {
   "cell_type": "code",
   "execution_count": 3,
   "id": "16a631c4",
   "metadata": {},
   "outputs": [],
   "source": [
    "%load_ext autoreload\n",
    "%autoreload 2"
   ]
  },
  {
   "cell_type": "code",
   "execution_count": null,
   "id": "b47035fc",
   "metadata": {},
   "outputs": [],
   "source": []
  },
  {
   "cell_type": "markdown",
   "id": "21f39bcc",
   "metadata": {},
   "source": [
    "## TODO:\n",
    "\n",
    "* calc BM accuracy @50\n",
    "* build pipeline for Cross-Encoder\n",
    "\n",
    "----\n",
    "* siamese net:\n",
    "    * train:\n",
    "        * uses MultipleNegativeRankingLoss. we provide only positive examples.\n",
    "          \n",
    "          for i, all the rest examples (j != i) from the batch are considered as negative examples.\n",
    "          \n",
    "          thus we don't need to sample negative examples explicitly.\n",
    "          \n",
    "          and there is no need to compute embeddings for negative examples because we reuse\n",
    "          embeddings for positive examples when treating them as negatives.\n",
    "          \n",
    "        * NoDuplicatesDataloader is not parallel (does it impact training speed?)\n",
    "\n",
    "    * evaluation:\n",
    "        * sample negative cases randomly\n",
    "        \n",
    "        \n",
    "* cross-encoder:\n",
    "    * train: \n",
    "        * sample negatives\n",
    "    * evaluation:\n",
    "        * ideally: rerank siamese predictions -> i.e. compute classification metrices for K * |q| examples\n",
    "        * for simplicity (no connection with siamese net), let's sample negative examples randomly\n",
    "      \n",
    "----\n",
    "\n",
    "Notes:\n",
    "* one of main bottlenecks is reading texts from disk. \n",
    "  it takes ~1.5 min to read ~11k articles (size of evaluation set with negative examples) from ssd"
   ]
  },
  {
   "cell_type": "code",
   "execution_count": null,
   "id": "4fcea214",
   "metadata": {},
   "outputs": [],
   "source": []
  },
  {
   "cell_type": "markdown",
   "id": "d59633f6",
   "metadata": {},
   "source": [
    "## data"
   ]
  },
  {
   "cell_type": "code",
   "execution_count": 4,
   "id": "6f5d6604",
   "metadata": {},
   "outputs": [
    {
     "name": "stdout",
     "output_type": "stream",
     "text": [
      "(223619, 4)\n"
     ]
    }
   ],
   "source": [
    "data_root_dp = '/media/rtn/Windows 10/work/univier/wiki_extract/wiki_parsed'\n",
    "articles_dp = data_root_dp\n",
    "\n",
    "filemap = pd.read_csv(os.path.join(data_root_dp, 'filepaths.csv'))\n",
    "assert filemap.duplicated('filename').sum() == 0\n",
    "\n",
    "filemap['article_id'] = list(range(filemap.shape[0]))\n",
    "article_ids = set(filemap['article_id'])\n",
    "\n",
    "print(filemap.shape)"
   ]
  },
  {
   "cell_type": "code",
   "execution_count": 5,
   "id": "4d92aa1e",
   "metadata": {},
   "outputs": [
    {
     "data": {
      "text/plain": [
       "'Poetry is a type of art form and a type of literature. Poetry uses the qualities of words, in different ways, to be artistic. Poetry can be as short as a few words, or as long as a book. A poem as short as one line is called a monostich. A poem that is as long as a book is an epic. There are many \"poetic forms\" (forms of poetry). Some of forms are: Sonnet, Haiku, Ballad, Stev, Prose poem, Ode, Free verse, Blank verse, thematic, limerick and nursery rhymes. Poetry can be used to describe (comparing, talking about, or expressing emotion) many things. It can make sense or be nonsense, it can rhyme or not. It can have many shapes and sizes; it can be serious or funny. \"To say something poetically\" means to give information in an artistic way. A more modern approach is digital poetry. Computers and webtechnology is used to express poetry and make it interactive. So called interdisciplinary poetry (wich means combination of different forms of poetry) are made possible by linking the poetic texts with audio, video or web-animation (e.g. with CSS) or among themselves via hyperlinks. Modern artists use digital poetry to not only express artistic intention, but also to design a layout around their texts. An example for this use of interdisciplinary art, which combines abstract text and abstract visuals is the german project \"Schwarzer Flamingo\". It uses digital poetry to collect pieces of written art but also to give different artists a plattform. So some projects of digital art can be described as a form of an artwork as well as an exhibition.'"
      ]
     },
     "execution_count": 5,
     "metadata": {},
     "output_type": "execute_result"
    }
   ],
   "source": [
    "get_article_text(get_article_path('poetry', filemap))"
   ]
  },
  {
   "cell_type": "code",
   "execution_count": null,
   "id": "9aeb69b9",
   "metadata": {},
   "outputs": [],
   "source": []
  },
  {
   "cell_type": "code",
   "execution_count": 6,
   "id": "7681e6da",
   "metadata": {},
   "outputs": [
    {
     "name": "stdout",
     "output_type": "stream",
     "text": [
      "(200, 2)\n"
     ]
    },
    {
     "data": {
      "text/html": [
       "<div>\n",
       "<style scoped>\n",
       "    .dataframe tbody tr th:only-of-type {\n",
       "        vertical-align: middle;\n",
       "    }\n",
       "\n",
       "    .dataframe tbody tr th {\n",
       "        vertical-align: top;\n",
       "    }\n",
       "\n",
       "    .dataframe thead th {\n",
       "        text-align: right;\n",
       "    }\n",
       "</style>\n",
       "<table border=\"1\" class=\"dataframe\">\n",
       "  <thead>\n",
       "    <tr style=\"text-align: right;\">\n",
       "      <th></th>\n",
       "      <th>query</th>\n",
       "      <th>title</th>\n",
       "    </tr>\n",
       "  </thead>\n",
       "  <tbody>\n",
       "    <tr>\n",
       "      <th>0</th>\n",
       "      <td>animals that have shells and live in water</td>\n",
       "      <td>shell__zoology_</td>\n",
       "    </tr>\n",
       "    <tr>\n",
       "      <th>1</th>\n",
       "      <td>how many different types of scorpions are there</td>\n",
       "      <td>scorpion</td>\n",
       "    </tr>\n",
       "    <tr>\n",
       "      <th>2</th>\n",
       "      <td>describe the structure of a scientific name fo...</td>\n",
       "      <td>binomial_nomenclature</td>\n",
       "    </tr>\n",
       "  </tbody>\n",
       "</table>\n",
       "</div>"
      ],
      "text/plain": [
       "                                               query                  title\n",
       "0         animals that have shells and live in water        shell__zoology_\n",
       "1    how many different types of scorpions are there               scorpion\n",
       "2  describe the structure of a scientific name fo...  binomial_nomenclature"
      ]
     },
     "execution_count": 6,
     "metadata": {},
     "output_type": "execute_result"
    }
   ],
   "source": [
    "labels_test = pd.read_csv('data/queries.tsv', sep='\\t', header=None)\n",
    "labels_test.columns = ['query', 'title']\n",
    "labels_test['title'] = process_title(labels_test['title'])\n",
    "\n",
    "print(labels_test.shape)\n",
    "labels_test.head(3)"
   ]
  },
  {
   "cell_type": "code",
   "execution_count": 7,
   "id": "4110bee3",
   "metadata": {},
   "outputs": [
    {
     "name": "stdout",
     "output_type": "stream",
     "text": [
      "(50000, 2)\n"
     ]
    },
    {
     "data": {
      "text/html": [
       "<div>\n",
       "<style scoped>\n",
       "    .dataframe tbody tr th:only-of-type {\n",
       "        vertical-align: middle;\n",
       "    }\n",
       "\n",
       "    .dataframe tbody tr th {\n",
       "        vertical-align: top;\n",
       "    }\n",
       "\n",
       "    .dataframe thead th {\n",
       "        text-align: right;\n",
       "    }\n",
       "</style>\n",
       "<table border=\"1\" class=\"dataframe\">\n",
       "  <thead>\n",
       "    <tr style=\"text-align: right;\">\n",
       "      <th></th>\n",
       "      <th>query</th>\n",
       "      <th>title</th>\n",
       "    </tr>\n",
       "  </thead>\n",
       "  <tbody>\n",
       "    <tr>\n",
       "      <th>0</th>\n",
       "      <td>where does the most metabolic activity in the ...</td>\n",
       "      <td>cytoplasm</td>\n",
       "    </tr>\n",
       "    <tr>\n",
       "      <th>1</th>\n",
       "      <td>what kind of dog played in turner and hooch</td>\n",
       "      <td>dogue_de_bordeaux</td>\n",
       "    </tr>\n",
       "    <tr>\n",
       "      <th>2</th>\n",
       "      <td>when is there gonna be an eclipse 2017</td>\n",
       "      <td>solar_eclipse_of_august_21__2017</td>\n",
       "    </tr>\n",
       "  </tbody>\n",
       "</table>\n",
       "</div>"
      ],
      "text/plain": [
       "                                               query  \\\n",
       "0  where does the most metabolic activity in the ...   \n",
       "1        what kind of dog played in turner and hooch   \n",
       "2             when is there gonna be an eclipse 2017   \n",
       "\n",
       "                              title  \n",
       "0                         cytoplasm  \n",
       "1                 dogue_de_bordeaux  \n",
       "2  solar_eclipse_of_august_21__2017  "
      ]
     },
     "execution_count": 7,
     "metadata": {},
     "output_type": "execute_result"
    }
   ],
   "source": [
    "labels_train_raw = pd.read_csv('data/train.tsv', sep='\\t', header=None)\n",
    "labels_train_raw.columns = ['query', 'title']\n",
    "labels_train_raw['title'] = process_title(labels_train_raw['title'])\n",
    "\n",
    "print(labels_train_raw.shape)\n",
    "labels_train_raw.head(3)"
   ]
  },
  {
   "cell_type": "code",
   "execution_count": null,
   "id": "1f4c1ab3",
   "metadata": {},
   "outputs": [],
   "source": []
  },
  {
   "cell_type": "code",
   "execution_count": 8,
   "id": "f2d99af5",
   "metadata": {},
   "outputs": [],
   "source": [
    "with open('data/bm25_top50_preds.pickle', 'rb') as fin:\n",
    "    bm25_preds = pickle.load(fin)"
   ]
  },
  {
   "cell_type": "code",
   "execution_count": 9,
   "id": "c8e7622e",
   "metadata": {},
   "outputs": [
    {
     "name": "stdout",
     "output_type": "stream",
     "text": [
      "shape: (9700, 3)\n",
      "# unique queries: 194\n",
      "# unique titles: 3606\n"
     ]
    }
   ],
   "source": [
    "bm25_preds_df = [\n",
    "    {'query': record['query'], 'title': t, 'pred_ix': ix}\n",
    "    for record in bm25_preds\n",
    "    for ix, t in enumerate(record['bm25_top50_preds'])\n",
    "]\n",
    "bm25_preds_df = pd.DataFrame(bm25_preds_df)\n",
    "assert all(bm25_preds_df.groupby('query').size() == 50)\n",
    "\n",
    "print(f'shape: {bm25_preds_df.shape}')\n",
    "print(f'# unique queries: {bm25_preds_df[\"query\"].nunique()}')\n",
    "print(f'# unique titles: {bm25_preds_df[\"title\"].nunique()}')"
   ]
  },
  {
   "cell_type": "code",
   "execution_count": 10,
   "id": "114f2ecc",
   "metadata": {},
   "outputs": [],
   "source": [
    "assert len(set(bm25_preds_df['title']).difference(filemap['filename'])) == 0"
   ]
  },
  {
   "cell_type": "code",
   "execution_count": 11,
   "id": "5a49be2e",
   "metadata": {},
   "outputs": [
    {
     "data": {
      "text/html": [
       "<div>\n",
       "<style scoped>\n",
       "    .dataframe tbody tr th:only-of-type {\n",
       "        vertical-align: middle;\n",
       "    }\n",
       "\n",
       "    .dataframe tbody tr th {\n",
       "        vertical-align: top;\n",
       "    }\n",
       "\n",
       "    .dataframe thead th {\n",
       "        text-align: right;\n",
       "    }\n",
       "</style>\n",
       "<table border=\"1\" class=\"dataframe\">\n",
       "  <thead>\n",
       "    <tr style=\"text-align: right;\">\n",
       "      <th></th>\n",
       "      <th>query</th>\n",
       "      <th>title</th>\n",
       "      <th>pred_ix</th>\n",
       "    </tr>\n",
       "  </thead>\n",
       "  <tbody>\n",
       "    <tr>\n",
       "      <th>0</th>\n",
       "      <td>animals that have shells and live in water</td>\n",
       "      <td>hermit_crab</td>\n",
       "      <td>0</td>\n",
       "    </tr>\n",
       "    <tr>\n",
       "      <th>1</th>\n",
       "      <td>animals that have shells and live in water</td>\n",
       "      <td>oviparous_animals</td>\n",
       "      <td>1</td>\n",
       "    </tr>\n",
       "    <tr>\n",
       "      <th>2</th>\n",
       "      <td>animals that have shells and live in water</td>\n",
       "      <td>otter</td>\n",
       "      <td>2</td>\n",
       "    </tr>\n",
       "    <tr>\n",
       "      <th>3</th>\n",
       "      <td>animals that have shells and live in water</td>\n",
       "      <td>bivalve</td>\n",
       "      <td>3</td>\n",
       "    </tr>\n",
       "    <tr>\n",
       "      <th>4</th>\n",
       "      <td>animals that have shells and live in water</td>\n",
       "      <td>snail</td>\n",
       "      <td>4</td>\n",
       "    </tr>\n",
       "  </tbody>\n",
       "</table>\n",
       "</div>"
      ],
      "text/plain": [
       "                                        query              title  pred_ix\n",
       "0  animals that have shells and live in water        hermit_crab        0\n",
       "1  animals that have shells and live in water  oviparous_animals        1\n",
       "2  animals that have shells and live in water              otter        2\n",
       "3  animals that have shells and live in water            bivalve        3\n",
       "4  animals that have shells and live in water              snail        4"
      ]
     },
     "execution_count": 11,
     "metadata": {},
     "output_type": "execute_result"
    }
   ],
   "source": [
    "bm25_preds_df.head()"
   ]
  },
  {
   "cell_type": "code",
   "execution_count": null,
   "id": "f4537b1a",
   "metadata": {},
   "outputs": [],
   "source": []
  },
  {
   "cell_type": "code",
   "execution_count": null,
   "id": "650dec9c",
   "metadata": {},
   "outputs": [],
   "source": []
  },
  {
   "cell_type": "markdown",
   "id": "2cec1bf9",
   "metadata": {},
   "source": [
    "### filter train, test samples"
   ]
  },
  {
   "cell_type": "code",
   "execution_count": 12,
   "id": "5acfc115",
   "metadata": {},
   "outputs": [
    {
     "name": "stdout",
     "output_type": "stream",
     "text": [
      "init shapes: (223619, 50000)\n",
      "unique elements: (223619, 16731)\n",
      "s1 & s2: 15430\n",
      "s1 ^ s2: 209490\n",
      "s1 - s2: 208189\n",
      "s2 - s1: 1301\n"
     ]
    }
   ],
   "source": [
    "two_sets_stats(filemap['filename'], labels_train_raw['title'])"
   ]
  },
  {
   "cell_type": "code",
   "execution_count": 13,
   "id": "1b172bf2",
   "metadata": {},
   "outputs": [
    {
     "name": "stdout",
     "output_type": "stream",
     "text": [
      "init shapes: (223619, 200)\n",
      "unique elements: (223619, 142)\n",
      "s1 & s2: 137\n",
      "s1 ^ s2: 223487\n",
      "s1 - s2: 223482\n",
      "s2 - s1: 5\n"
     ]
    }
   ],
   "source": [
    "two_sets_stats(filemap['filename'], labels_test['title'])"
   ]
  },
  {
   "cell_type": "code",
   "execution_count": 14,
   "id": "a037b991",
   "metadata": {},
   "outputs": [
    {
     "name": "stdout",
     "output_type": "stream",
     "text": [
      "45260\n",
      "194\n"
     ]
    }
   ],
   "source": [
    "# labels_train_raw = labels_train_raw[labels_train_raw['title'].isin(filemap['filename'])]\n",
    "# labels_test = labels_test[labels_test['title'].isin(filemap['filename'])]\n",
    "\n",
    "labels_train_raw = labels_train_raw.merge(\n",
    "    filemap[['filename', 'article_id']], \n",
    "    left_on='title', right_on='filename', how='inner').drop(columns='filename')\n",
    "\n",
    "labels_test = labels_test.merge(\n",
    "    filemap[['filename', 'article_id']], \n",
    "    left_on='title', right_on='filename', how='inner').drop(columns='filename')\n",
    "\n",
    "print(labels_train_raw.shape[0])\n",
    "print(labels_test.shape[0])"
   ]
  },
  {
   "cell_type": "code",
   "execution_count": null,
   "id": "031cfe56",
   "metadata": {},
   "outputs": [],
   "source": []
  },
  {
   "cell_type": "code",
   "execution_count": 15,
   "id": "fb954d4b",
   "metadata": {},
   "outputs": [
    {
     "data": {
      "text/html": [
       "<div>\n",
       "<style scoped>\n",
       "    .dataframe tbody tr th:only-of-type {\n",
       "        vertical-align: middle;\n",
       "    }\n",
       "\n",
       "    .dataframe tbody tr th {\n",
       "        vertical-align: top;\n",
       "    }\n",
       "\n",
       "    .dataframe thead th {\n",
       "        text-align: right;\n",
       "    }\n",
       "</style>\n",
       "<table border=\"1\" class=\"dataframe\">\n",
       "  <thead>\n",
       "    <tr style=\"text-align: right;\">\n",
       "      <th></th>\n",
       "      <th>query</th>\n",
       "      <th>title</th>\n",
       "      <th>article_id</th>\n",
       "    </tr>\n",
       "  </thead>\n",
       "  <tbody>\n",
       "    <tr>\n",
       "      <th>0</th>\n",
       "      <td>where does the most metabolic activity in the ...</td>\n",
       "      <td>cytoplasm</td>\n",
       "      <td>52039</td>\n",
       "    </tr>\n",
       "    <tr>\n",
       "      <th>1</th>\n",
       "      <td>what is the structure that contains ions subst...</td>\n",
       "      <td>cytoplasm</td>\n",
       "      <td>52039</td>\n",
       "    </tr>\n",
       "  </tbody>\n",
       "</table>\n",
       "</div>"
      ],
      "text/plain": [
       "                                               query      title  article_id\n",
       "0  where does the most metabolic activity in the ...  cytoplasm       52039\n",
       "1  what is the structure that contains ions subst...  cytoplasm       52039"
      ]
     },
     "execution_count": 15,
     "metadata": {},
     "output_type": "execute_result"
    }
   ],
   "source": [
    "labels_train_raw.head(2)"
   ]
  },
  {
   "cell_type": "code",
   "execution_count": 16,
   "id": "3376a021",
   "metadata": {},
   "outputs": [
    {
     "data": {
      "text/html": [
       "<div>\n",
       "<style scoped>\n",
       "    .dataframe tbody tr th:only-of-type {\n",
       "        vertical-align: middle;\n",
       "    }\n",
       "\n",
       "    .dataframe tbody tr th {\n",
       "        vertical-align: top;\n",
       "    }\n",
       "\n",
       "    .dataframe thead th {\n",
       "        text-align: right;\n",
       "    }\n",
       "</style>\n",
       "<table border=\"1\" class=\"dataframe\">\n",
       "  <thead>\n",
       "    <tr style=\"text-align: right;\">\n",
       "      <th></th>\n",
       "      <th>query</th>\n",
       "      <th>title</th>\n",
       "      <th>article_id</th>\n",
       "    </tr>\n",
       "  </thead>\n",
       "  <tbody>\n",
       "    <tr>\n",
       "      <th>0</th>\n",
       "      <td>animals that have shells and live in water</td>\n",
       "      <td>shell__zoology_</td>\n",
       "      <td>180649</td>\n",
       "    </tr>\n",
       "    <tr>\n",
       "      <th>1</th>\n",
       "      <td>how many different types of scorpions are there</td>\n",
       "      <td>scorpion</td>\n",
       "      <td>177775</td>\n",
       "    </tr>\n",
       "  </tbody>\n",
       "</table>\n",
       "</div>"
      ],
      "text/plain": [
       "                                             query            title  \\\n",
       "0       animals that have shells and live in water  shell__zoology_   \n",
       "1  how many different types of scorpions are there         scorpion   \n",
       "\n",
       "   article_id  \n",
       "0      180649  \n",
       "1      177775  "
      ]
     },
     "execution_count": 16,
     "metadata": {},
     "output_type": "execute_result"
    }
   ],
   "source": [
    "labels_test.head(2)"
   ]
  },
  {
   "cell_type": "code",
   "execution_count": null,
   "id": "caa576c2",
   "metadata": {},
   "outputs": [],
   "source": []
  },
  {
   "cell_type": "code",
   "execution_count": null,
   "id": "69040172",
   "metadata": {},
   "outputs": [],
   "source": []
  },
  {
   "cell_type": "markdown",
   "id": "ad4334f7",
   "metadata": {},
   "source": [
    "## common dataprocessing for modeling"
   ]
  },
  {
   "cell_type": "code",
   "execution_count": 17,
   "id": "cf55991d",
   "metadata": {},
   "outputs": [
    {
     "name": "stdout",
     "output_type": "stream",
     "text": [
      "(38471, 3)\n",
      "(6789, 3)\n"
     ]
    }
   ],
   "source": [
    "assert labels_train_raw['query'].duplicated().sum() == 0  # else we should split into (train, val) by queries\n",
    "\n",
    "labels_train, labels_val = train_test_split(\n",
    "    labels_train_raw, random_state=RANDOM_SEED, test_size=0.15, shuffle=True)\n",
    "\n",
    "print(labels_train.shape)\n",
    "print(labels_val.shape)"
   ]
  },
  {
   "cell_type": "code",
   "execution_count": null,
   "id": "788f6118",
   "metadata": {},
   "outputs": [],
   "source": []
  },
  {
   "cell_type": "markdown",
   "id": "d7e8a439",
   "metadata": {},
   "source": [
    "### generate negatives for validation set"
   ]
  },
  {
   "cell_type": "code",
   "execution_count": 18,
   "id": "c86989b7",
   "metadata": {},
   "outputs": [
    {
     "name": "stdout",
     "output_type": "stream",
     "text": [
      "(13578, 4)\n"
     ]
    }
   ],
   "source": [
    "labels_val_w_negatives = add_negative_samples_to_labels_df(\n",
    "    labels_df=labels_val, neg_to_pos_factor=1, \n",
    "    all_article_ids=article_ids, filemap=filemap, \n",
    ")\n",
    "print(labels_val_w_negatives.shape)"
   ]
  },
  {
   "cell_type": "code",
   "execution_count": 19,
   "id": "9162f162",
   "metadata": {},
   "outputs": [
    {
     "data": {
      "text/html": [
       "<div>\n",
       "<style scoped>\n",
       "    .dataframe tbody tr th:only-of-type {\n",
       "        vertical-align: middle;\n",
       "    }\n",
       "\n",
       "    .dataframe tbody tr th {\n",
       "        vertical-align: top;\n",
       "    }\n",
       "\n",
       "    .dataframe thead th {\n",
       "        text-align: right;\n",
       "    }\n",
       "</style>\n",
       "<table border=\"1\" class=\"dataframe\">\n",
       "  <thead>\n",
       "    <tr style=\"text-align: right;\">\n",
       "      <th></th>\n",
       "      <th>query</th>\n",
       "      <th>title</th>\n",
       "      <th>article_id</th>\n",
       "      <th>label</th>\n",
       "    </tr>\n",
       "  </thead>\n",
       "  <tbody>\n",
       "    <tr>\n",
       "      <th>0</th>\n",
       "      <td>the governor general who annexed sindh in brit...</td>\n",
       "      <td>charles_james_napier</td>\n",
       "      <td>40657</td>\n",
       "      <td>1</td>\n",
       "    </tr>\n",
       "    <tr>\n",
       "      <th>1</th>\n",
       "      <td>where does the thirteen reasons why take place</td>\n",
       "      <td>13_reasons_why</td>\n",
       "      <td>635</td>\n",
       "      <td>1</td>\n",
       "    </tr>\n",
       "  </tbody>\n",
       "</table>\n",
       "</div>"
      ],
      "text/plain": [
       "                                               query                 title  \\\n",
       "0  the governor general who annexed sindh in brit...  charles_james_napier   \n",
       "1     where does the thirteen reasons why take place        13_reasons_why   \n",
       "\n",
       "   article_id  label  \n",
       "0       40657      1  \n",
       "1         635      1  "
      ]
     },
     "execution_count": 19,
     "metadata": {},
     "output_type": "execute_result"
    }
   ],
   "source": [
    "labels_val_w_negatives.head(2)"
   ]
  },
  {
   "cell_type": "code",
   "execution_count": 20,
   "id": "967d7b59",
   "metadata": {},
   "outputs": [
    {
     "data": {
      "text/plain": [
       "1    6789\n",
       "0    6789\n",
       "Name: label, dtype: int64"
      ]
     },
     "execution_count": 20,
     "metadata": {},
     "output_type": "execute_result"
    }
   ],
   "source": [
    "labels_val_w_negatives['label'].value_counts()"
   ]
  },
  {
   "cell_type": "code",
   "execution_count": 21,
   "id": "80e4b761",
   "metadata": {},
   "outputs": [
    {
     "data": {
      "application/vnd.jupyter.widget-view+json": {
       "model_id": "2e297b7497cf4ecca818f1144b1c2014",
       "version_major": 2,
       "version_minor": 0
      },
      "text/plain": [
       "  0%|          | 0/13578 [00:00<?, ?it/s]"
      ]
     },
     "metadata": {},
     "output_type": "display_data"
    }
   ],
   "source": [
    "# load all aricles for labels_val_w_negatives beforehand\n",
    "val_articles = []\n",
    "for t in tqdm(labels_val_w_negatives['title']):\n",
    "    val_articles.append(get_article_text(get_article_path(t, filemap)))"
   ]
  },
  {
   "cell_type": "code",
   "execution_count": null,
   "id": "bf460706",
   "metadata": {},
   "outputs": [],
   "source": []
  },
  {
   "cell_type": "code",
   "execution_count": 22,
   "id": "99e31196",
   "metadata": {},
   "outputs": [
    {
     "name": "stdout",
     "output_type": "stream",
     "text": [
      "15430\n",
      "14136\n",
      "11162\n"
     ]
    }
   ],
   "source": [
    "print(labels_train_raw['title'].nunique())\n",
    "print(labels_train['title'].nunique())\n",
    "print(labels_val_w_negatives['title'].nunique())"
   ]
  },
  {
   "cell_type": "code",
   "execution_count": null,
   "id": "d2cbe99b",
   "metadata": {},
   "outputs": [],
   "source": []
  },
  {
   "cell_type": "code",
   "execution_count": null,
   "id": "de1ed874",
   "metadata": {},
   "outputs": [],
   "source": []
  },
  {
   "cell_type": "code",
   "execution_count": null,
   "id": "b67f24f0",
   "metadata": {},
   "outputs": [],
   "source": []
  },
  {
   "cell_type": "markdown",
   "id": "8e2739ed",
   "metadata": {},
   "source": [
    "## siamese model"
   ]
  },
  {
   "cell_type": "code",
   "execution_count": null,
   "id": "def5b8c5",
   "metadata": {},
   "outputs": [],
   "source": []
  },
  {
   "cell_type": "markdown",
   "id": "fea7785b",
   "metadata": {},
   "source": [
    "### train dataset"
   ]
  },
  {
   "cell_type": "code",
   "execution_count": 27,
   "id": "954a4d33",
   "metadata": {},
   "outputs": [],
   "source": [
    "train_dataset = WikiQADataset(labels_train.assign(label=1), filemap=filemap)"
   ]
  },
  {
   "cell_type": "code",
   "execution_count": 30,
   "id": "1a68f3d0",
   "metadata": {},
   "outputs": [
    {
     "data": {
      "text/plain": [
       "(1,\n",
       " ['how do they draw teams for the world cup',\n",
       "  'The knockout stage of the 2018 FIFA World Cup is the second stage of the competition, just after the group stage. It began on 30 June with the round of 16 and ended on 15 July with the final match, held at the Luzhniki Stadium in Moscow. The top two teams from each group (16 in total) would advance to the knockout stage to compete in a single-elimination. In the knockout stage, if a match is level at the end of 90 minutes of normal playing time, extra time would be played (two periods of 15 minutes each), where each team is allowed to make a fourth substitution. If still tied after extra time, the match would be decided by a penalty shoot-out to determine the winners. A third place play-off will also be played between the two losing teams of the semi-finals. The top two placed teams from each of the eight groups will qualify for the knockout stage.'])"
      ]
     },
     "execution_count": 30,
     "metadata": {},
     "output_type": "execute_result"
    }
   ],
   "source": [
    "train_dataset[2].label, train_dataset[2].texts"
   ]
  },
  {
   "cell_type": "code",
   "execution_count": null,
   "id": "4ef5a05f",
   "metadata": {},
   "outputs": [],
   "source": []
  },
  {
   "cell_type": "markdown",
   "id": "af38f375",
   "metadata": {},
   "source": [
    "### train siamese model"
   ]
  },
  {
   "cell_type": "code",
   "execution_count": 22,
   "id": "f4e585ea",
   "metadata": {},
   "outputs": [],
   "source": [
    "# TODO: has max_seq_length: 128. can change to other model\n",
    "model = st.SentenceTransformer('distilbert-base-nli-mean-tokens')\n",
    "model.to(device);"
   ]
  },
  {
   "cell_type": "code",
   "execution_count": null,
   "id": "d1780608",
   "metadata": {},
   "outputs": [],
   "source": []
  },
  {
   "cell_type": "code",
   "execution_count": 23,
   "id": "c1a8053a",
   "metadata": {},
   "outputs": [
    {
     "name": "stdout",
     "output_type": "stream",
     "text": [
      "num_epochs: 5\n",
      "train_batch_size: 16\n",
      "val_batch_size: 64\n",
      "warmup steps: 1202\n",
      "len(train_dl): 2404\n",
      "eval_steps: 480\n",
      "checkpoints_dp:\t\"/media/rtn/data/fajly2/nn/bert/siam/checkpoints\"\n",
      "output_dp:\t\"/media/rtn/data/fajly2/nn/bert/siam/output\"\n"
     ]
    }
   ],
   "source": [
    "num_epochs = 5\n",
    "train_batch_size = 16\n",
    "val_batch_size = 64\n",
    "train_dl = CustomNoDuplicatesDataLoader(train_dataset, batch_size=train_batch_size)\n",
    "warmup_steps = math.ceil(len(train_dl) * num_epochs * 0.1)\n",
    "eval_steps = int(len(train_dl) * 0.2)\n",
    "\n",
    "out_root_dp = '/media/rtn/data/fajly2/nn/bert'\n",
    "checkpoints_dp = os.path.join(out_root_dp, 'siam', 'checkpoints')\n",
    "output_dp = os.path.join(out_root_dp, 'siam', 'output')\n",
    "\n",
    "print(f\"num_epochs: {num_epochs}\")\n",
    "print(f'train_batch_size: {train_batch_size}')\n",
    "print(f'val_batch_size: {val_batch_size}')\n",
    "print(f\"warmup steps: {warmup_steps}\")\n",
    "print(f'len(train_dl): {len(train_dl)}')\n",
    "print(f'eval_steps: {eval_steps}')\n",
    "\n",
    "print(f'checkpoints_dp:\\t\"{checkpoints_dp}\"')\n",
    "print(f'output_dp:\\t\"{output_dp}\"')"
   ]
  },
  {
   "cell_type": "code",
   "execution_count": null,
   "id": "0a83add0",
   "metadata": {},
   "outputs": [],
   "source": []
  },
  {
   "cell_type": "code",
   "execution_count": 24,
   "id": "a0e0a462",
   "metadata": {},
   "outputs": [],
   "source": [
    "train_loss = st.losses.MultipleNegativesRankingLoss(model=model)"
   ]
  },
  {
   "cell_type": "code",
   "execution_count": 25,
   "id": "749669df",
   "metadata": {},
   "outputs": [],
   "source": [
    "val_evaluator = CustomBinaryClassificationEvaluator(\n",
    "    sentences1=labels_val_w_negatives['query'].tolist(),\n",
    "    sentences2=val_articles,\n",
    "    labels=labels_val_w_negatives['label'].tolist(),\n",
    "    batch_size=val_batch_size\n",
    ")"
   ]
  },
  {
   "cell_type": "code",
   "execution_count": 26,
   "id": "80a88df4",
   "metadata": {},
   "outputs": [
    {
     "data": {
      "application/vnd.jupyter.widget-view+json": {
       "model_id": "f2272685fc934ef0b01ec0e8fb24058f",
       "version_major": 2,
       "version_minor": 0
      },
      "text/plain": [
       "Epoch:   0%|          | 0/5 [00:00<?, ?it/s]"
      ]
     },
     "metadata": {},
     "output_type": "display_data"
    },
    {
     "data": {
      "application/vnd.jupyter.widget-view+json": {
       "model_id": "6364a9a5d7914cc1a7ee5b0668c9a753",
       "version_major": 2,
       "version_minor": 0
      },
      "text/plain": [
       "Iteration:   0%|          | 0/2404 [00:00<?, ?it/s]"
      ]
     },
     "metadata": {},
     "output_type": "display_data"
    },
    {
     "data": {
      "application/vnd.jupyter.widget-view+json": {
       "model_id": "70645019765a40b9a802edd5db824f16",
       "version_major": 2,
       "version_minor": 0
      },
      "text/plain": [
       "Batches:   0%|          | 0/277 [00:00<?, ?it/s]"
      ]
     },
     "metadata": {},
     "output_type": "display_data"
    },
    {
     "data": {
      "application/vnd.jupyter.widget-view+json": {
       "model_id": "775a6a8d62ad42b2813d02e161dd78dd",
       "version_major": 2,
       "version_minor": 0
      },
      "text/plain": [
       "Batches:   0%|          | 0/277 [00:00<?, ?it/s]"
      ]
     },
     "metadata": {},
     "output_type": "display_data"
    },
    {
     "data": {
      "application/vnd.jupyter.widget-view+json": {
       "model_id": "3cffeaa141684443b2fe1fd44893a548",
       "version_major": 2,
       "version_minor": 0
      },
      "text/plain": [
       "Batches:   0%|          | 0/277 [00:00<?, ?it/s]"
      ]
     },
     "metadata": {},
     "output_type": "display_data"
    },
    {
     "data": {
      "application/vnd.jupyter.widget-view+json": {
       "model_id": "327017e4752a4758928359e51ebedee4",
       "version_major": 2,
       "version_minor": 0
      },
      "text/plain": [
       "Batches:   0%|          | 0/277 [00:00<?, ?it/s]"
      ]
     },
     "metadata": {},
     "output_type": "display_data"
    },
    {
     "data": {
      "application/vnd.jupyter.widget-view+json": {
       "model_id": "4980c094660e49de936582f59427663a",
       "version_major": 2,
       "version_minor": 0
      },
      "text/plain": [
       "Batches:   0%|          | 0/277 [00:00<?, ?it/s]"
      ]
     },
     "metadata": {},
     "output_type": "display_data"
    },
    {
     "data": {
      "application/vnd.jupyter.widget-view+json": {
       "model_id": "1bae594df5354861b84f0a7eee4049b4",
       "version_major": 2,
       "version_minor": 0
      },
      "text/plain": [
       "Batches:   0%|          | 0/277 [00:00<?, ?it/s]"
      ]
     },
     "metadata": {},
     "output_type": "display_data"
    },
    {
     "data": {
      "application/vnd.jupyter.widget-view+json": {
       "model_id": "4aaa694fb7c44a6fb4a443fe4e88a36a",
       "version_major": 2,
       "version_minor": 0
      },
      "text/plain": [
       "Iteration:   0%|          | 0/2404 [00:00<?, ?it/s]"
      ]
     },
     "metadata": {},
     "output_type": "display_data"
    },
    {
     "data": {
      "application/vnd.jupyter.widget-view+json": {
       "model_id": "5f663a54dd6949cd8864ecafe992b242",
       "version_major": 2,
       "version_minor": 0
      },
      "text/plain": [
       "Batches:   0%|          | 0/277 [00:00<?, ?it/s]"
      ]
     },
     "metadata": {},
     "output_type": "display_data"
    },
    {
     "data": {
      "application/vnd.jupyter.widget-view+json": {
       "model_id": "0405e39c544f4e1680bde26390e5eb3e",
       "version_major": 2,
       "version_minor": 0
      },
      "text/plain": [
       "Batches:   0%|          | 0/277 [00:00<?, ?it/s]"
      ]
     },
     "metadata": {},
     "output_type": "display_data"
    },
    {
     "data": {
      "application/vnd.jupyter.widget-view+json": {
       "model_id": "347bc51ec01a4809a4492900177158e6",
       "version_major": 2,
       "version_minor": 0
      },
      "text/plain": [
       "Batches:   0%|          | 0/277 [00:00<?, ?it/s]"
      ]
     },
     "metadata": {},
     "output_type": "display_data"
    },
    {
     "data": {
      "application/vnd.jupyter.widget-view+json": {
       "model_id": "93a99b8a05184323b93dc5859bfd9e09",
       "version_major": 2,
       "version_minor": 0
      },
      "text/plain": [
       "Batches:   0%|          | 0/277 [00:00<?, ?it/s]"
      ]
     },
     "metadata": {},
     "output_type": "display_data"
    },
    {
     "data": {
      "application/vnd.jupyter.widget-view+json": {
       "model_id": "0015f0b953824c86884edd86eeed9821",
       "version_major": 2,
       "version_minor": 0
      },
      "text/plain": [
       "Batches:   0%|          | 0/277 [00:00<?, ?it/s]"
      ]
     },
     "metadata": {},
     "output_type": "display_data"
    },
    {
     "data": {
      "application/vnd.jupyter.widget-view+json": {
       "model_id": "b835dfd416a34bf488bb630a15200d80",
       "version_major": 2,
       "version_minor": 0
      },
      "text/plain": [
       "Batches:   0%|          | 0/277 [00:00<?, ?it/s]"
      ]
     },
     "metadata": {},
     "output_type": "display_data"
    },
    {
     "data": {
      "application/vnd.jupyter.widget-view+json": {
       "model_id": "fc4f329948084944a074b28e15fe834c",
       "version_major": 2,
       "version_minor": 0
      },
      "text/plain": [
       "Iteration:   0%|          | 0/2404 [00:00<?, ?it/s]"
      ]
     },
     "metadata": {},
     "output_type": "display_data"
    },
    {
     "data": {
      "application/vnd.jupyter.widget-view+json": {
       "model_id": "ef12342690164aedae7a21085a21464f",
       "version_major": 2,
       "version_minor": 0
      },
      "text/plain": [
       "Batches:   0%|          | 0/277 [00:00<?, ?it/s]"
      ]
     },
     "metadata": {},
     "output_type": "display_data"
    },
    {
     "data": {
      "application/vnd.jupyter.widget-view+json": {
       "model_id": "f3eb96fe8b4f40fe84498b3286a14233",
       "version_major": 2,
       "version_minor": 0
      },
      "text/plain": [
       "Batches:   0%|          | 0/277 [00:00<?, ?it/s]"
      ]
     },
     "metadata": {},
     "output_type": "display_data"
    },
    {
     "data": {
      "application/vnd.jupyter.widget-view+json": {
       "model_id": "e2b399dd395944a799b1d5e4a202eb4f",
       "version_major": 2,
       "version_minor": 0
      },
      "text/plain": [
       "Batches:   0%|          | 0/277 [00:00<?, ?it/s]"
      ]
     },
     "metadata": {},
     "output_type": "display_data"
    },
    {
     "data": {
      "application/vnd.jupyter.widget-view+json": {
       "model_id": "7f913bee91a6420c99c4692a63fe0f40",
       "version_major": 2,
       "version_minor": 0
      },
      "text/plain": [
       "Batches:   0%|          | 0/277 [00:00<?, ?it/s]"
      ]
     },
     "metadata": {},
     "output_type": "display_data"
    },
    {
     "data": {
      "application/vnd.jupyter.widget-view+json": {
       "model_id": "04b6a56bd21e45f5a8aaca75fe3e64a1",
       "version_major": 2,
       "version_minor": 0
      },
      "text/plain": [
       "Batches:   0%|          | 0/277 [00:00<?, ?it/s]"
      ]
     },
     "metadata": {},
     "output_type": "display_data"
    },
    {
     "data": {
      "application/vnd.jupyter.widget-view+json": {
       "model_id": "d3ffcfb72d4a4d9aaca04b0fda1b30ba",
       "version_major": 2,
       "version_minor": 0
      },
      "text/plain": [
       "Batches:   0%|          | 0/277 [00:00<?, ?it/s]"
      ]
     },
     "metadata": {},
     "output_type": "display_data"
    },
    {
     "data": {
      "application/vnd.jupyter.widget-view+json": {
       "model_id": "0161509667854358b5dc1914306ebcca",
       "version_major": 2,
       "version_minor": 0
      },
      "text/plain": [
       "Iteration:   0%|          | 0/2404 [00:00<?, ?it/s]"
      ]
     },
     "metadata": {},
     "output_type": "display_data"
    },
    {
     "data": {
      "application/vnd.jupyter.widget-view+json": {
       "model_id": "a29a7544f61f4af69478c820abc0cf67",
       "version_major": 2,
       "version_minor": 0
      },
      "text/plain": [
       "Batches:   0%|          | 0/277 [00:00<?, ?it/s]"
      ]
     },
     "metadata": {},
     "output_type": "display_data"
    },
    {
     "data": {
      "application/vnd.jupyter.widget-view+json": {
       "model_id": "63616dcfa6ab46e088655de7ff36b70e",
       "version_major": 2,
       "version_minor": 0
      },
      "text/plain": [
       "Batches:   0%|          | 0/277 [00:00<?, ?it/s]"
      ]
     },
     "metadata": {},
     "output_type": "display_data"
    },
    {
     "data": {
      "application/vnd.jupyter.widget-view+json": {
       "model_id": "56839b6836914fcf9270404ef29967e9",
       "version_major": 2,
       "version_minor": 0
      },
      "text/plain": [
       "Batches:   0%|          | 0/277 [00:00<?, ?it/s]"
      ]
     },
     "metadata": {},
     "output_type": "display_data"
    },
    {
     "data": {
      "application/vnd.jupyter.widget-view+json": {
       "model_id": "3a5029acd45049b5b2b0f799cc7b3b1a",
       "version_major": 2,
       "version_minor": 0
      },
      "text/plain": [
       "Batches:   0%|          | 0/277 [00:00<?, ?it/s]"
      ]
     },
     "metadata": {},
     "output_type": "display_data"
    },
    {
     "data": {
      "application/vnd.jupyter.widget-view+json": {
       "model_id": "faafc9c5773e4122a3e322fb59c7bc57",
       "version_major": 2,
       "version_minor": 0
      },
      "text/plain": [
       "Batches:   0%|          | 0/277 [00:00<?, ?it/s]"
      ]
     },
     "metadata": {},
     "output_type": "display_data"
    },
    {
     "data": {
      "application/vnd.jupyter.widget-view+json": {
       "model_id": "9dd14234e49340faa7637e9653cabc2b",
       "version_major": 2,
       "version_minor": 0
      },
      "text/plain": [
       "Batches:   0%|          | 0/277 [00:00<?, ?it/s]"
      ]
     },
     "metadata": {},
     "output_type": "display_data"
    },
    {
     "data": {
      "application/vnd.jupyter.widget-view+json": {
       "model_id": "e8ee80cb828f48f6987e201747c27f75",
       "version_major": 2,
       "version_minor": 0
      },
      "text/plain": [
       "Iteration:   0%|          | 0/2404 [00:00<?, ?it/s]"
      ]
     },
     "metadata": {},
     "output_type": "display_data"
    },
    {
     "data": {
      "application/vnd.jupyter.widget-view+json": {
       "model_id": "99916a8bd1804a1c81a4c9154a244a60",
       "version_major": 2,
       "version_minor": 0
      },
      "text/plain": [
       "Batches:   0%|          | 0/277 [00:00<?, ?it/s]"
      ]
     },
     "metadata": {},
     "output_type": "display_data"
    },
    {
     "data": {
      "application/vnd.jupyter.widget-view+json": {
       "model_id": "92b7fc94f7af494596793eb8b81fdcec",
       "version_major": 2,
       "version_minor": 0
      },
      "text/plain": [
       "Batches:   0%|          | 0/277 [00:00<?, ?it/s]"
      ]
     },
     "metadata": {},
     "output_type": "display_data"
    },
    {
     "data": {
      "application/vnd.jupyter.widget-view+json": {
       "model_id": "2681fc32c8e8445ebb84ffdf40715221",
       "version_major": 2,
       "version_minor": 0
      },
      "text/plain": [
       "Batches:   0%|          | 0/277 [00:00<?, ?it/s]"
      ]
     },
     "metadata": {},
     "output_type": "display_data"
    },
    {
     "data": {
      "application/vnd.jupyter.widget-view+json": {
       "model_id": "d7f58ae7dc59497dbcf11d77745932e8",
       "version_major": 2,
       "version_minor": 0
      },
      "text/plain": [
       "Batches:   0%|          | 0/277 [00:00<?, ?it/s]"
      ]
     },
     "metadata": {},
     "output_type": "display_data"
    },
    {
     "data": {
      "application/vnd.jupyter.widget-view+json": {
       "model_id": "7d6036d78e3549ab816a80237ab0b542",
       "version_major": 2,
       "version_minor": 0
      },
      "text/plain": [
       "Batches:   0%|          | 0/277 [00:00<?, ?it/s]"
      ]
     },
     "metadata": {},
     "output_type": "display_data"
    },
    {
     "data": {
      "application/vnd.jupyter.widget-view+json": {
       "model_id": "a9601bf8db1842c685bb07aacaeb97cc",
       "version_major": 2,
       "version_minor": 0
      },
      "text/plain": [
       "Batches:   0%|          | 0/277 [00:00<?, ?it/s]"
      ]
     },
     "metadata": {},
     "output_type": "display_data"
    }
   ],
   "source": [
    "model.fit(\n",
    "    train_objectives=[(train_dl, train_loss)],\n",
    "    epochs=num_epochs,\n",
    "    evaluator=val_evaluator,\n",
    "    evaluation_steps=eval_steps,\n",
    "    \n",
    "    checkpoint_path=checkpoints_dp,\n",
    "    checkpoint_save_steps=eval_steps,\n",
    "    output_path=output_dp,\n",
    "    save_best_model=True,\n",
    "    \n",
    "    optimizer_params={'lr': 2e-5},\n",
    "    weight_decay= 0.01,\n",
    "    scheduler='WarmupLinear',\n",
    "    warmup_steps=warmup_steps,\n",
    "    use_amp=False,\n",
    "    \n",
    "#     steps_per_epoch=300,  # for debug\n",
    ")"
   ]
  },
  {
   "cell_type": "code",
   "execution_count": null,
   "id": "0be4d074",
   "metadata": {},
   "outputs": [],
   "source": []
  },
  {
   "cell_type": "markdown",
   "id": "daa4044f",
   "metadata": {},
   "source": [
    "### read val metrics"
   ]
  },
  {
   "cell_type": "code",
   "execution_count": 95,
   "id": "3ea9944a",
   "metadata": {},
   "outputs": [
    {
     "data": {
      "text/html": [
       "<div>\n",
       "<style scoped>\n",
       "    .dataframe tbody tr th:only-of-type {\n",
       "        vertical-align: middle;\n",
       "    }\n",
       "\n",
       "    .dataframe tbody tr th {\n",
       "        vertical-align: top;\n",
       "    }\n",
       "\n",
       "    .dataframe thead th {\n",
       "        text-align: right;\n",
       "    }\n",
       "</style>\n",
       "<table border=\"1\" class=\"dataframe\">\n",
       "  <thead>\n",
       "    <tr style=\"text-align: right;\">\n",
       "      <th></th>\n",
       "      <th>epoch</th>\n",
       "      <th>steps_epoch_raw</th>\n",
       "      <th>f1_threshold</th>\n",
       "      <th>f1</th>\n",
       "      <th>precision</th>\n",
       "      <th>recall</th>\n",
       "      <th>accuracy</th>\n",
       "      <th>ap</th>\n",
       "      <th>steps_epoch</th>\n",
       "      <th>steps</th>\n",
       "    </tr>\n",
       "  </thead>\n",
       "  <tbody>\n",
       "    <tr>\n",
       "      <th>0</th>\n",
       "      <td>0</td>\n",
       "      <td>480</td>\n",
       "      <td>0.381776</td>\n",
       "      <td>0.957860</td>\n",
       "      <td>0.966697</td>\n",
       "      <td>0.949183</td>\n",
       "      <td>0.958241</td>\n",
       "      <td>0.991282</td>\n",
       "      <td>480</td>\n",
       "      <td>480</td>\n",
       "    </tr>\n",
       "    <tr>\n",
       "      <th>1</th>\n",
       "      <td>0</td>\n",
       "      <td>960</td>\n",
       "      <td>0.336423</td>\n",
       "      <td>0.970414</td>\n",
       "      <td>0.974595</td>\n",
       "      <td>0.966269</td>\n",
       "      <td>0.970541</td>\n",
       "      <td>0.995059</td>\n",
       "      <td>960</td>\n",
       "      <td>960</td>\n",
       "    </tr>\n",
       "    <tr>\n",
       "      <th>2</th>\n",
       "      <td>0</td>\n",
       "      <td>1440</td>\n",
       "      <td>0.314055</td>\n",
       "      <td>0.971833</td>\n",
       "      <td>0.972981</td>\n",
       "      <td>0.970688</td>\n",
       "      <td>0.971866</td>\n",
       "      <td>0.995643</td>\n",
       "      <td>1440</td>\n",
       "      <td>1440</td>\n",
       "    </tr>\n",
       "    <tr>\n",
       "      <th>3</th>\n",
       "      <td>0</td>\n",
       "      <td>1920</td>\n",
       "      <td>0.296106</td>\n",
       "      <td>0.974109</td>\n",
       "      <td>0.975621</td>\n",
       "      <td>0.972603</td>\n",
       "      <td>0.974149</td>\n",
       "      <td>0.995784</td>\n",
       "      <td>1920</td>\n",
       "      <td>1920</td>\n",
       "    </tr>\n",
       "    <tr>\n",
       "      <th>4</th>\n",
       "      <td>0</td>\n",
       "      <td>2400</td>\n",
       "      <td>0.306701</td>\n",
       "      <td>0.974021</td>\n",
       "      <td>0.978875</td>\n",
       "      <td>0.969215</td>\n",
       "      <td>0.974149</td>\n",
       "      <td>0.996078</td>\n",
       "      <td>2400</td>\n",
       "      <td>2400</td>\n",
       "    </tr>\n",
       "    <tr>\n",
       "      <th>5</th>\n",
       "      <td>0</td>\n",
       "      <td>-1</td>\n",
       "      <td>0.305364</td>\n",
       "      <td>0.973717</td>\n",
       "      <td>0.978863</td>\n",
       "      <td>0.968626</td>\n",
       "      <td>0.973855</td>\n",
       "      <td>0.996044</td>\n",
       "      <td>2404</td>\n",
       "      <td>2404</td>\n",
       "    </tr>\n",
       "    <tr>\n",
       "      <th>6</th>\n",
       "      <td>1</td>\n",
       "      <td>480</td>\n",
       "      <td>0.301013</td>\n",
       "      <td>0.975646</td>\n",
       "      <td>0.980655</td>\n",
       "      <td>0.970688</td>\n",
       "      <td>0.975770</td>\n",
       "      <td>0.996214</td>\n",
       "      <td>480</td>\n",
       "      <td>2884</td>\n",
       "    </tr>\n",
       "    <tr>\n",
       "      <th>7</th>\n",
       "      <td>1</td>\n",
       "      <td>960</td>\n",
       "      <td>0.275420</td>\n",
       "      <td>0.975368</td>\n",
       "      <td>0.979643</td>\n",
       "      <td>0.971130</td>\n",
       "      <td>0.975475</td>\n",
       "      <td>0.996194</td>\n",
       "      <td>960</td>\n",
       "      <td>3364</td>\n",
       "    </tr>\n",
       "    <tr>\n",
       "      <th>8</th>\n",
       "      <td>1</td>\n",
       "      <td>1440</td>\n",
       "      <td>0.289259</td>\n",
       "      <td>0.977515</td>\n",
       "      <td>0.981726</td>\n",
       "      <td>0.973339</td>\n",
       "      <td>0.977611</td>\n",
       "      <td>0.996546</td>\n",
       "      <td>1440</td>\n",
       "      <td>3844</td>\n",
       "    </tr>\n",
       "    <tr>\n",
       "      <th>9</th>\n",
       "      <td>1</td>\n",
       "      <td>1920</td>\n",
       "      <td>0.267868</td>\n",
       "      <td>0.976799</td>\n",
       "      <td>0.976871</td>\n",
       "      <td>0.976727</td>\n",
       "      <td>0.976801</td>\n",
       "      <td>0.996304</td>\n",
       "      <td>1920</td>\n",
       "      <td>4324</td>\n",
       "    </tr>\n",
       "    <tr>\n",
       "      <th>10</th>\n",
       "      <td>1</td>\n",
       "      <td>2400</td>\n",
       "      <td>0.286725</td>\n",
       "      <td>0.977978</td>\n",
       "      <td>0.981314</td>\n",
       "      <td>0.974665</td>\n",
       "      <td>0.978053</td>\n",
       "      <td>0.996452</td>\n",
       "      <td>2400</td>\n",
       "      <td>4804</td>\n",
       "    </tr>\n",
       "    <tr>\n",
       "      <th>11</th>\n",
       "      <td>1</td>\n",
       "      <td>-1</td>\n",
       "      <td>0.285694</td>\n",
       "      <td>0.977985</td>\n",
       "      <td>0.981029</td>\n",
       "      <td>0.974959</td>\n",
       "      <td>0.978053</td>\n",
       "      <td>0.996456</td>\n",
       "      <td>2404</td>\n",
       "      <td>4808</td>\n",
       "    </tr>\n",
       "    <tr>\n",
       "      <th>12</th>\n",
       "      <td>2</td>\n",
       "      <td>480</td>\n",
       "      <td>0.267604</td>\n",
       "      <td>0.978201</td>\n",
       "      <td>0.981465</td>\n",
       "      <td>0.974959</td>\n",
       "      <td>0.978274</td>\n",
       "      <td>0.996395</td>\n",
       "      <td>480</td>\n",
       "      <td>5288</td>\n",
       "    </tr>\n",
       "    <tr>\n",
       "      <th>13</th>\n",
       "      <td>2</td>\n",
       "      <td>960</td>\n",
       "      <td>0.253985</td>\n",
       "      <td>0.976380</td>\n",
       "      <td>0.978547</td>\n",
       "      <td>0.974223</td>\n",
       "      <td>0.976432</td>\n",
       "      <td>0.996211</td>\n",
       "      <td>960</td>\n",
       "      <td>5768</td>\n",
       "    </tr>\n",
       "    <tr>\n",
       "      <th>14</th>\n",
       "      <td>2</td>\n",
       "      <td>1440</td>\n",
       "      <td>0.254104</td>\n",
       "      <td>0.977080</td>\n",
       "      <td>0.977729</td>\n",
       "      <td>0.976432</td>\n",
       "      <td>0.977095</td>\n",
       "      <td>0.996359</td>\n",
       "      <td>1440</td>\n",
       "      <td>6248</td>\n",
       "    </tr>\n",
       "    <tr>\n",
       "      <th>15</th>\n",
       "      <td>2</td>\n",
       "      <td>1920</td>\n",
       "      <td>0.271051</td>\n",
       "      <td>0.977867</td>\n",
       "      <td>0.982887</td>\n",
       "      <td>0.972897</td>\n",
       "      <td>0.977979</td>\n",
       "      <td>0.996313</td>\n",
       "      <td>1920</td>\n",
       "      <td>6728</td>\n",
       "    </tr>\n",
       "    <tr>\n",
       "      <th>16</th>\n",
       "      <td>2</td>\n",
       "      <td>2400</td>\n",
       "      <td>0.279679</td>\n",
       "      <td>0.978657</td>\n",
       "      <td>0.984787</td>\n",
       "      <td>0.972603</td>\n",
       "      <td>0.978789</td>\n",
       "      <td>0.996412</td>\n",
       "      <td>2400</td>\n",
       "      <td>7208</td>\n",
       "    </tr>\n",
       "    <tr>\n",
       "      <th>17</th>\n",
       "      <td>2</td>\n",
       "      <td>-1</td>\n",
       "      <td>0.279577</td>\n",
       "      <td>0.978660</td>\n",
       "      <td>0.984643</td>\n",
       "      <td>0.972750</td>\n",
       "      <td>0.978789</td>\n",
       "      <td>0.996402</td>\n",
       "      <td>2404</td>\n",
       "      <td>7212</td>\n",
       "    </tr>\n",
       "    <tr>\n",
       "      <th>18</th>\n",
       "      <td>3</td>\n",
       "      <td>480</td>\n",
       "      <td>0.275769</td>\n",
       "      <td>0.978559</td>\n",
       "      <td>0.985800</td>\n",
       "      <td>0.971424</td>\n",
       "      <td>0.978716</td>\n",
       "      <td>0.996407</td>\n",
       "      <td>480</td>\n",
       "      <td>7692</td>\n",
       "    </tr>\n",
       "    <tr>\n",
       "      <th>19</th>\n",
       "      <td>3</td>\n",
       "      <td>960</td>\n",
       "      <td>0.267420</td>\n",
       "      <td>0.977926</td>\n",
       "      <td>0.983609</td>\n",
       "      <td>0.972308</td>\n",
       "      <td>0.978053</td>\n",
       "      <td>0.996281</td>\n",
       "      <td>960</td>\n",
       "      <td>8172</td>\n",
       "    </tr>\n",
       "    <tr>\n",
       "      <th>20</th>\n",
       "      <td>3</td>\n",
       "      <td>1440</td>\n",
       "      <td>0.253408</td>\n",
       "      <td>0.978491</td>\n",
       "      <td>0.982047</td>\n",
       "      <td>0.974959</td>\n",
       "      <td>0.978568</td>\n",
       "      <td>0.996354</td>\n",
       "      <td>1440</td>\n",
       "      <td>8652</td>\n",
       "    </tr>\n",
       "    <tr>\n",
       "      <th>21</th>\n",
       "      <td>3</td>\n",
       "      <td>1920</td>\n",
       "      <td>0.249773</td>\n",
       "      <td>0.978237</td>\n",
       "      <td>0.979899</td>\n",
       "      <td>0.976580</td>\n",
       "      <td>0.978274</td>\n",
       "      <td>0.996338</td>\n",
       "      <td>1920</td>\n",
       "      <td>9132</td>\n",
       "    </tr>\n",
       "    <tr>\n",
       "      <th>22</th>\n",
       "      <td>3</td>\n",
       "      <td>2400</td>\n",
       "      <td>0.257987</td>\n",
       "      <td>0.978021</td>\n",
       "      <td>0.982748</td>\n",
       "      <td>0.973339</td>\n",
       "      <td>0.978126</td>\n",
       "      <td>0.996403</td>\n",
       "      <td>2400</td>\n",
       "      <td>9612</td>\n",
       "    </tr>\n",
       "    <tr>\n",
       "      <th>23</th>\n",
       "      <td>3</td>\n",
       "      <td>-1</td>\n",
       "      <td>0.272856</td>\n",
       "      <td>0.977979</td>\n",
       "      <td>0.984622</td>\n",
       "      <td>0.971424</td>\n",
       "      <td>0.978126</td>\n",
       "      <td>0.996398</td>\n",
       "      <td>2404</td>\n",
       "      <td>9616</td>\n",
       "    </tr>\n",
       "    <tr>\n",
       "      <th>24</th>\n",
       "      <td>4</td>\n",
       "      <td>480</td>\n",
       "      <td>0.256537</td>\n",
       "      <td>0.977712</td>\n",
       "      <td>0.983026</td>\n",
       "      <td>0.972455</td>\n",
       "      <td>0.977832</td>\n",
       "      <td>0.996240</td>\n",
       "      <td>480</td>\n",
       "      <td>10096</td>\n",
       "    </tr>\n",
       "    <tr>\n",
       "      <th>25</th>\n",
       "      <td>4</td>\n",
       "      <td>960</td>\n",
       "      <td>0.255499</td>\n",
       "      <td>0.977876</td>\n",
       "      <td>0.982456</td>\n",
       "      <td>0.973339</td>\n",
       "      <td>0.977979</td>\n",
       "      <td>0.996301</td>\n",
       "      <td>960</td>\n",
       "      <td>10576</td>\n",
       "    </tr>\n",
       "    <tr>\n",
       "      <th>26</th>\n",
       "      <td>4</td>\n",
       "      <td>1440</td>\n",
       "      <td>0.250081</td>\n",
       "      <td>0.978192</td>\n",
       "      <td>0.981894</td>\n",
       "      <td>0.974518</td>\n",
       "      <td>0.978274</td>\n",
       "      <td>0.996396</td>\n",
       "      <td>1440</td>\n",
       "      <td>11056</td>\n",
       "    </tr>\n",
       "    <tr>\n",
       "      <th>27</th>\n",
       "      <td>4</td>\n",
       "      <td>1920</td>\n",
       "      <td>0.247936</td>\n",
       "      <td>0.978267</td>\n",
       "      <td>0.981896</td>\n",
       "      <td>0.974665</td>\n",
       "      <td>0.978347</td>\n",
       "      <td>0.996357</td>\n",
       "      <td>1920</td>\n",
       "      <td>11536</td>\n",
       "    </tr>\n",
       "    <tr>\n",
       "      <th>28</th>\n",
       "      <td>4</td>\n",
       "      <td>2400</td>\n",
       "      <td>0.253777</td>\n",
       "      <td>0.978396</td>\n",
       "      <td>0.982905</td>\n",
       "      <td>0.973928</td>\n",
       "      <td>0.978495</td>\n",
       "      <td>0.996370</td>\n",
       "      <td>2400</td>\n",
       "      <td>12016</td>\n",
       "    </tr>\n",
       "    <tr>\n",
       "      <th>29</th>\n",
       "      <td>4</td>\n",
       "      <td>-1</td>\n",
       "      <td>0.253778</td>\n",
       "      <td>0.978396</td>\n",
       "      <td>0.982905</td>\n",
       "      <td>0.973928</td>\n",
       "      <td>0.978495</td>\n",
       "      <td>0.996370</td>\n",
       "      <td>2404</td>\n",
       "      <td>12020</td>\n",
       "    </tr>\n",
       "  </tbody>\n",
       "</table>\n",
       "</div>"
      ],
      "text/plain": [
       "    epoch  steps_epoch_raw  f1_threshold        f1  precision    recall  \\\n",
       "0       0              480      0.381776  0.957860   0.966697  0.949183   \n",
       "1       0              960      0.336423  0.970414   0.974595  0.966269   \n",
       "2       0             1440      0.314055  0.971833   0.972981  0.970688   \n",
       "3       0             1920      0.296106  0.974109   0.975621  0.972603   \n",
       "4       0             2400      0.306701  0.974021   0.978875  0.969215   \n",
       "5       0               -1      0.305364  0.973717   0.978863  0.968626   \n",
       "6       1              480      0.301013  0.975646   0.980655  0.970688   \n",
       "7       1              960      0.275420  0.975368   0.979643  0.971130   \n",
       "8       1             1440      0.289259  0.977515   0.981726  0.973339   \n",
       "9       1             1920      0.267868  0.976799   0.976871  0.976727   \n",
       "10      1             2400      0.286725  0.977978   0.981314  0.974665   \n",
       "11      1               -1      0.285694  0.977985   0.981029  0.974959   \n",
       "12      2              480      0.267604  0.978201   0.981465  0.974959   \n",
       "13      2              960      0.253985  0.976380   0.978547  0.974223   \n",
       "14      2             1440      0.254104  0.977080   0.977729  0.976432   \n",
       "15      2             1920      0.271051  0.977867   0.982887  0.972897   \n",
       "16      2             2400      0.279679  0.978657   0.984787  0.972603   \n",
       "17      2               -1      0.279577  0.978660   0.984643  0.972750   \n",
       "18      3              480      0.275769  0.978559   0.985800  0.971424   \n",
       "19      3              960      0.267420  0.977926   0.983609  0.972308   \n",
       "20      3             1440      0.253408  0.978491   0.982047  0.974959   \n",
       "21      3             1920      0.249773  0.978237   0.979899  0.976580   \n",
       "22      3             2400      0.257987  0.978021   0.982748  0.973339   \n",
       "23      3               -1      0.272856  0.977979   0.984622  0.971424   \n",
       "24      4              480      0.256537  0.977712   0.983026  0.972455   \n",
       "25      4              960      0.255499  0.977876   0.982456  0.973339   \n",
       "26      4             1440      0.250081  0.978192   0.981894  0.974518   \n",
       "27      4             1920      0.247936  0.978267   0.981896  0.974665   \n",
       "28      4             2400      0.253777  0.978396   0.982905  0.973928   \n",
       "29      4               -1      0.253778  0.978396   0.982905  0.973928   \n",
       "\n",
       "    accuracy        ap  steps_epoch  steps  \n",
       "0   0.958241  0.991282          480    480  \n",
       "1   0.970541  0.995059          960    960  \n",
       "2   0.971866  0.995643         1440   1440  \n",
       "3   0.974149  0.995784         1920   1920  \n",
       "4   0.974149  0.996078         2400   2400  \n",
       "5   0.973855  0.996044         2404   2404  \n",
       "6   0.975770  0.996214          480   2884  \n",
       "7   0.975475  0.996194          960   3364  \n",
       "8   0.977611  0.996546         1440   3844  \n",
       "9   0.976801  0.996304         1920   4324  \n",
       "10  0.978053  0.996452         2400   4804  \n",
       "11  0.978053  0.996456         2404   4808  \n",
       "12  0.978274  0.996395          480   5288  \n",
       "13  0.976432  0.996211          960   5768  \n",
       "14  0.977095  0.996359         1440   6248  \n",
       "15  0.977979  0.996313         1920   6728  \n",
       "16  0.978789  0.996412         2400   7208  \n",
       "17  0.978789  0.996402         2404   7212  \n",
       "18  0.978716  0.996407          480   7692  \n",
       "19  0.978053  0.996281          960   8172  \n",
       "20  0.978568  0.996354         1440   8652  \n",
       "21  0.978274  0.996338         1920   9132  \n",
       "22  0.978126  0.996403         2400   9612  \n",
       "23  0.978126  0.996398         2404   9616  \n",
       "24  0.977832  0.996240          480  10096  \n",
       "25  0.977979  0.996301          960  10576  \n",
       "26  0.978274  0.996396         1440  11056  \n",
       "27  0.978347  0.996357         1920  11536  \n",
       "28  0.978495  0.996370         2400  12016  \n",
       "29  0.978495  0.996370         2404  12020  "
      ]
     },
     "execution_count": 95,
     "metadata": {},
     "output_type": "execute_result"
    }
   ],
   "source": [
    "val_metrics = pd.read_csv(os.path.join(output_dp, 'eval', 'validation_evaluator_results.csv'))\n",
    "\n",
    "train_dl_len = 2404\n",
    "val_metrics.rename(columns={'steps': 'steps_epoch_raw'}, inplace=True)\n",
    "val_metrics['steps_epoch'] = val_metrics['steps_epoch_raw'].where(\n",
    "    val_metrics['steps_epoch_raw'] != -1, train_dl_len)\n",
    "val_metrics['steps'] = (val_metrics['epoch'] * train_dl_len) + val_metrics['steps_epoch']\n",
    "val_metrics"
   ]
  },
  {
   "cell_type": "code",
   "execution_count": 96,
   "id": "89eb9df3",
   "metadata": {},
   "outputs": [
    {
     "data": {
      "text/html": [
       "<div>\n",
       "<style scoped>\n",
       "    .dataframe tbody tr th:only-of-type {\n",
       "        vertical-align: middle;\n",
       "    }\n",
       "\n",
       "    .dataframe tbody tr th {\n",
       "        vertical-align: top;\n",
       "    }\n",
       "\n",
       "    .dataframe thead th {\n",
       "        text-align: right;\n",
       "    }\n",
       "</style>\n",
       "<table border=\"1\" class=\"dataframe\">\n",
       "  <thead>\n",
       "    <tr style=\"text-align: right;\">\n",
       "      <th></th>\n",
       "      <th>epoch</th>\n",
       "      <th>steps_epoch_raw</th>\n",
       "      <th>f1_threshold</th>\n",
       "      <th>f1</th>\n",
       "      <th>precision</th>\n",
       "      <th>recall</th>\n",
       "      <th>accuracy</th>\n",
       "      <th>ap</th>\n",
       "      <th>steps_epoch</th>\n",
       "      <th>steps</th>\n",
       "    </tr>\n",
       "  </thead>\n",
       "  <tbody>\n",
       "    <tr>\n",
       "      <th>17</th>\n",
       "      <td>2</td>\n",
       "      <td>-1</td>\n",
       "      <td>0.279577</td>\n",
       "      <td>0.97866</td>\n",
       "      <td>0.984643</td>\n",
       "      <td>0.97275</td>\n",
       "      <td>0.978789</td>\n",
       "      <td>0.996402</td>\n",
       "      <td>2404</td>\n",
       "      <td>7212</td>\n",
       "    </tr>\n",
       "  </tbody>\n",
       "</table>\n",
       "</div>"
      ],
      "text/plain": [
       "    epoch  steps_epoch_raw  f1_threshold       f1  precision   recall  \\\n",
       "17      2               -1      0.279577  0.97866   0.984643  0.97275   \n",
       "\n",
       "    accuracy        ap  steps_epoch  steps  \n",
       "17  0.978789  0.996402         2404   7212  "
      ]
     },
     "execution_count": 96,
     "metadata": {},
     "output_type": "execute_result"
    }
   ],
   "source": [
    "best_val_stats = val_metrics.loc[[val_metrics['f1'].idxmax()]]\n",
    "best_val_stats"
   ]
  },
  {
   "cell_type": "code",
   "execution_count": 97,
   "id": "f81bdf8f",
   "metadata": {},
   "outputs": [
    {
     "data": {
      "image/png": "[encoded data removed]",
      "text/plain": [
       "<Figure size 1650x1100 with 4 Axes>"
      ]
     },
     "metadata": {},
     "output_type": "display_data"
    }
   ],
   "source": [
    "fig, ax = plt.subplots(2, 2, figsize=(15, 10), sharex=True, sharey=True, dpi=110)\n",
    "cols = ['precision', 'recall', 'f1', 'accuracy']\n",
    "for a, col in zip(ax.flatten(), cols):\n",
    "    a.plot(val_metrics['steps'], val_metrics[col], 'o-');\n",
    "    best_iteration_val = best_val_stats[col].iloc[0]\n",
    "    a.axvline(best_val_stats['steps'].iloc[0], c='magenta', alpha=0.5, \n",
    "              label=f'best iteration. {col}: {best_iteration_val :.3f}')\n",
    "    a.legend(loc='lower right');\n",
    "    a.set_title(col)\n",
    "    a.set_xlabel('steps');\n",
    "fig.suptitle('validation metrices');"
   ]
  },
  {
   "cell_type": "code",
   "execution_count": null,
   "id": "071b82fc",
   "metadata": {},
   "outputs": [],
   "source": []
  },
  {
   "cell_type": "code",
   "execution_count": null,
   "id": "9f94c299",
   "metadata": {},
   "outputs": [],
   "source": []
  },
  {
   "cell_type": "markdown",
   "id": "11c648c8",
   "metadata": {},
   "source": [
    "### predict with best model\n",
    "* sbert has 2 different counters: `training_steps` and `global_step`.\n",
    "  they are counted differntly and are used for model evaluation and save respectively.\n",
    "  that's why val metrics were reported for model states different than those saved to disk.\n",
    "  \n",
    "  for simplicity load best model here not from checkpoints but from dir with best model. \n",
    "  \n",
    "  best model was selected by `f1` score in evaluator."
   ]
  },
  {
   "cell_type": "code",
   "execution_count": 12,
   "id": "30af4022",
   "metadata": {},
   "outputs": [
    {
     "name": "stdout",
     "output_type": "stream",
     "text": [
      "loading from: \"/media/rtn/data/fajly2/nn/bert/siam/output\"\n"
     ]
    }
   ],
   "source": [
    "output_dp = '/media/rtn/data/fajly2/nn/bert/siam/output'\n",
    "print(f'loading from: \"{output_dp}\"')\n",
    "model = st.SentenceTransformer(output_dp)\n",
    "model.to(device);"
   ]
  },
  {
   "cell_type": "code",
   "execution_count": null,
   "id": "fa87375f",
   "metadata": {},
   "outputs": [],
   "source": []
  },
  {
   "cell_type": "code",
   "execution_count": null,
   "id": "aa374c15",
   "metadata": {},
   "outputs": [],
   "source": []
  },
  {
   "cell_type": "markdown",
   "id": "0c8efce1",
   "metadata": {},
   "source": [
    "#### generate embeddings beforehand for articles present in predictions"
   ]
  },
  {
   "cell_type": "code",
   "execution_count": 13,
   "id": "e26c561d",
   "metadata": {},
   "outputs": [
    {
     "name": "stdout",
     "output_type": "stream",
     "text": [
      "3606\n"
     ]
    }
   ],
   "source": [
    "bm25_preds_titles_u = bm25_preds_df['title'].unique().tolist()\n",
    "print(len(bm25_preds_titles_u))"
   ]
  },
  {
   "cell_type": "code",
   "execution_count": 14,
   "id": "d0a8e66d",
   "metadata": {},
   "outputs": [
    {
     "data": {
      "application/vnd.jupyter.widget-view+json": {
       "model_id": "96450ab3e6504a80ae88c24eb8c7cb2c",
       "version_major": 2,
       "version_minor": 0
      },
      "text/plain": [
       "  0%|          | 0/3606 [00:00<?, ?it/s]"
      ]
     },
     "metadata": {},
     "output_type": "display_data"
    }
   ],
   "source": [
    "# load all aricles for evaluation beforehand\n",
    "bm25_preds_articles = []\n",
    "for title in tqdm(bm25_preds_titles_u):\n",
    "    bm25_preds_articles.append(get_article_text(get_article_path(title, filemap)))"
   ]
  },
  {
   "cell_type": "code",
   "execution_count": 15,
   "id": "70e677b1",
   "metadata": {},
   "outputs": [
    {
     "data": {
      "application/vnd.jupyter.widget-view+json": {
       "model_id": "08d60728f3ae489aa464ab622762fee1",
       "version_major": 2,
       "version_minor": 0
      },
      "text/plain": [
       "Batches:   0%|          | 0/29 [00:00<?, ?it/s]"
      ]
     },
     "metadata": {},
     "output_type": "display_data"
    },
    {
     "name": "stdout",
     "output_type": "stream",
     "text": [
      "torch.Size([3606, 768])\n"
     ]
    }
   ],
   "source": [
    "bm25_preds_articles_embeddings = model.encode(\n",
    "    sentences=bm25_preds_articles,\n",
    "    batch_size=128,\n",
    "    show_progress_bar=True,\n",
    "    convert_to_tensor=True,\n",
    "    normalize_embeddings=True,\n",
    ")\n",
    "print(bm25_preds_articles_embeddings.shape)"
   ]
  },
  {
   "cell_type": "code",
   "execution_count": 16,
   "id": "2d16a58e",
   "metadata": {},
   "outputs": [],
   "source": [
    "title2emb = {title: emb for (title, emb) in zip(bm25_preds_titles_u, bm25_preds_articles_embeddings)}"
   ]
  },
  {
   "cell_type": "code",
   "execution_count": null,
   "id": "a3c8a101",
   "metadata": {},
   "outputs": [],
   "source": []
  },
  {
   "cell_type": "markdown",
   "id": "5d06bfe8",
   "metadata": {},
   "source": [
    "#### generate predictions"
   ]
  },
  {
   "cell_type": "code",
   "execution_count": 17,
   "id": "2a12947e",
   "metadata": {},
   "outputs": [],
   "source": [
    "def rerank_bm25_preds_using_siam_model(model, bm25_preds_df: pd.DataFrame, title2emb: dict):\n",
    "    assert bm25_preds_df.duplicated(['query', 'title']).sum() == 0\n",
    "    assert bm25_preds_df.duplicated(['query', 'pred_ix']).sum() == 0\n",
    "\n",
    "    bm25_queries = bm25_preds_df['query'].unique().tolist()\n",
    "    res = []\n",
    "    \n",
    "    time_start = time.time()\n",
    "    for q in tqdm(bm25_queries):\n",
    "        query_embedding = model.encode(\n",
    "            sentences=q,\n",
    "            show_progress_bar=False,\n",
    "            convert_to_tensor=True,\n",
    "            normalize_embeddings=True,\n",
    "        )\n",
    "\n",
    "        q_df = bm25_preds_df.query('query == @q').sort_values('pred_ix')\n",
    "        q_titles = q_df['title'].tolist()\n",
    "        q_articles = torch.stack([title2emb[title] for title in q_titles])\n",
    "\n",
    "        similarities = st.util.dot_score(query_embedding, q_articles)\n",
    "        similarities = similarities.squeeze().cpu().numpy().tolist()\n",
    "        \n",
    "        res.append({\n",
    "            'query': q, 'pred_ix_orig': q_df['pred_ix'].tolist(),\n",
    "            'titles': q_titles, 'similarities': similarities\n",
    "        })    \n",
    "    time_end = time.time()\n",
    "    \n",
    "    print(f'elapsed time: {time_end - time_start :.3f} seconds')\n",
    "    return res"
   ]
  },
  {
   "cell_type": "code",
   "execution_count": 18,
   "id": "b37b517a",
   "metadata": {},
   "outputs": [
    {
     "data": {
      "application/vnd.jupyter.widget-view+json": {
       "model_id": "e67222ab5747411ba24eb03fe054def7",
       "version_major": 2,
       "version_minor": 0
      },
      "text/plain": [
       "  0%|          | 0/194 [00:00<?, ?it/s]"
      ]
     },
     "metadata": {},
     "output_type": "display_data"
    },
    {
     "name": "stdout",
     "output_type": "stream",
     "text": [
      "elapsed time: 1.519 seconds\n"
     ]
    }
   ],
   "source": [
    "siam_scores = rerank_bm25_preds_using_siam_model(model, bm25_preds_df, title2emb)"
   ]
  },
  {
   "cell_type": "code",
   "execution_count": 19,
   "id": "6fd74650",
   "metadata": {},
   "outputs": [
    {
     "name": "stdout",
     "output_type": "stream",
     "text": [
      "shape: (9700, 5)\n",
      "# unique queries: 194\n",
      "# unique titles: 3606\n"
     ]
    }
   ],
   "source": [
    "siam_scores = [\n",
    "    {\n",
    "        'query': record['query'], \n",
    "        'pred_ix_orig': pred_ix_orig,\n",
    "        'title': title,\n",
    "        'siam_score': sim\n",
    "    }\n",
    "    for record in siam_scores\n",
    "    for pred_ix_orig, title, sim in zip(\n",
    "        record['pred_ix_orig'],\n",
    "        record['titles'],\n",
    "        record['similarities'],        \n",
    "    )\n",
    "]\n",
    "siam_scores = pd.DataFrame(siam_scores)\n",
    "siam_scores = siam_scores.sort_values(['query', 'siam_score'], ascending=[True, False]).reset_index(drop=True)\n",
    "siam_scores['pred_ix'] = siam_scores.groupby('query').cumcount()\n",
    "\n",
    "assert all(siam_scores.groupby('query').size() == 50)\n",
    "\n",
    "print(f'shape: {siam_scores.shape}')\n",
    "print(f'# unique queries: {siam_scores[\"query\"].nunique()}')\n",
    "print(f'# unique titles: {siam_scores[\"title\"].nunique()}')"
   ]
  },
  {
   "cell_type": "code",
   "execution_count": 20,
   "id": "7a3ca4f2",
   "metadata": {},
   "outputs": [
    {
     "data": {
      "text/html": [
       "<div>\n",
       "<style scoped>\n",
       "    .dataframe tbody tr th:only-of-type {\n",
       "        vertical-align: middle;\n",
       "    }\n",
       "\n",
       "    .dataframe tbody tr th {\n",
       "        vertical-align: top;\n",
       "    }\n",
       "\n",
       "    .dataframe thead th {\n",
       "        text-align: right;\n",
       "    }\n",
       "</style>\n",
       "<table border=\"1\" class=\"dataframe\">\n",
       "  <thead>\n",
       "    <tr style=\"text-align: right;\">\n",
       "      <th></th>\n",
       "      <th>query</th>\n",
       "      <th>pred_ix_orig</th>\n",
       "      <th>title</th>\n",
       "      <th>siam_score</th>\n",
       "      <th>pred_ix</th>\n",
       "    </tr>\n",
       "  </thead>\n",
       "  <tbody>\n",
       "    <tr>\n",
       "      <th>0</th>\n",
       "      <td>a group of connected cells that have a similar...</td>\n",
       "      <td>9</td>\n",
       "      <td>multicellular_organism</td>\n",
       "      <td>0.672455</td>\n",
       "      <td>0</td>\n",
       "    </tr>\n",
       "    <tr>\n",
       "      <th>1</th>\n",
       "      <td>a group of connected cells that have a similar...</td>\n",
       "      <td>1</td>\n",
       "      <td>cilia</td>\n",
       "      <td>0.622709</td>\n",
       "      <td>1</td>\n",
       "    </tr>\n",
       "    <tr>\n",
       "      <th>2</th>\n",
       "      <td>a group of connected cells that have a similar...</td>\n",
       "      <td>29</td>\n",
       "      <td>plastid</td>\n",
       "      <td>0.587674</td>\n",
       "      <td>2</td>\n",
       "    </tr>\n",
       "    <tr>\n",
       "      <th>3</th>\n",
       "      <td>a group of connected cells that have a similar...</td>\n",
       "      <td>0</td>\n",
       "      <td>brain_cell</td>\n",
       "      <td>0.576416</td>\n",
       "      <td>3</td>\n",
       "    </tr>\n",
       "    <tr>\n",
       "      <th>4</th>\n",
       "      <td>a group of connected cells that have a similar...</td>\n",
       "      <td>40</td>\n",
       "      <td>palisade_cell</td>\n",
       "      <td>0.553957</td>\n",
       "      <td>4</td>\n",
       "    </tr>\n",
       "    <tr>\n",
       "      <th>...</th>\n",
       "      <td>...</td>\n",
       "      <td>...</td>\n",
       "      <td>...</td>\n",
       "      <td>...</td>\n",
       "      <td>...</td>\n",
       "    </tr>\n",
       "    <tr>\n",
       "      <th>9695</th>\n",
       "      <td>write three names of polysaccharides and their...</td>\n",
       "      <td>41</td>\n",
       "      <td>vascular_dementia</td>\n",
       "      <td>0.080380</td>\n",
       "      <td>45</td>\n",
       "    </tr>\n",
       "    <tr>\n",
       "      <th>9696</th>\n",
       "      <td>write three names of polysaccharides and their...</td>\n",
       "      <td>45</td>\n",
       "      <td>wavelet</td>\n",
       "      <td>0.076583</td>\n",
       "      <td>46</td>\n",
       "    </tr>\n",
       "    <tr>\n",
       "      <th>9697</th>\n",
       "      <td>write three names of polysaccharides and their...</td>\n",
       "      <td>33</td>\n",
       "      <td>chinese_place_names</td>\n",
       "      <td>0.070567</td>\n",
       "      <td>47</td>\n",
       "    </tr>\n",
       "    <tr>\n",
       "      <th>9698</th>\n",
       "      <td>write three names of polysaccharides and their...</td>\n",
       "      <td>42</td>\n",
       "      <td>names_of_god_in_judaism</td>\n",
       "      <td>0.035068</td>\n",
       "      <td>48</td>\n",
       "    </tr>\n",
       "    <tr>\n",
       "      <th>9699</th>\n",
       "      <td>write three names of polysaccharides and their...</td>\n",
       "      <td>10</td>\n",
       "      <td>sino_korean_vocabulary</td>\n",
       "      <td>0.011060</td>\n",
       "      <td>49</td>\n",
       "    </tr>\n",
       "  </tbody>\n",
       "</table>\n",
       "<p>9700 rows × 5 columns</p>\n",
       "</div>"
      ],
      "text/plain": [
       "                                                  query  pred_ix_orig  \\\n",
       "0     a group of connected cells that have a similar...             9   \n",
       "1     a group of connected cells that have a similar...             1   \n",
       "2     a group of connected cells that have a similar...            29   \n",
       "3     a group of connected cells that have a similar...             0   \n",
       "4     a group of connected cells that have a similar...            40   \n",
       "...                                                 ...           ...   \n",
       "9695  write three names of polysaccharides and their...            41   \n",
       "9696  write three names of polysaccharides and their...            45   \n",
       "9697  write three names of polysaccharides and their...            33   \n",
       "9698  write three names of polysaccharides and their...            42   \n",
       "9699  write three names of polysaccharides and their...            10   \n",
       "\n",
       "                        title  siam_score  pred_ix  \n",
       "0      multicellular_organism    0.672455        0  \n",
       "1                       cilia    0.622709        1  \n",
       "2                     plastid    0.587674        2  \n",
       "3                  brain_cell    0.576416        3  \n",
       "4               palisade_cell    0.553957        4  \n",
       "...                       ...         ...      ...  \n",
       "9695        vascular_dementia    0.080380       45  \n",
       "9696                  wavelet    0.076583       46  \n",
       "9697      chinese_place_names    0.070567       47  \n",
       "9698  names_of_god_in_judaism    0.035068       48  \n",
       "9699   sino_korean_vocabulary    0.011060       49  \n",
       "\n",
       "[9700 rows x 5 columns]"
      ]
     },
     "execution_count": 20,
     "metadata": {},
     "output_type": "execute_result"
    }
   ],
   "source": [
    "siam_scores"
   ]
  },
  {
   "cell_type": "code",
   "execution_count": null,
   "id": "7e55fa1f",
   "metadata": {},
   "outputs": [],
   "source": []
  },
  {
   "cell_type": "code",
   "execution_count": null,
   "id": "3f0addf3",
   "metadata": {},
   "outputs": [],
   "source": []
  },
  {
   "cell_type": "markdown",
   "id": "8d156982",
   "metadata": {},
   "source": [
    "### calculate metrices"
   ]
  },
  {
   "cell_type": "code",
   "execution_count": 23,
   "id": "53a23fd4",
   "metadata": {},
   "outputs": [
    {
     "data": {
      "text/html": [
       "<div>\n",
       "<style scoped>\n",
       "    .dataframe tbody tr th:only-of-type {\n",
       "        vertical-align: middle;\n",
       "    }\n",
       "\n",
       "    .dataframe tbody tr th {\n",
       "        vertical-align: top;\n",
       "    }\n",
       "\n",
       "    .dataframe thead th {\n",
       "        text-align: right;\n",
       "    }\n",
       "</style>\n",
       "<table border=\"1\" class=\"dataframe\">\n",
       "  <thead>\n",
       "    <tr style=\"text-align: right;\">\n",
       "      <th></th>\n",
       "      <th>acc1</th>\n",
       "      <th>acc10</th>\n",
       "      <th>mrr10</th>\n",
       "      <th>n_queries</th>\n",
       "    </tr>\n",
       "  </thead>\n",
       "  <tbody>\n",
       "    <tr>\n",
       "      <th>top_n: 10</th>\n",
       "      <td>0.402062</td>\n",
       "      <td>0.505155</td>\n",
       "      <td>0.438365</td>\n",
       "      <td>194</td>\n",
       "    </tr>\n",
       "    <tr>\n",
       "      <th>top_n: 25</th>\n",
       "      <td>0.402062</td>\n",
       "      <td>0.572165</td>\n",
       "      <td>0.465734</td>\n",
       "      <td>194</td>\n",
       "    </tr>\n",
       "    <tr>\n",
       "      <th>top_n: 50</th>\n",
       "      <td>0.448454</td>\n",
       "      <td>0.649485</td>\n",
       "      <td>0.520146</td>\n",
       "      <td>194</td>\n",
       "    </tr>\n",
       "  </tbody>\n",
       "</table>\n",
       "</div>"
      ],
      "text/plain": [
       "               acc1     acc10     mrr10  n_queries\n",
       "top_n: 10  0.402062  0.505155  0.438365        194\n",
       "top_n: 25  0.402062  0.572165  0.465734        194\n",
       "top_n: 50  0.448454  0.649485  0.520146        194"
      ]
     },
     "execution_count": 23,
     "metadata": {},
     "output_type": "execute_result"
    }
   ],
   "source": [
    "reranked_metrices_for_different_orig_top_n(\n",
    "    reranked_preds=siam_scores, labels_test=labels_test, score_col='siam_score'\n",
    ")"
   ]
  },
  {
   "cell_type": "code",
   "execution_count": null,
   "id": "d13a8940",
   "metadata": {},
   "outputs": [],
   "source": []
  },
  {
   "cell_type": "markdown",
   "id": "0e43d048",
   "metadata": {},
   "source": [
    "## bm25 accuracy@50"
   ]
  },
  {
   "cell_type": "code",
   "execution_count": 28,
   "id": "0d785df4",
   "metadata": {},
   "outputs": [],
   "source": [
    "bm25_preds_agg = bm25_preds_df.sort_values(['query', 'pred_ix']).groupby(\n",
    "    'query')['title'].agg(list).to_dict()\n",
    "\n",
    "queries = list(bm25_preds_agg.keys())\n",
    "titles_pred = [bm25_preds_agg[q] for q in queries]\n",
    "titles_true = labels_test.set_index('query').loc[queries, 'title'].tolist()"
   ]
  },
  {
   "cell_type": "code",
   "execution_count": 33,
   "id": "457b5726",
   "metadata": {},
   "outputs": [
    {
     "name": "stdout",
     "output_type": "stream",
     "text": [
      "bm25 accuracy@50: 67.526%\n"
     ]
    }
   ],
   "source": [
    "acc50 = accuracy(titles_true=titles_true, title_predictions=titles_pred, k=50)\n",
    "print(f'bm25 accuracy@50: {acc50 :.3%}')"
   ]
  },
  {
   "cell_type": "code",
   "execution_count": null,
   "id": "7b0c7349",
   "metadata": {},
   "outputs": [],
   "source": []
  },
  {
   "cell_type": "markdown",
   "id": "8005ef42",
   "metadata": {},
   "source": [
    "## Cross-encoder model"
   ]
  },
  {
   "cell_type": "code",
   "execution_count": null,
   "id": "544d0380",
   "metadata": {},
   "outputs": [],
   "source": []
  },
  {
   "cell_type": "markdown",
   "id": "9ae184e0",
   "metadata": {},
   "source": [
    "### train dataset"
   ]
  },
  {
   "cell_type": "code",
   "execution_count": 23,
   "id": "84fb51ca",
   "metadata": {},
   "outputs": [
    {
     "data": {
      "text/plain": [
       "(38471, 3)"
      ]
     },
     "execution_count": 23,
     "metadata": {},
     "output_type": "execute_result"
    }
   ],
   "source": [
    "labels_train.shape"
   ]
  },
  {
   "cell_type": "code",
   "execution_count": 24,
   "id": "9fdb3ebf",
   "metadata": {},
   "outputs": [
    {
     "name": "stdout",
     "output_type": "stream",
     "text": [
      "(76942, 4)\n",
      "38471 47244\n"
     ]
    }
   ],
   "source": [
    "# labels_train_w_negatives = add_negative_samples_to_labels_df(\n",
    "#     labels_df=labels_train, neg_to_pos_factor=1, \n",
    "#     all_article_ids=article_ids, filemap=filemap, \n",
    "# )\n",
    "\n",
    "labels_train_w_negatives = pd.read_csv('data/labels_train_w_negatives.csv')\n",
    "print(labels_train_w_negatives.shape)\n",
    "print(labels_train_w_negatives['query'].nunique(), labels_train_w_negatives['title'].nunique())"
   ]
  },
  {
   "cell_type": "code",
   "execution_count": 25,
   "id": "0276ceb9",
   "metadata": {},
   "outputs": [
    {
     "data": {
      "text/html": [
       "<div>\n",
       "<style scoped>\n",
       "    .dataframe tbody tr th:only-of-type {\n",
       "        vertical-align: middle;\n",
       "    }\n",
       "\n",
       "    .dataframe tbody tr th {\n",
       "        vertical-align: top;\n",
       "    }\n",
       "\n",
       "    .dataframe thead th {\n",
       "        text-align: right;\n",
       "    }\n",
       "</style>\n",
       "<table border=\"1\" class=\"dataframe\">\n",
       "  <thead>\n",
       "    <tr style=\"text-align: right;\">\n",
       "      <th></th>\n",
       "      <th>query</th>\n",
       "      <th>title</th>\n",
       "      <th>article_id</th>\n",
       "      <th>label</th>\n",
       "    </tr>\n",
       "  </thead>\n",
       "  <tbody>\n",
       "    <tr>\n",
       "      <th>0</th>\n",
       "      <td>where was the first university in the world fo...</td>\n",
       "      <td>university_of_al_karaouine</td>\n",
       "      <td>205882</td>\n",
       "      <td>1</td>\n",
       "    </tr>\n",
       "    <tr>\n",
       "      <th>1</th>\n",
       "      <td>what was the robot name in power rangers</td>\n",
       "      <td>mighty_morphin_power_rangers</td>\n",
       "      <td>133467</td>\n",
       "      <td>1</td>\n",
       "    </tr>\n",
       "  </tbody>\n",
       "</table>\n",
       "</div>"
      ],
      "text/plain": [
       "                                               query  \\\n",
       "0  where was the first university in the world fo...   \n",
       "1           what was the robot name in power rangers   \n",
       "\n",
       "                          title  article_id  label  \n",
       "0    university_of_al_karaouine      205882      1  \n",
       "1  mighty_morphin_power_rangers      133467      1  "
      ]
     },
     "execution_count": 25,
     "metadata": {},
     "output_type": "execute_result"
    }
   ],
   "source": [
    "labels_train_w_negatives.head(2)"
   ]
  },
  {
   "cell_type": "code",
   "execution_count": 26,
   "id": "8b175c31",
   "metadata": {},
   "outputs": [
    {
     "data": {
      "text/plain": [
       "1    38471\n",
       "0    38471\n",
       "Name: label, dtype: int64"
      ]
     },
     "execution_count": 26,
     "metadata": {},
     "output_type": "execute_result"
    }
   ],
   "source": [
    "labels_train_w_negatives['label'].value_counts()"
   ]
  },
  {
   "cell_type": "code",
   "execution_count": 27,
   "id": "9c0dbae4",
   "metadata": {},
   "outputs": [],
   "source": [
    "# labels_train_w_negatives.to_csv('data/labels_train_w_negatives.csv', index=False)"
   ]
  },
  {
   "cell_type": "code",
   "execution_count": null,
   "id": "3f882d74",
   "metadata": {},
   "outputs": [],
   "source": []
  },
  {
   "cell_type": "code",
   "execution_count": 28,
   "id": "5e9ba490",
   "metadata": {},
   "outputs": [],
   "source": [
    "train_dataset = WikiQADataset(labels_train_w_negatives, filemap=filemap)"
   ]
  },
  {
   "cell_type": "code",
   "execution_count": 29,
   "id": "5ef4dae6",
   "metadata": {},
   "outputs": [
    {
     "data": {
      "text/plain": [
       "(1,\n",
       " ['how do they draw teams for the world cup',\n",
       "  'The knockout stage of the 2018 FIFA World Cup is the second stage of the competition, just after the group stage. It began on 30 June with the round of 16 and ended on 15 July with the final match, held at the Luzhniki Stadium in Moscow. The top two teams from each group (16 in total) would advance to the knockout stage to compete in a single-elimination. In the knockout stage, if a match is level at the end of 90 minutes of normal playing time, extra time would be played (two periods of 15 minutes each), where each team is allowed to make a fourth substitution. If still tied after extra time, the match would be decided by a penalty shoot-out to determine the winners. A third place play-off will also be played between the two losing teams of the semi-finals. The top two placed teams from each of the eight groups will qualify for the knockout stage.'])"
      ]
     },
     "execution_count": 29,
     "metadata": {},
     "output_type": "execute_result"
    }
   ],
   "source": [
    "train_dataset[2].label, train_dataset[2].texts"
   ]
  },
  {
   "cell_type": "code",
   "execution_count": 30,
   "id": "dba8a059",
   "metadata": {},
   "outputs": [
    {
     "data": {
      "text/plain": [
       "(0,\n",
       " ['how do they draw teams for the world cup',\n",
       "  'Les Châtelliers-Châteaumur is a former commune. It is in Pays de la Loire in the Vendée department in west France. On 1 January 2016, it became a part of the new commune of Sèvremont. Coordinates: 46°51′N 0°49′W\\ufeff / \\ufeff46.850°N 0.817°W\\ufeff / 46.850; -0.817 '])"
      ]
     },
     "execution_count": 30,
     "metadata": {},
     "output_type": "execute_result"
    }
   ],
   "source": [
    "train_dataset[38473].label, train_dataset[38473].texts"
   ]
  },
  {
   "cell_type": "code",
   "execution_count": null,
   "id": "c2c08f64",
   "metadata": {},
   "outputs": [],
   "source": []
  },
  {
   "cell_type": "code",
   "execution_count": null,
   "id": "325b098b",
   "metadata": {},
   "outputs": [],
   "source": []
  },
  {
   "cell_type": "markdown",
   "id": "a40ce36a",
   "metadata": {},
   "source": [
    "### train"
   ]
  },
  {
   "cell_type": "code",
   "execution_count": 31,
   "id": "3e57002e",
   "metadata": {},
   "outputs": [],
   "source": [
    "# pretrained_model_name = 'distilroberta-base'\n",
    "pretrained_model_name = 'cross-encoder/ms-marco-TinyBERT-L-2-v2'\n",
    "\n",
    "# shorter sequences don't seem to reduce training time. \n",
    "# TODO: check how memory consumption changes:\n",
    "# * 903 Mb with 256 len\n",
    "# * ? Mb with 512 len\n",
    "ce_model = st.CrossEncoder(pretrained_model_name, num_labels=1, max_length=256)"
   ]
  },
  {
   "cell_type": "code",
   "execution_count": 32,
   "id": "d08fac42",
   "metadata": {},
   "outputs": [
    {
     "data": {
      "text/plain": [
       "device(type='cuda')"
      ]
     },
     "execution_count": 32,
     "metadata": {},
     "output_type": "execute_result"
    }
   ],
   "source": [
    "ce_model._target_device"
   ]
  },
  {
   "cell_type": "code",
   "execution_count": 33,
   "id": "f6de0648",
   "metadata": {},
   "outputs": [
    {
     "data": {
      "text/plain": [
       "512"
      ]
     },
     "execution_count": 33,
     "metadata": {},
     "output_type": "execute_result"
    }
   ],
   "source": [
    "ce_model.tokenizer.model_max_length"
   ]
  },
  {
   "cell_type": "code",
   "execution_count": 34,
   "id": "716e0913",
   "metadata": {},
   "outputs": [
    {
     "data": {
      "text/plain": [
       "256"
      ]
     },
     "execution_count": 34,
     "metadata": {},
     "output_type": "execute_result"
    }
   ],
   "source": [
    "ce_model.max_length"
   ]
  },
  {
   "cell_type": "code",
   "execution_count": null,
   "id": "593e7e0a",
   "metadata": {},
   "outputs": [],
   "source": []
  },
  {
   "cell_type": "code",
   "execution_count": 44,
   "id": "694be1d0",
   "metadata": {},
   "outputs": [],
   "source": [
    "train_batch_size = 4\n",
    "val_batch_size = 64\n",
    "\n",
    "dl_train = DataLoader(\n",
    "    train_dataset, \n",
    "    batch_size=train_batch_size, \n",
    "    shuffle=True,\n",
    "    drop_last=False,\n",
    "    \n",
    "    # Cannot re-initialize CUDA in forked subprocess.\n",
    "    # To use CUDA with multiprocessing, you must use the 'spawn' start method.\n",
    "#     num_workers=2\n",
    "    num_workers=0\n",
    ")\n",
    "\n",
    "sentence_pairs = list(zip(labels_val_w_negatives['query'].tolist(), val_articles))\n",
    "val_evaluator = CustomCEBinaryClassificationEvaluator(\n",
    "    sentence_pairs=sentence_pairs,\n",
    "    labels=labels_val_w_negatives['label'].tolist(),\n",
    "    batch_size=val_batch_size\n",
    ")"
   ]
  },
  {
   "cell_type": "code",
   "execution_count": 45,
   "id": "c28bf3a8",
   "metadata": {},
   "outputs": [
    {
     "name": "stdout",
     "output_type": "stream",
     "text": [
      "num_epochs: 2\n",
      "train_batch_size: 4\n",
      "val_batch_size: 64\n",
      "warmup steps: 3848\n",
      "len(dl_train): 19236\n",
      "eval_steps: 6732\n",
      "output_dp:\t\"/media/rtn/data/fajly2/nn/bert/ce\"\n"
     ]
    }
   ],
   "source": [
    "num_epochs = 2\n",
    "warmup_steps = math.ceil(len(dl_train) * num_epochs * 0.1)\n",
    "eval_steps = int(len(dl_train) * 0.35)\n",
    "output_dp = '/media/rtn/data/fajly2/nn/bert/ce'\n",
    "\n",
    "print(f\"num_epochs: {num_epochs}\")\n",
    "print(f'train_batch_size: {train_batch_size}')\n",
    "print(f'val_batch_size: {val_batch_size}')  # TODO\n",
    "print(f\"warmup steps: {warmup_steps}\")\n",
    "print(f'len(dl_train): {len(dl_train)}')\n",
    "print(f'eval_steps: {eval_steps}')\n",
    "print(f'output_dp:\\t\"{output_dp}\"')"
   ]
  },
  {
   "cell_type": "code",
   "execution_count": null,
   "id": "a17420d3",
   "metadata": {},
   "outputs": [],
   "source": []
  },
  {
   "cell_type": "code",
   "execution_count": 46,
   "id": "28037089",
   "metadata": {},
   "outputs": [
    {
     "data": {
      "application/vnd.jupyter.widget-view+json": {
       "model_id": "c0279a1db3fe4631a15093c3d8242a00",
       "version_major": 2,
       "version_minor": 0
      },
      "text/plain": [
       "Epoch:   0%|          | 0/2 [00:00<?, ?it/s]"
      ]
     },
     "metadata": {},
     "output_type": "display_data"
    },
    {
     "data": {
      "application/vnd.jupyter.widget-view+json": {
       "model_id": "5b313ba1c6004862a8a25fbb97b824f5",
       "version_major": 2,
       "version_minor": 0
      },
      "text/plain": [
       "Iteration:   0%|          | 0/19236 [00:00<?, ?it/s]"
      ]
     },
     "metadata": {},
     "output_type": "display_data"
    },
    {
     "data": {
      "application/vnd.jupyter.widget-view+json": {
       "model_id": "f1547cf4ae5242348fc7d0442fd37135",
       "version_major": 2,
       "version_minor": 0
      },
      "text/plain": [
       "Batches:   0%|          | 0/213 [00:00<?, ?it/s]"
      ]
     },
     "metadata": {},
     "output_type": "display_data"
    },
    {
     "data": {
      "application/vnd.jupyter.widget-view+json": {
       "model_id": "8db3f4f9e7424ba5b0b0feebe469e90f",
       "version_major": 2,
       "version_minor": 0
      },
      "text/plain": [
       "Batches:   0%|          | 0/213 [00:00<?, ?it/s]"
      ]
     },
     "metadata": {},
     "output_type": "display_data"
    },
    {
     "data": {
      "application/vnd.jupyter.widget-view+json": {
       "model_id": "b38da6ea629142a69a7ae7a072a87d32",
       "version_major": 2,
       "version_minor": 0
      },
      "text/plain": [
       "Batches:   0%|          | 0/213 [00:00<?, ?it/s]"
      ]
     },
     "metadata": {},
     "output_type": "display_data"
    },
    {
     "data": {
      "application/vnd.jupyter.widget-view+json": {
       "model_id": "c5e6a9e691ce403f94d9b6404558465e",
       "version_major": 2,
       "version_minor": 0
      },
      "text/plain": [
       "Iteration:   0%|          | 0/19236 [00:00<?, ?it/s]"
      ]
     },
     "metadata": {},
     "output_type": "display_data"
    },
    {
     "data": {
      "application/vnd.jupyter.widget-view+json": {
       "model_id": "c2bbac22b28342b09b0546bd76dc9de0",
       "version_major": 2,
       "version_minor": 0
      },
      "text/plain": [
       "Batches:   0%|          | 0/213 [00:00<?, ?it/s]"
      ]
     },
     "metadata": {},
     "output_type": "display_data"
    },
    {
     "data": {
      "application/vnd.jupyter.widget-view+json": {
       "model_id": "491eefd7eabf4c5a91f7fc941e92ab36",
       "version_major": 2,
       "version_minor": 0
      },
      "text/plain": [
       "Batches:   0%|          | 0/213 [00:00<?, ?it/s]"
      ]
     },
     "metadata": {},
     "output_type": "display_data"
    },
    {
     "data": {
      "application/vnd.jupyter.widget-view+json": {
       "model_id": "2ce4b2448b6f41099efc2b843ef91093",
       "version_major": 2,
       "version_minor": 0
      },
      "text/plain": [
       "Batches:   0%|          | 0/213 [00:00<?, ?it/s]"
      ]
     },
     "metadata": {},
     "output_type": "display_data"
    }
   ],
   "source": [
    "ce_model.fit(\n",
    "    train_dataloader=dl_train,\n",
    "    evaluator=val_evaluator,\n",
    "    evaluation_steps=eval_steps,\n",
    "    \n",
    "    epochs=num_epochs,\n",
    "    optimizer_params={'lr': 2e-5},\n",
    "    scheduler='WarmupLinear',\n",
    "    warmup_steps=warmup_steps,\n",
    "    weight_decay=0.01,\n",
    "    \n",
    "    output_path=output_dp,\n",
    "    save_best_model=True,\n",
    "    use_amp=False,\n",
    ")"
   ]
  },
  {
   "cell_type": "code",
   "execution_count": null,
   "id": "c263742b",
   "metadata": {},
   "outputs": [],
   "source": []
  },
  {
   "cell_type": "code",
   "execution_count": null,
   "id": "e596a935",
   "metadata": {},
   "outputs": [],
   "source": []
  },
  {
   "cell_type": "code",
   "execution_count": null,
   "id": "8212b882",
   "metadata": {},
   "outputs": [],
   "source": []
  },
  {
   "cell_type": "markdown",
   "id": "5d9f118b",
   "metadata": {},
   "source": [
    "### plot val metrices"
   ]
  },
  {
   "cell_type": "code",
   "execution_count": 48,
   "id": "df7b5096",
   "metadata": {},
   "outputs": [
    {
     "data": {
      "text/html": [
       "<div>\n",
       "<style scoped>\n",
       "    .dataframe tbody tr th:only-of-type {\n",
       "        vertical-align: middle;\n",
       "    }\n",
       "\n",
       "    .dataframe tbody tr th {\n",
       "        vertical-align: top;\n",
       "    }\n",
       "\n",
       "    .dataframe thead th {\n",
       "        text-align: right;\n",
       "    }\n",
       "</style>\n",
       "<table border=\"1\" class=\"dataframe\">\n",
       "  <thead>\n",
       "    <tr style=\"text-align: right;\">\n",
       "      <th></th>\n",
       "      <th>epoch</th>\n",
       "      <th>steps_epoch_raw</th>\n",
       "      <th>Accuracy</th>\n",
       "      <th>F1</th>\n",
       "      <th>F1_Threshold</th>\n",
       "      <th>Precision</th>\n",
       "      <th>Recall</th>\n",
       "      <th>steps_epoch</th>\n",
       "      <th>steps</th>\n",
       "    </tr>\n",
       "  </thead>\n",
       "  <tbody>\n",
       "    <tr>\n",
       "      <th>0</th>\n",
       "      <td>0</td>\n",
       "      <td>6732</td>\n",
       "      <td>0.973634</td>\n",
       "      <td>0.973462</td>\n",
       "      <td>5.734720</td>\n",
       "      <td>0.979854</td>\n",
       "      <td>0.967153</td>\n",
       "      <td>6732</td>\n",
       "      <td>6732</td>\n",
       "    </tr>\n",
       "    <tr>\n",
       "      <th>1</th>\n",
       "      <td>0</td>\n",
       "      <td>13464</td>\n",
       "      <td>0.975475</td>\n",
       "      <td>0.975372</td>\n",
       "      <td>3.848011</td>\n",
       "      <td>0.979501</td>\n",
       "      <td>0.971277</td>\n",
       "      <td>13464</td>\n",
       "      <td>13464</td>\n",
       "    </tr>\n",
       "    <tr>\n",
       "      <th>2</th>\n",
       "      <td>0</td>\n",
       "      <td>-1</td>\n",
       "      <td>0.975622</td>\n",
       "      <td>0.975396</td>\n",
       "      <td>5.926953</td>\n",
       "      <td>0.984544</td>\n",
       "      <td>0.966416</td>\n",
       "      <td>19236</td>\n",
       "      <td>19236</td>\n",
       "    </tr>\n",
       "    <tr>\n",
       "      <th>3</th>\n",
       "      <td>1</td>\n",
       "      <td>6732</td>\n",
       "      <td>0.975991</td>\n",
       "      <td>0.975888</td>\n",
       "      <td>3.628420</td>\n",
       "      <td>0.980092</td>\n",
       "      <td>0.971719</td>\n",
       "      <td>6732</td>\n",
       "      <td>25968</td>\n",
       "    </tr>\n",
       "    <tr>\n",
       "      <th>4</th>\n",
       "      <td>1</td>\n",
       "      <td>13464</td>\n",
       "      <td>0.976285</td>\n",
       "      <td>0.976109</td>\n",
       "      <td>5.925874</td>\n",
       "      <td>0.983406</td>\n",
       "      <td>0.968920</td>\n",
       "      <td>13464</td>\n",
       "      <td>32700</td>\n",
       "    </tr>\n",
       "    <tr>\n",
       "      <th>5</th>\n",
       "      <td>1</td>\n",
       "      <td>-1</td>\n",
       "      <td>0.976212</td>\n",
       "      <td>0.976083</td>\n",
       "      <td>4.905209</td>\n",
       "      <td>0.981388</td>\n",
       "      <td>0.970835</td>\n",
       "      <td>19236</td>\n",
       "      <td>38472</td>\n",
       "    </tr>\n",
       "  </tbody>\n",
       "</table>\n",
       "</div>"
      ],
      "text/plain": [
       "   epoch  steps_epoch_raw  Accuracy        F1  F1_Threshold  Precision  \\\n",
       "0      0             6732  0.973634  0.973462      5.734720   0.979854   \n",
       "1      0            13464  0.975475  0.975372      3.848011   0.979501   \n",
       "2      0               -1  0.975622  0.975396      5.926953   0.984544   \n",
       "3      1             6732  0.975991  0.975888      3.628420   0.980092   \n",
       "4      1            13464  0.976285  0.976109      5.925874   0.983406   \n",
       "5      1               -1  0.976212  0.976083      4.905209   0.981388   \n",
       "\n",
       "     Recall  steps_epoch  steps  \n",
       "0  0.967153         6732   6732  \n",
       "1  0.971277        13464  13464  \n",
       "2  0.966416        19236  19236  \n",
       "3  0.971719         6732  25968  \n",
       "4  0.968920        13464  32700  \n",
       "5  0.970835        19236  38472  "
      ]
     },
     "execution_count": 48,
     "metadata": {},
     "output_type": "execute_result"
    }
   ],
   "source": [
    "val_metrics = pd.read_csv(os.path.join(output_dp, 'CEBinaryClassificationEvaluator_results.csv'))\n",
    "\n",
    "train_dl_len = 19236\n",
    "val_metrics.rename(columns={'steps': 'steps_epoch_raw'}, inplace=True)\n",
    "val_metrics['steps_epoch'] = val_metrics['steps_epoch_raw'].where(\n",
    "    val_metrics['steps_epoch_raw'] != -1, train_dl_len)\n",
    "val_metrics['steps'] = (val_metrics['epoch'] * train_dl_len) + val_metrics['steps_epoch']\n",
    "\n",
    "val_metrics"
   ]
  },
  {
   "cell_type": "code",
   "execution_count": 50,
   "id": "2b19adfd",
   "metadata": {},
   "outputs": [
    {
     "data": {
      "text/html": [
       "<div>\n",
       "<style scoped>\n",
       "    .dataframe tbody tr th:only-of-type {\n",
       "        vertical-align: middle;\n",
       "    }\n",
       "\n",
       "    .dataframe tbody tr th {\n",
       "        vertical-align: top;\n",
       "    }\n",
       "\n",
       "    .dataframe thead th {\n",
       "        text-align: right;\n",
       "    }\n",
       "</style>\n",
       "<table border=\"1\" class=\"dataframe\">\n",
       "  <thead>\n",
       "    <tr style=\"text-align: right;\">\n",
       "      <th></th>\n",
       "      <th>epoch</th>\n",
       "      <th>steps_epoch_raw</th>\n",
       "      <th>Accuracy</th>\n",
       "      <th>F1</th>\n",
       "      <th>F1_Threshold</th>\n",
       "      <th>Precision</th>\n",
       "      <th>Recall</th>\n",
       "      <th>steps_epoch</th>\n",
       "      <th>steps</th>\n",
       "    </tr>\n",
       "  </thead>\n",
       "  <tbody>\n",
       "    <tr>\n",
       "      <th>3</th>\n",
       "      <td>1</td>\n",
       "      <td>6732</td>\n",
       "      <td>0.975991</td>\n",
       "      <td>0.975888</td>\n",
       "      <td>3.62842</td>\n",
       "      <td>0.980092</td>\n",
       "      <td>0.971719</td>\n",
       "      <td>6732</td>\n",
       "      <td>25968</td>\n",
       "    </tr>\n",
       "  </tbody>\n",
       "</table>\n",
       "</div>"
      ],
      "text/plain": [
       "   epoch  steps_epoch_raw  Accuracy        F1  F1_Threshold  Precision  \\\n",
       "3      1             6732  0.975991  0.975888       3.62842   0.980092   \n",
       "\n",
       "     Recall  steps_epoch  steps  \n",
       "3  0.971719         6732  25968  "
      ]
     },
     "execution_count": 50,
     "metadata": {},
     "output_type": "execute_result"
    }
   ],
   "source": [
    "best_val_stats = val_metrics.loc[[val_metrics['Recall'].idxmax()]]\n",
    "best_val_stats"
   ]
  },
  {
   "cell_type": "code",
   "execution_count": 51,
   "id": "c027a147",
   "metadata": {},
   "outputs": [
    {
     "data": {
      "image/png": "[encoded data removed]",
      "text/plain": [
       "<Figure size 1650x1100 with 4 Axes>"
      ]
     },
     "metadata": {},
     "output_type": "display_data"
    }
   ],
   "source": [
    "fig, ax = plt.subplots(2, 2, figsize=(15, 10), sharex=True, sharey=True, dpi=110)\n",
    "cols = ['Precision', 'Recall', 'F1', 'Accuracy']\n",
    "for a, col in zip(ax.flatten(), cols):\n",
    "    a.plot(val_metrics['steps'], val_metrics[col], 'o-');\n",
    "    best_iteration_val = best_val_stats[col].iloc[0]\n",
    "    a.axvline(best_val_stats['steps'].iloc[0], c='magenta', alpha=0.5, \n",
    "              label=f'best iteration. {col}: {best_iteration_val :.3f}')\n",
    "    a.legend(loc='lower right');\n",
    "    a.set_title(col)\n",
    "    a.set_xlabel('steps');\n",
    "fig.suptitle('validation metrices');"
   ]
  },
  {
   "cell_type": "code",
   "execution_count": null,
   "id": "a751a034",
   "metadata": {},
   "outputs": [],
   "source": []
  },
  {
   "cell_type": "code",
   "execution_count": null,
   "id": "d9bbd0f1",
   "metadata": {},
   "outputs": [],
   "source": []
  },
  {
   "cell_type": "markdown",
   "id": "26b8633d",
   "metadata": {},
   "source": [
    "### predict with best model\n",
    "* Best model was chosen by `recall` metric on validation set"
   ]
  },
  {
   "cell_type": "code",
   "execution_count": 58,
   "id": "732af629",
   "metadata": {},
   "outputs": [
    {
     "name": "stdout",
     "output_type": "stream",
     "text": [
      "loading from: \"/media/rtn/data/fajly2/nn/bert/ce\"\n"
     ]
    },
    {
     "data": {
      "text/plain": [
       "device(type='cuda')"
      ]
     },
     "execution_count": 58,
     "metadata": {},
     "output_type": "execute_result"
    }
   ],
   "source": [
    "output_dp = '/media/rtn/data/fajly2/nn/bert/ce'\n",
    "print(f'loading from: \"{output_dp}\"')\n",
    "ce_model_best = st.CrossEncoder(output_dp)\n",
    "ce_model_best._target_device"
   ]
  },
  {
   "cell_type": "code",
   "execution_count": null,
   "id": "7fb8994e",
   "metadata": {},
   "outputs": [],
   "source": []
  },
  {
   "cell_type": "code",
   "execution_count": 65,
   "id": "78a8604c",
   "metadata": {},
   "outputs": [
    {
     "name": "stdout",
     "output_type": "stream",
     "text": [
      "3606\n"
     ]
    }
   ],
   "source": [
    "bm25_preds_titles_u = bm25_preds_df['title'].unique().tolist()\n",
    "print(len(bm25_preds_titles_u))"
   ]
  },
  {
   "cell_type": "code",
   "execution_count": 66,
   "id": "53bc89e8",
   "metadata": {},
   "outputs": [
    {
     "data": {
      "application/vnd.jupyter.widget-view+json": {
       "model_id": "4b0ca7e18a7c4b4ca14e5e7cbd498a37",
       "version_major": 2,
       "version_minor": 0
      },
      "text/plain": [
       "  0%|          | 0/3606 [00:00<?, ?it/s]"
      ]
     },
     "metadata": {},
     "output_type": "display_data"
    }
   ],
   "source": [
    "# load all aricles for evaluation beforehand\n",
    "bm25_preds_articles = []\n",
    "for title in tqdm(bm25_preds_titles_u):\n",
    "    bm25_preds_articles.append(get_article_text(get_article_path(title, filemap)))"
   ]
  },
  {
   "cell_type": "code",
   "execution_count": 67,
   "id": "9c9e1801",
   "metadata": {},
   "outputs": [],
   "source": [
    "bm25_preds_title2article = {title: article for (title, article) in zip(bm25_preds_titles_u, bm25_preds_articles)}"
   ]
  },
  {
   "cell_type": "code",
   "execution_count": null,
   "id": "bf27ecd3",
   "metadata": {},
   "outputs": [],
   "source": []
  },
  {
   "cell_type": "code",
   "execution_count": 71,
   "id": "efa7c2a0",
   "metadata": {},
   "outputs": [],
   "source": [
    "sentence_pairs = bm25_preds_df[['query', 'title']].copy()\n",
    "sentence_pairs['article'] = sentence_pairs['title'].apply(bm25_preds_title2article.get)"
   ]
  },
  {
   "cell_type": "code",
   "execution_count": 87,
   "id": "579060bd",
   "metadata": {},
   "outputs": [
    {
     "data": {
      "application/vnd.jupyter.widget-view+json": {
       "model_id": "cff5a6646f674a089b2e16225ee04a1b",
       "version_major": 2,
       "version_minor": 0
      },
      "text/plain": [
       "Batches:   0%|          | 0/152 [00:00<?, ?it/s]"
      ]
     },
     "metadata": {},
     "output_type": "display_data"
    },
    {
     "name": "stdout",
     "output_type": "stream",
     "text": [
      "elapsed time: 25.043 seconds\n"
     ]
    }
   ],
   "source": [
    "time_start = time.time()\n",
    "ce_scores = ce_model_best.predict(\n",
    "    sentences=sentence_pairs[['query', 'article']].to_numpy().tolist(),\n",
    "    batch_size=64,\n",
    "    show_progress_bar=True,\n",
    ")\n",
    "time_end = time.time()\n",
    "print(f'elapsed time: {time_end - time_start :.3f} seconds')"
   ]
  },
  {
   "cell_type": "code",
   "execution_count": 88,
   "id": "93e97672",
   "metadata": {},
   "outputs": [
    {
     "data": {
      "text/plain": [
       "(9700,)"
      ]
     },
     "execution_count": 88,
     "metadata": {},
     "output_type": "execute_result"
    }
   ],
   "source": [
    "ce_scores.shape"
   ]
  },
  {
   "cell_type": "code",
   "execution_count": null,
   "id": "afdadeb2",
   "metadata": {},
   "outputs": [],
   "source": []
  },
  {
   "cell_type": "code",
   "execution_count": 98,
   "id": "d44ab311",
   "metadata": {},
   "outputs": [
    {
     "name": "stdout",
     "output_type": "stream",
     "text": [
      "shape: (9700, 5)\n",
      "# unique queries: 194\n",
      "# unique titles: 3606\n"
     ]
    }
   ],
   "source": [
    "ce_preds = bm25_preds_df.copy()\n",
    "ce_preds.rename(columns={'pred_ix': 'pred_ix_orig'}, inplace=True)\n",
    "ce_preds['ce_score'] = ce_scores\n",
    "ce_preds.sort_values(['query', 'ce_score'], ascending=[True, False], inplace=True)\n",
    "ce_preds['ce_pred_ix'] = ce_preds.groupby('query').cumcount()\n",
    "\n",
    "assert all(ce_preds.groupby('query').size() == 50)\n",
    "\n",
    "print(f'shape: {ce_preds.shape}')\n",
    "print(f'# unique queries: {ce_preds[\"query\"].nunique()}')\n",
    "print(f'# unique titles: {ce_preds[\"title\"].nunique()}')"
   ]
  },
  {
   "cell_type": "code",
   "execution_count": 99,
   "id": "64d4f5c4",
   "metadata": {},
   "outputs": [
    {
     "data": {
      "text/html": [
       "<div>\n",
       "<style scoped>\n",
       "    .dataframe tbody tr th:only-of-type {\n",
       "        vertical-align: middle;\n",
       "    }\n",
       "\n",
       "    .dataframe tbody tr th {\n",
       "        vertical-align: top;\n",
       "    }\n",
       "\n",
       "    .dataframe thead th {\n",
       "        text-align: right;\n",
       "    }\n",
       "</style>\n",
       "<table border=\"1\" class=\"dataframe\">\n",
       "  <thead>\n",
       "    <tr style=\"text-align: right;\">\n",
       "      <th></th>\n",
       "      <th>query</th>\n",
       "      <th>title</th>\n",
       "      <th>pred_ix_orig</th>\n",
       "      <th>ce_score</th>\n",
       "      <th>ce_pred_ix</th>\n",
       "    </tr>\n",
       "  </thead>\n",
       "  <tbody>\n",
       "    <tr>\n",
       "      <th>1130</th>\n",
       "      <td>a group of connected cells that have a similar...</td>\n",
       "      <td>b_cell</td>\n",
       "      <td>30</td>\n",
       "      <td>10.593117</td>\n",
       "      <td>0</td>\n",
       "    </tr>\n",
       "    <tr>\n",
       "      <th>1100</th>\n",
       "      <td>a group of connected cells that have a similar...</td>\n",
       "      <td>brain_cell</td>\n",
       "      <td>0</td>\n",
       "      <td>10.573962</td>\n",
       "      <td>1</td>\n",
       "    </tr>\n",
       "    <tr>\n",
       "      <th>1119</th>\n",
       "      <td>a group of connected cells that have a similar...</td>\n",
       "      <td>sertoli_cell</td>\n",
       "      <td>19</td>\n",
       "      <td>10.568537</td>\n",
       "      <td>2</td>\n",
       "    </tr>\n",
       "    <tr>\n",
       "      <th>1114</th>\n",
       "      <td>a group of connected cells that have a similar...</td>\n",
       "      <td>tissue</td>\n",
       "      <td>14</td>\n",
       "      <td>10.552120</td>\n",
       "      <td>3</td>\n",
       "    </tr>\n",
       "    <tr>\n",
       "      <th>1105</th>\n",
       "      <td>a group of connected cells that have a similar...</td>\n",
       "      <td>mast_cell</td>\n",
       "      <td>5</td>\n",
       "      <td>10.547114</td>\n",
       "      <td>4</td>\n",
       "    </tr>\n",
       "  </tbody>\n",
       "</table>\n",
       "</div>"
      ],
      "text/plain": [
       "                                                  query         title  \\\n",
       "1130  a group of connected cells that have a similar...        b_cell   \n",
       "1100  a group of connected cells that have a similar...    brain_cell   \n",
       "1119  a group of connected cells that have a similar...  sertoli_cell   \n",
       "1114  a group of connected cells that have a similar...        tissue   \n",
       "1105  a group of connected cells that have a similar...     mast_cell   \n",
       "\n",
       "      pred_ix_orig   ce_score  ce_pred_ix  \n",
       "1130            30  10.593117           0  \n",
       "1100             0  10.573962           1  \n",
       "1119            19  10.568537           2  \n",
       "1114            14  10.552120           3  \n",
       "1105             5  10.547114           4  "
      ]
     },
     "execution_count": 99,
     "metadata": {},
     "output_type": "execute_result"
    }
   ],
   "source": [
    "ce_preds.head()"
   ]
  },
  {
   "cell_type": "code",
   "execution_count": null,
   "id": "59d6d5bb",
   "metadata": {},
   "outputs": [],
   "source": []
  },
  {
   "cell_type": "code",
   "execution_count": null,
   "id": "10057276",
   "metadata": {},
   "outputs": [],
   "source": []
  },
  {
   "cell_type": "markdown",
   "id": "ec2b4a87",
   "metadata": {},
   "source": [
    "### calculate metrices"
   ]
  },
  {
   "cell_type": "code",
   "execution_count": 107,
   "id": "734f0ea7",
   "metadata": {},
   "outputs": [
    {
     "data": {
      "text/html": [
       "<div>\n",
       "<style scoped>\n",
       "    .dataframe tbody tr th:only-of-type {\n",
       "        vertical-align: middle;\n",
       "    }\n",
       "\n",
       "    .dataframe tbody tr th {\n",
       "        vertical-align: top;\n",
       "    }\n",
       "\n",
       "    .dataframe thead th {\n",
       "        text-align: right;\n",
       "    }\n",
       "</style>\n",
       "<table border=\"1\" class=\"dataframe\">\n",
       "  <thead>\n",
       "    <tr style=\"text-align: right;\">\n",
       "      <th></th>\n",
       "      <th>acc1</th>\n",
       "      <th>acc10</th>\n",
       "      <th>mrr10</th>\n",
       "      <th>n_queries</th>\n",
       "    </tr>\n",
       "  </thead>\n",
       "  <tbody>\n",
       "    <tr>\n",
       "      <th>top_n: 10</th>\n",
       "      <td>0.293814</td>\n",
       "      <td>0.505155</td>\n",
       "      <td>0.375057</td>\n",
       "      <td>194</td>\n",
       "    </tr>\n",
       "    <tr>\n",
       "      <th>top_n: 25</th>\n",
       "      <td>0.298969</td>\n",
       "      <td>0.572165</td>\n",
       "      <td>0.397658</td>\n",
       "      <td>194</td>\n",
       "    </tr>\n",
       "    <tr>\n",
       "      <th>top_n: 50</th>\n",
       "      <td>0.278351</td>\n",
       "      <td>0.603093</td>\n",
       "      <td>0.394449</td>\n",
       "      <td>194</td>\n",
       "    </tr>\n",
       "  </tbody>\n",
       "</table>\n",
       "</div>"
      ],
      "text/plain": [
       "               acc1     acc10     mrr10  n_queries\n",
       "top_n: 10  0.293814  0.505155  0.375057        194\n",
       "top_n: 25  0.298969  0.572165  0.397658        194\n",
       "top_n: 50  0.278351  0.603093  0.394449        194"
      ]
     },
     "execution_count": 107,
     "metadata": {},
     "output_type": "execute_result"
    }
   ],
   "source": [
    "m = reranked_metrices_for_different_orig_top_n(\n",
    "    reranked_preds=ce_preds, labels_test=labels_test,\n",
    "    score_col='ce_score'\n",
    ")\n",
    "m"
   ]
  },
  {
   "cell_type": "code",
   "execution_count": 112,
   "id": "ed464c54",
   "metadata": {},
   "outputs": [
    {
     "data": {
      "text/plain": [
       "{'acc1': 27.84, 'acc10': 60.31, 'mrr10': 39.44, 'n_queries': 19400.0}"
      ]
     },
     "execution_count": 112,
     "metadata": {},
     "output_type": "execute_result"
    }
   ],
   "source": [
    "(m.iloc[-1] * 100).round(2).to_dict()"
   ]
  },
  {
   "cell_type": "code",
   "execution_count": null,
   "id": "556b06fd",
   "metadata": {},
   "outputs": [],
   "source": []
  },
  {
   "cell_type": "code",
   "execution_count": null,
   "id": "e9ab3ddf",
   "metadata": {},
   "outputs": [],
   "source": []
  },
  {
   "cell_type": "code",
   "execution_count": null,
   "id": "dcc30b36",
   "metadata": {},
   "outputs": [],
   "source": []
  },
  {
   "cell_type": "markdown",
   "id": "80cf3e95",
   "metadata": {},
   "source": [
    "## debug"
   ]
  },
  {
   "cell_type": "code",
   "execution_count": null,
   "id": "3a26106c",
   "metadata": {},
   "outputs": [],
   "source": []
  },
  {
   "cell_type": "markdown",
   "id": "de015071",
   "metadata": {},
   "source": [
    "### issue in target?"
   ]
  },
  {
   "cell_type": "code",
   "execution_count": 248,
   "id": "67676695",
   "metadata": {},
   "outputs": [
    {
     "data": {
      "text/html": [
       "<div>\n",
       "<style scoped>\n",
       "    .dataframe tbody tr th:only-of-type {\n",
       "        vertical-align: middle;\n",
       "    }\n",
       "\n",
       "    .dataframe tbody tr th {\n",
       "        vertical-align: top;\n",
       "    }\n",
       "\n",
       "    .dataframe thead th {\n",
       "        text-align: right;\n",
       "    }\n",
       "</style>\n",
       "<table border=\"1\" class=\"dataframe\">\n",
       "  <thead>\n",
       "    <tr style=\"text-align: right;\">\n",
       "      <th></th>\n",
       "      <th>query</th>\n",
       "      <th>title</th>\n",
       "    </tr>\n",
       "  </thead>\n",
       "  <tbody>\n",
       "    <tr>\n",
       "      <th>22</th>\n",
       "      <td>a group of connected cells that have a similar...</td>\n",
       "      <td>isomer</td>\n",
       "    </tr>\n",
       "  </tbody>\n",
       "</table>\n",
       "</div>"
      ],
      "text/plain": [
       "                                                query   title\n",
       "22  a group of connected cells that have a similar...  isomer"
      ]
     },
     "execution_count": 248,
     "metadata": {},
     "output_type": "execute_result"
    }
   ],
   "source": [
    "# why 'isomer' and not 'multicellular_organism'?\n",
    "q = 'a group of connected cells that have a similar function'\n",
    "labels_test.query('query == @q')"
   ]
  },
  {
   "cell_type": "code",
   "execution_count": null,
   "id": "db528b91",
   "metadata": {},
   "outputs": [],
   "source": []
  },
  {
   "cell_type": "code",
   "execution_count": 266,
   "id": "84d56c6e",
   "metadata": {},
   "outputs": [],
   "source": []
  },
  {
   "cell_type": "code",
   "execution_count": null,
   "id": "706d52f5",
   "metadata": {},
   "outputs": [],
   "source": []
  }
 ],
 "metadata": {
  "kernelspec": {
   "display_name": "Python 3 (ipykernel)",
   "language": "python",
   "name": "python3"
  },
  "language_info": {
   "codemirror_mode": {
    "name": "ipython",
    "version": 3
   },
   "file_extension": ".py",
   "mimetype": "text/x-python",
   "name": "python",
   "nbconvert_exporter": "python",
   "pygments_lexer": "ipython3",
   "version": "3.9.5"
  },
  "toc": {
   "base_numbering": 1,
   "nav_menu": {},
   "number_sections": true,
   "sideBar": true,
   "skip_h1_title": false,
   "title_cell": "Table of Contents",
   "title_sidebar": "Contents",
   "toc_cell": false,
   "toc_position": {},
   "toc_section_display": true,
   "toc_window_display": false
  }
 },
 "nbformat": 4,
 "nbformat_minor": 5
}
